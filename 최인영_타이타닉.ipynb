{
  "nbformat": 4,
  "nbformat_minor": 0,
  "metadata": {
    "colab": {
      "provenance": [],
      "collapsed_sections": [
        "g2vA6P11ckRp",
        "lk_JvtSSckRz",
        "5NQsCI2BckRz",
        "enHNrSVxckR5",
        "JEbHsmipckR-",
        "fFkVIKB1ckR_"
      ],
      "toc_visible": true
    },
    "language_info": {
      "codemirror_mode": {
        "name": "ipython",
        "version": 3
      },
      "file_extension": ".py",
      "mimetype": "text/x-python",
      "name": "python",
      "nbconvert_exporter": "python",
      "pygments_lexer": "ipython3",
      "version": "3.6.5"
    },
    "kernelspec": {
      "display_name": "Python 3",
      "language": "python",
      "name": "python3"
    }
  },
  "cells": [
    {
      "cell_type": "markdown",
      "metadata": {
        "id": "EBWZv4EfckP-"
      },
      "source": [
        "train['Sex'] = train['Sex'].map({  'male':1 , 'female':0   })\n",
        "train['Embarked'] = train['Embarked'].map({ 'S':0, 'C':1, 'Q':2  })\n",
        "\n",
        "train['Embarked'] = train['Embarked'].fillna( -1 )\n",
        "train['Age'] = train['Age'].fillna( -1 )\n",
        "\n",
        "clf = RandomForestClassifier( max_depth=4 , max_features=5 , n_estimators=1000 )\n",
        "X = train[ ['Pclass', 'Age', 'SibSp', 'Parch','Sex' ,'Fare','Embarked'] ]\n",
        "y = train['Survived']\n",
        "clf.fit(X,y)\n",
        "\n",
        "test['Sex'] = test['Sex'].map({  'male':1 , 'female':0   })\n",
        "test['Embarked'] = test['Embarked'].map({ 'S':0, 'C':1, 'Q':2  })\n",
        "\n",
        "test['Embarked'] = test['Embarked'].fillna(-1)\n",
        "test['Age'] = test['Age'].fillna( -1 )\n",
        "test['Fare'] = test['Fare'].fillna( -1 )\n",
        "\n",
        "X_test = test[ ['Pclass', 'Age', 'SibSp', 'Parch','Sex' ,'Fare','Embarked'] ]\n",
        "\n",
        "test['Survived']=clf.predict_proba(X_test)[:,1]\n",
        "\n",
        "test[['PassengerId','Survived']].to_csv(\"rf_first.csv\",index=False)\n",
        "\n",
        "train.columns\n",
        "\n",
        "train['Cabin']=train['Cabin'].str.slice(0,1)\n",
        "train['Cabin']=train['Cabin'].map({'A':0,'B':1,'C':2,'D':3,'E':4,'F':5,'G':6,'T':7})\n",
        "train['Cabin']=train['Cabin'].fillna(-1)\n",
        "\n",
        "test['Cabin']=test['Cabin'].str.slice(0,1)\n",
        "test['Cabin']=test['Cabin'].map({'A':0,'B':1,'C':2,'D':3,'E':4,'F':5,'G':6,'T':7})\n",
        "test['Cabin']=test['Cabin'].fillna(-1)\n",
        "\n",
        "clf = RandomForestClassifier( max_depth=4 , max_features=5 , n_estimators=1000 )\n",
        "X = train[ ['Pclass', 'Age', 'SibSp', 'Parch','Sex' ,'Fare','Embarked','Cabin'] ]\n",
        "y = train['Survived']\n",
        "clf.fit(X,y)\n",
        "\n",
        "X_test = test[ ['Pclass', 'Age', 'SibSp', 'Parch','Sex' ,'Fare','Embarked','Cabin'] ]\n",
        "test['Survived']=clf.predict_proba(X_test)[:,1]\n",
        "\n",
        "test[['PassengerId','Survived']].to_csv(\"FE_first.csv\",index=False)\n",
        "\n",
        "sns.kdeplot(train.loc[train['Survived']==0]['Age'],label='death')\n",
        "sns.kdeplot(train.loc[train['Survived']==1]['Age'],label='survived')\n",
        "\n",
        "train['is_young']=((train['Age']<=10)&(train['Age']>=0)).astype(int)\n",
        "test['is_young']=((test['Age']<=10)&(test['Age']>=0)).astype(int)\n",
        "\n",
        "clf = RandomForestClassifier( max_depth=4 , max_features=5 , n_estimators=1000 )\n",
        "X = train[ ['Pclass', 'Age', 'SibSp', 'Parch','Sex' ,'Fare','Embarked','Cabin', 'is_young'] ]\n",
        "y = train['Survived']\n",
        "clf.fit(X,y)\n",
        "\n",
        "X_test = test[ ['Pclass', 'Age', 'SibSp', 'Parch','Sex' ,'Fare','Embarked','Cabin', 'is_young'] ]\n",
        "test['Survived']=clf.predict_proba(X_test)[:,1]\n",
        "\n",
        "test[['PassengerId','Survived']].to_csv(\"FE_first.csv\",index=False)\n",
        "\n",
        "train['family_size']=train['SibSp']+train['Parch']+1\n",
        "test['family_size']=test['SibSp']+test['Parch']+1\n",
        "\n",
        "clf = RandomForestClassifier( max_depth=4 , max_features=5 , n_estimators=1000 )\n",
        "X = train[ ['Pclass', 'Age', 'SibSp', 'Parch','Sex' ,'Fare','Embarked','Cabin', 'is_young', 'family_size'] ]\n",
        "y = train['Survived']\n",
        "clf.fit(X,y)\n",
        "\n",
        "X_test = test[ ['Pclass', 'Age', 'SibSp', 'Parch','Sex' ,'Fare','Embarked','Cabin', 'is_young', 'family_size'] ]\n",
        "test['Survived']=clf.predict_proba(X_test)[:,1]\n",
        "\n",
        "test[['PassengerId','Survived']].to_csv(\"FE_first.csv\",index=False)"
      ]
    },
    {
      "cell_type": "code",
      "metadata": {
        "id": "mZHnS82LckQA",
        "outputId": "d814fb84-eb1c-4c0e-da61-b9756fc016bf",
        "colab": {
          "base_uri": "https://localhost:8080/",
          "height": 68
        }
      },
      "source": [
        "train.columns"
      ],
      "execution_count": null,
      "outputs": [
        {
          "output_type": "execute_result",
          "data": {
            "text/plain": [
              "Index(['PassengerId', 'Survived', 'Pclass', 'Name', 'Sex', 'Age', 'SibSp',\n",
              "       'Parch', 'Ticket', 'Fare', 'Cabin', 'Embarked'],\n",
              "      dtype='object')"
            ]
          },
          "metadata": {
            "tags": []
          },
          "execution_count": 91
        }
      ]
    },
    {
      "cell_type": "code",
      "metadata": {
        "id": "yxgKb3hHckQG",
        "outputId": "8df56ac4-7a8e-41cb-896d-1458e6d4e80a",
        "colab": {
          "base_uri": "https://localhost:8080/",
          "height": 204
        }
      },
      "source": [
        "train.head()"
      ],
      "execution_count": null,
      "outputs": [
        {
          "output_type": "execute_result",
          "data": {
            "text/html": [
              "<div>\n",
              "<style scoped>\n",
              "    .dataframe tbody tr th:only-of-type {\n",
              "        vertical-align: middle;\n",
              "    }\n",
              "\n",
              "    .dataframe tbody tr th {\n",
              "        vertical-align: top;\n",
              "    }\n",
              "\n",
              "    .dataframe thead th {\n",
              "        text-align: right;\n",
              "    }\n",
              "</style>\n",
              "<table border=\"1\" class=\"dataframe\">\n",
              "  <thead>\n",
              "    <tr style=\"text-align: right;\">\n",
              "      <th></th>\n",
              "      <th>PassengerId</th>\n",
              "      <th>Survived</th>\n",
              "      <th>Pclass</th>\n",
              "      <th>Name</th>\n",
              "      <th>Sex</th>\n",
              "      <th>Age</th>\n",
              "      <th>SibSp</th>\n",
              "      <th>Parch</th>\n",
              "      <th>Ticket</th>\n",
              "      <th>Fare</th>\n",
              "      <th>Cabin</th>\n",
              "      <th>Embarked</th>\n",
              "    </tr>\n",
              "  </thead>\n",
              "  <tbody>\n",
              "    <tr>\n",
              "      <th>0</th>\n",
              "      <td>1</td>\n",
              "      <td>0</td>\n",
              "      <td>3</td>\n",
              "      <td>Braund, Mr. Owen Harris</td>\n",
              "      <td>male</td>\n",
              "      <td>22.0</td>\n",
              "      <td>1</td>\n",
              "      <td>0</td>\n",
              "      <td>A/5 21171</td>\n",
              "      <td>7.2500</td>\n",
              "      <td>NaN</td>\n",
              "      <td>S</td>\n",
              "    </tr>\n",
              "    <tr>\n",
              "      <th>1</th>\n",
              "      <td>2</td>\n",
              "      <td>1</td>\n",
              "      <td>1</td>\n",
              "      <td>Cumings, Mrs. John Bradley (Florence Briggs Th...</td>\n",
              "      <td>female</td>\n",
              "      <td>38.0</td>\n",
              "      <td>1</td>\n",
              "      <td>0</td>\n",
              "      <td>PC 17599</td>\n",
              "      <td>71.2833</td>\n",
              "      <td>C85</td>\n",
              "      <td>C</td>\n",
              "    </tr>\n",
              "    <tr>\n",
              "      <th>2</th>\n",
              "      <td>3</td>\n",
              "      <td>1</td>\n",
              "      <td>3</td>\n",
              "      <td>Heikkinen, Miss. Laina</td>\n",
              "      <td>female</td>\n",
              "      <td>26.0</td>\n",
              "      <td>0</td>\n",
              "      <td>0</td>\n",
              "      <td>STON/O2. 3101282</td>\n",
              "      <td>7.9250</td>\n",
              "      <td>NaN</td>\n",
              "      <td>S</td>\n",
              "    </tr>\n",
              "    <tr>\n",
              "      <th>3</th>\n",
              "      <td>4</td>\n",
              "      <td>1</td>\n",
              "      <td>1</td>\n",
              "      <td>Futrelle, Mrs. Jacques Heath (Lily May Peel)</td>\n",
              "      <td>female</td>\n",
              "      <td>35.0</td>\n",
              "      <td>1</td>\n",
              "      <td>0</td>\n",
              "      <td>113803</td>\n",
              "      <td>53.1000</td>\n",
              "      <td>C123</td>\n",
              "      <td>S</td>\n",
              "    </tr>\n",
              "    <tr>\n",
              "      <th>4</th>\n",
              "      <td>5</td>\n",
              "      <td>0</td>\n",
              "      <td>3</td>\n",
              "      <td>Allen, Mr. William Henry</td>\n",
              "      <td>male</td>\n",
              "      <td>35.0</td>\n",
              "      <td>0</td>\n",
              "      <td>0</td>\n",
              "      <td>373450</td>\n",
              "      <td>8.0500</td>\n",
              "      <td>NaN</td>\n",
              "      <td>S</td>\n",
              "    </tr>\n",
              "  </tbody>\n",
              "</table>\n",
              "</div>"
            ],
            "text/plain": [
              "   PassengerId  Survived  Pclass  ...     Fare Cabin  Embarked\n",
              "0            1         0       3  ...   7.2500   NaN         S\n",
              "1            2         1       1  ...  71.2833   C85         C\n",
              "2            3         1       3  ...   7.9250   NaN         S\n",
              "3            4         1       1  ...  53.1000  C123         S\n",
              "4            5         0       3  ...   8.0500   NaN         S\n",
              "\n",
              "[5 rows x 12 columns]"
            ]
          },
          "metadata": {
            "tags": []
          },
          "execution_count": 92
        }
      ]
    },
    {
      "cell_type": "code",
      "metadata": {
        "id": "5ugKR9IjckQJ",
        "outputId": "fe42b254-79ec-40d4-95af-fd8e133479f4",
        "colab": {
          "base_uri": "https://localhost:8080/",
          "height": 306
        }
      },
      "source": [
        "train.info()\n",
        "\n",
        "# Age 177 null\n",
        "# Cabin 687 null\n",
        "# Embarked 2 null"
      ],
      "execution_count": null,
      "outputs": [
        {
          "output_type": "stream",
          "text": [
            "<class 'pandas.core.frame.DataFrame'>\n",
            "RangeIndex: 891 entries, 0 to 890\n",
            "Data columns (total 12 columns):\n",
            "PassengerId    891 non-null int64\n",
            "Survived       891 non-null int64\n",
            "Pclass         891 non-null int64\n",
            "Name           891 non-null object\n",
            "Sex            891 non-null object\n",
            "Age            714 non-null float64\n",
            "SibSp          891 non-null int64\n",
            "Parch          891 non-null int64\n",
            "Ticket         891 non-null object\n",
            "Fare           891 non-null float64\n",
            "Cabin          204 non-null object\n",
            "Embarked       889 non-null object\n",
            "dtypes: float64(2), int64(5), object(5)\n",
            "memory usage: 83.6+ KB\n"
          ],
          "name": "stdout"
        }
      ]
    },
    {
      "cell_type": "code",
      "metadata": {
        "id": "qx7BYGKZckQL",
        "outputId": "555d3b2a-3990-420d-aff0-43a7b12016c2",
        "colab": {
          "base_uri": "https://localhost:8080/",
          "height": 289
        }
      },
      "source": [
        "test.info()\n",
        "\n",
        "# Age 86 null\n",
        "# Fare 1 null\n",
        "# Cabin 326 null"
      ],
      "execution_count": null,
      "outputs": [
        {
          "output_type": "stream",
          "text": [
            "<class 'pandas.core.frame.DataFrame'>\n",
            "RangeIndex: 418 entries, 0 to 417\n",
            "Data columns (total 11 columns):\n",
            "PassengerId    418 non-null int64\n",
            "Pclass         418 non-null int64\n",
            "Name           418 non-null object\n",
            "Sex            418 non-null object\n",
            "Age            332 non-null float64\n",
            "SibSp          418 non-null int64\n",
            "Parch          418 non-null int64\n",
            "Ticket         418 non-null object\n",
            "Fare           417 non-null float64\n",
            "Cabin          91 non-null object\n",
            "Embarked       418 non-null object\n",
            "dtypes: float64(2), int64(4), object(5)\n",
            "memory usage: 36.0+ KB\n"
          ],
          "name": "stdout"
        }
      ]
    },
    {
      "cell_type": "code",
      "metadata": {
        "id": "BiV3cPz1ckP4"
      },
      "source": [
        "import pandas as pd\n",
        "import warnings\n",
        "warnings.filterwarnings('ignore')\n",
        "import seaborn as sns\n",
        "import matplotlib.pyplot as plt\n",
        "plt.style.use('fivethirtyeight')\n",
        "import numpy as np\n",
        "train = pd.read_csv(\"http://s3.amazonaws.com/assets.datacamp.com/course/Kaggle/train.csv\")\n",
        "test = pd.read_csv(\"http://s3.amazonaws.com/assets.datacamp.com/course/Kaggle/test.csv\")\n",
        "\n",
        "# machine learning\n",
        "from sklearn.ensemble import RandomForestClassifier"
      ],
      "execution_count": null,
      "outputs": []
    },
    {
      "cell_type": "code",
      "metadata": {
        "id": "47q6QVoackQO",
        "outputId": "6993a108-b420-41ba-af5b-56b10cf0c698",
        "colab": {
          "base_uri": "https://localhost:8080/",
          "height": 297
        }
      },
      "source": [
        "train.describe()"
      ],
      "execution_count": null,
      "outputs": [
        {
          "output_type": "execute_result",
          "data": {
            "text/html": [
              "<div>\n",
              "<style scoped>\n",
              "    .dataframe tbody tr th:only-of-type {\n",
              "        vertical-align: middle;\n",
              "    }\n",
              "\n",
              "    .dataframe tbody tr th {\n",
              "        vertical-align: top;\n",
              "    }\n",
              "\n",
              "    .dataframe thead th {\n",
              "        text-align: right;\n",
              "    }\n",
              "</style>\n",
              "<table border=\"1\" class=\"dataframe\">\n",
              "  <thead>\n",
              "    <tr style=\"text-align: right;\">\n",
              "      <th></th>\n",
              "      <th>PassengerId</th>\n",
              "      <th>Survived</th>\n",
              "      <th>Pclass</th>\n",
              "      <th>Age</th>\n",
              "      <th>SibSp</th>\n",
              "      <th>Parch</th>\n",
              "      <th>Fare</th>\n",
              "    </tr>\n",
              "  </thead>\n",
              "  <tbody>\n",
              "    <tr>\n",
              "      <th>count</th>\n",
              "      <td>891.000000</td>\n",
              "      <td>891.000000</td>\n",
              "      <td>891.000000</td>\n",
              "      <td>714.000000</td>\n",
              "      <td>891.000000</td>\n",
              "      <td>891.000000</td>\n",
              "      <td>891.000000</td>\n",
              "    </tr>\n",
              "    <tr>\n",
              "      <th>mean</th>\n",
              "      <td>446.000000</td>\n",
              "      <td>0.383838</td>\n",
              "      <td>2.308642</td>\n",
              "      <td>29.699118</td>\n",
              "      <td>0.523008</td>\n",
              "      <td>0.381594</td>\n",
              "      <td>32.204208</td>\n",
              "    </tr>\n",
              "    <tr>\n",
              "      <th>std</th>\n",
              "      <td>257.353842</td>\n",
              "      <td>0.486592</td>\n",
              "      <td>0.836071</td>\n",
              "      <td>14.526497</td>\n",
              "      <td>1.102743</td>\n",
              "      <td>0.806057</td>\n",
              "      <td>49.693429</td>\n",
              "    </tr>\n",
              "    <tr>\n",
              "      <th>min</th>\n",
              "      <td>1.000000</td>\n",
              "      <td>0.000000</td>\n",
              "      <td>1.000000</td>\n",
              "      <td>0.420000</td>\n",
              "      <td>0.000000</td>\n",
              "      <td>0.000000</td>\n",
              "      <td>0.000000</td>\n",
              "    </tr>\n",
              "    <tr>\n",
              "      <th>25%</th>\n",
              "      <td>223.500000</td>\n",
              "      <td>0.000000</td>\n",
              "      <td>2.000000</td>\n",
              "      <td>20.125000</td>\n",
              "      <td>0.000000</td>\n",
              "      <td>0.000000</td>\n",
              "      <td>7.910400</td>\n",
              "    </tr>\n",
              "    <tr>\n",
              "      <th>50%</th>\n",
              "      <td>446.000000</td>\n",
              "      <td>0.000000</td>\n",
              "      <td>3.000000</td>\n",
              "      <td>28.000000</td>\n",
              "      <td>0.000000</td>\n",
              "      <td>0.000000</td>\n",
              "      <td>14.454200</td>\n",
              "    </tr>\n",
              "    <tr>\n",
              "      <th>75%</th>\n",
              "      <td>668.500000</td>\n",
              "      <td>1.000000</td>\n",
              "      <td>3.000000</td>\n",
              "      <td>38.000000</td>\n",
              "      <td>1.000000</td>\n",
              "      <td>0.000000</td>\n",
              "      <td>31.000000</td>\n",
              "    </tr>\n",
              "    <tr>\n",
              "      <th>max</th>\n",
              "      <td>891.000000</td>\n",
              "      <td>1.000000</td>\n",
              "      <td>3.000000</td>\n",
              "      <td>80.000000</td>\n",
              "      <td>8.000000</td>\n",
              "      <td>6.000000</td>\n",
              "      <td>512.329200</td>\n",
              "    </tr>\n",
              "  </tbody>\n",
              "</table>\n",
              "</div>"
            ],
            "text/plain": [
              "       PassengerId    Survived      Pclass  ...       SibSp       Parch        Fare\n",
              "count   891.000000  891.000000  891.000000  ...  891.000000  891.000000  891.000000\n",
              "mean    446.000000    0.383838    2.308642  ...    0.523008    0.381594   32.204208\n",
              "std     257.353842    0.486592    0.836071  ...    1.102743    0.806057   49.693429\n",
              "min       1.000000    0.000000    1.000000  ...    0.000000    0.000000    0.000000\n",
              "25%     223.500000    0.000000    2.000000  ...    0.000000    0.000000    7.910400\n",
              "50%     446.000000    0.000000    3.000000  ...    0.000000    0.000000   14.454200\n",
              "75%     668.500000    1.000000    3.000000  ...    1.000000    0.000000   31.000000\n",
              "max     891.000000    1.000000    3.000000  ...    8.000000    6.000000  512.329200\n",
              "\n",
              "[8 rows x 7 columns]"
            ]
          },
          "metadata": {
            "tags": []
          },
          "execution_count": 95
        }
      ]
    },
    {
      "cell_type": "code",
      "metadata": {
        "id": "gaDooxpkckQQ"
      },
      "source": [
        " all_data = [train, test]"
      ],
      "execution_count": null,
      "outputs": []
    },
    {
      "cell_type": "markdown",
      "metadata": {
        "id": "prUacjgnckQS"
      },
      "source": [
        "# Pclass"
      ]
    },
    {
      "cell_type": "code",
      "metadata": {
        "id": "tKckMzkFckQT",
        "outputId": "28c3a157-a537-486f-b382-d3439860c053",
        "colab": {
          "base_uri": "https://localhost:8080/",
          "height": 316
        }
      },
      "source": [
        "train.groupby('Pclass')['Survived'].mean().plot.bar()\n",
        "\n",
        "# 1층이 생존률이 가장 높음"
      ],
      "execution_count": null,
      "outputs": [
        {
          "output_type": "execute_result",
          "data": {
            "text/plain": [
              "<matplotlib.axes._subplots.AxesSubplot at 0x7f26601b41d0>"
            ]
          },
          "metadata": {
            "tags": []
          },
          "execution_count": 97
        },
        {
          "output_type": "display_data",
          "data": {
            "image/png": "[encoded data removed]",
            "text/plain": [
              "<Figure size 432x288 with 1 Axes>"
            ]
          },
          "metadata": {
            "tags": []
          }
        }
      ]
    },
    {
      "cell_type": "markdown",
      "metadata": {
        "id": "A-d0oWPTckQV"
      },
      "source": [
        "# Name"
      ]
    },
    {
      "cell_type": "code",
      "metadata": {
        "id": "Y2Rcj57wckQW",
        "outputId": "46b97870-8f9e-4a52-96ea-c3550f2122ae",
        "colab": {
          "base_uri": "https://localhost:8080/",
          "height": 1071
        }
      },
      "source": [
        "train['Name'].value_counts()\n",
        "\n",
        "# 나중에 특징 뽑아내보자."
      ],
      "execution_count": null,
      "outputs": [
        {
          "output_type": "execute_result",
          "data": {
            "text/plain": [
              "Barah, Mr. Hanna Assi                               1\n",
              "Serepeca, Miss. Augusta                             1\n",
              "Matthews, Mr. William John                          1\n",
              "Kimball, Mr. Edwin Nelson Jr                        1\n",
              "Backstrom, Mr. Karl Alfred                          1\n",
              "Ridsdale, Miss. Lucy                                1\n",
              "Goldsmith, Mr. Frank John                           1\n",
              "Burns, Miss. Elizabeth Margaret                     1\n",
              "Bishop, Mr. Dickinson H                             1\n",
              "Sagesser, Mlle. Emma                                1\n",
              "Sinkkonen, Miss. Anna                               1\n",
              "Ryan, Mr. Patrick                                   1\n",
              "Persson, Mr. Ernst Ulrik                            1\n",
              "Leyson, Mr. Robert William Norman                   1\n",
              "Mannion, Miss. Margareth                            1\n",
              "Jansson, Mr. Carl Olof                              1\n",
              "Betros, Mr. Tannous                                 1\n",
              "Reynaldo, Ms. Encarnacion                           1\n",
              "Mernagh, Mr. Robert                                 1\n",
              "Warren, Mrs. Frank Manley (Anna Sophia Atkinson)    1\n",
              "Panula, Master. Juha Niilo                          1\n",
              "Celotti, Mr. Francesco                              1\n",
              "Hirvonen, Miss. Hildur E                            1\n",
              "Jacobsohn, Mr. Sidney Samuel                        1\n",
              "Williams, Mr. Leslie                                1\n",
              "Goldenberg, Mr. Samuel L                            1\n",
              "Douglas, Mr. Walter Donald                          1\n",
              "Isham, Miss. Ann Elizabeth                          1\n",
              "Carbines, Mr. William                               1\n",
              "Kvillner, Mr. Johan Henrik Johannesson              1\n",
              "                                                   ..\n",
              "Rintamaki, Mr. Matti                                1\n",
              "Wick, Mrs. George Dennick (Mary Hitchcock)          1\n",
              "Hamalainen, Mrs. William (Anna)                     1\n",
              "Lahoud, Mr. Sarkis                                  1\n",
              "Partner, Mr. Austen                                 1\n",
              "Renouf, Mrs. Peter Henry (Lillian Jefferys)         1\n",
              "Karaic, Mr. Milan                                   1\n",
              "Smith, Mr. Richard William                          1\n",
              "Endres, Miss. Caroline Louise                       1\n",
              "Nye, Mrs. (Elizabeth Ramell)                        1\n",
              "Yrois, Miss. Henriette (\"Mrs Harbeck\")              1\n",
              "Palsson, Miss. Torborg Danira                       1\n",
              "Bowen, Mr. David John \"Dai\"                         1\n",
              "Johnson, Mr. Alfred                                 1\n",
              "Harris, Mr. George                                  1\n",
              "Saad, Mr. Khalil                                    1\n",
              "Hickman, Mr. Leonard Mark                           1\n",
              "Panula, Mrs. Juha (Maria Emilia Ojala)              1\n",
              "O'Brien, Mr. Timothy                                1\n",
              "Garfirth, Mr. John                                  1\n",
              "Sage, Miss. Constance Gladys                        1\n",
              "Paulner, Mr. Uscher                                 1\n",
              "Johnson, Mr. Malkolm Joackim                        1\n",
              "Mudd, Mr. Thomas Charles                            1\n",
              "Slayter, Miss. Hilda Mary                           1\n",
              "McGovern, Miss. Mary                                1\n",
              "Rommetvedt, Mr. Knud Paust                          1\n",
              "Gustafsson, Mr. Johan Birger                        1\n",
              "Slemen, Mr. Richard James                           1\n",
              "Connors, Mr. Patrick                                1\n",
              "Name: Name, Length: 891, dtype: int64"
            ]
          },
          "metadata": {
            "tags": []
          },
          "execution_count": 98
        }
      ]
    },
    {
      "cell_type": "markdown",
      "metadata": {
        "id": "1Abu3YV9ckQY"
      },
      "source": [
        "# Sex"
      ]
    },
    {
      "cell_type": "code",
      "metadata": {
        "id": "rYx7pdPackQZ",
        "outputId": "64d69f67-ceb6-4cd2-c4bc-1fb3958b728d",
        "colab": {
          "base_uri": "https://localhost:8080/",
          "height": 355
        }
      },
      "source": [
        "train.groupby('Sex')['Survived'].mean().plot.bar()\n",
        "\n",
        "# 여성의 생존률이 압도적으로 높음"
      ],
      "execution_count": null,
      "outputs": [
        {
          "output_type": "execute_result",
          "data": {
            "text/plain": [
              "<matplotlib.axes._subplots.AxesSubplot at 0x7f26601a0da0>"
            ]
          },
          "metadata": {
            "tags": []
          },
          "execution_count": 99
        },
        {
          "output_type": "display_data",
          "data": {
            "image/png": "[encoded data removed]",
            "text/plain": [
              "<Figure size 432x288 with 1 Axes>"
            ]
          },
          "metadata": {
            "tags": []
          }
        }
      ]
    },
    {
      "cell_type": "markdown",
      "metadata": {
        "id": "Oi08mBJnckQa"
      },
      "source": [
        "## Sex astype(int)"
      ]
    },
    {
      "cell_type": "code",
      "metadata": {
        "id": "7Cd_xousckQb"
      },
      "source": [
        "for data in all_data:\n",
        "    data['Sex'] = data['Sex'].map({  'male':1 , 'female':0})\n",
        "\n",
        "# 카테고리화"
      ],
      "execution_count": null,
      "outputs": []
    },
    {
      "cell_type": "code",
      "metadata": {
        "id": "ssOVJ9u0ckQc",
        "outputId": "9f9c02c2-07b1-44d5-bdbe-b3ece670ee3c",
        "colab": {
          "base_uri": "https://localhost:8080/",
          "height": 204
        }
      },
      "source": [
        "train.head()"
      ],
      "execution_count": null,
      "outputs": [
        {
          "output_type": "execute_result",
          "data": {
            "text/html": [
              "<div>\n",
              "<style scoped>\n",
              "    .dataframe tbody tr th:only-of-type {\n",
              "        vertical-align: middle;\n",
              "    }\n",
              "\n",
              "    .dataframe tbody tr th {\n",
              "        vertical-align: top;\n",
              "    }\n",
              "\n",
              "    .dataframe thead th {\n",
              "        text-align: right;\n",
              "    }\n",
              "</style>\n",
              "<table border=\"1\" class=\"dataframe\">\n",
              "  <thead>\n",
              "    <tr style=\"text-align: right;\">\n",
              "      <th></th>\n",
              "      <th>PassengerId</th>\n",
              "      <th>Survived</th>\n",
              "      <th>Pclass</th>\n",
              "      <th>Name</th>\n",
              "      <th>Sex</th>\n",
              "      <th>Age</th>\n",
              "      <th>SibSp</th>\n",
              "      <th>Parch</th>\n",
              "      <th>Ticket</th>\n",
              "      <th>Fare</th>\n",
              "      <th>Cabin</th>\n",
              "      <th>Embarked</th>\n",
              "    </tr>\n",
              "  </thead>\n",
              "  <tbody>\n",
              "    <tr>\n",
              "      <th>0</th>\n",
              "      <td>1</td>\n",
              "      <td>0</td>\n",
              "      <td>3</td>\n",
              "      <td>Braund, Mr. Owen Harris</td>\n",
              "      <td>1</td>\n",
              "      <td>22.0</td>\n",
              "      <td>1</td>\n",
              "      <td>0</td>\n",
              "      <td>A/5 21171</td>\n",
              "      <td>7.2500</td>\n",
              "      <td>NaN</td>\n",
              "      <td>S</td>\n",
              "    </tr>\n",
              "    <tr>\n",
              "      <th>1</th>\n",
              "      <td>2</td>\n",
              "      <td>1</td>\n",
              "      <td>1</td>\n",
              "      <td>Cumings, Mrs. John Bradley (Florence Briggs Th...</td>\n",
              "      <td>0</td>\n",
              "      <td>38.0</td>\n",
              "      <td>1</td>\n",
              "      <td>0</td>\n",
              "      <td>PC 17599</td>\n",
              "      <td>71.2833</td>\n",
              "      <td>C85</td>\n",
              "      <td>C</td>\n",
              "    </tr>\n",
              "    <tr>\n",
              "      <th>2</th>\n",
              "      <td>3</td>\n",
              "      <td>1</td>\n",
              "      <td>3</td>\n",
              "      <td>Heikkinen, Miss. Laina</td>\n",
              "      <td>0</td>\n",
              "      <td>26.0</td>\n",
              "      <td>0</td>\n",
              "      <td>0</td>\n",
              "      <td>STON/O2. 3101282</td>\n",
              "      <td>7.9250</td>\n",
              "      <td>NaN</td>\n",
              "      <td>S</td>\n",
              "    </tr>\n",
              "    <tr>\n",
              "      <th>3</th>\n",
              "      <td>4</td>\n",
              "      <td>1</td>\n",
              "      <td>1</td>\n",
              "      <td>Futrelle, Mrs. Jacques Heath (Lily May Peel)</td>\n",
              "      <td>0</td>\n",
              "      <td>35.0</td>\n",
              "      <td>1</td>\n",
              "      <td>0</td>\n",
              "      <td>113803</td>\n",
              "      <td>53.1000</td>\n",
              "      <td>C123</td>\n",
              "      <td>S</td>\n",
              "    </tr>\n",
              "    <tr>\n",
              "      <th>4</th>\n",
              "      <td>5</td>\n",
              "      <td>0</td>\n",
              "      <td>3</td>\n",
              "      <td>Allen, Mr. William Henry</td>\n",
              "      <td>1</td>\n",
              "      <td>35.0</td>\n",
              "      <td>0</td>\n",
              "      <td>0</td>\n",
              "      <td>373450</td>\n",
              "      <td>8.0500</td>\n",
              "      <td>NaN</td>\n",
              "      <td>S</td>\n",
              "    </tr>\n",
              "  </tbody>\n",
              "</table>\n",
              "</div>"
            ],
            "text/plain": [
              "   PassengerId  Survived  Pclass  ...     Fare  Cabin  Embarked\n",
              "0            1         0       3  ...   7.2500    NaN         S\n",
              "1            2         1       1  ...  71.2833    C85         C\n",
              "2            3         1       3  ...   7.9250    NaN         S\n",
              "3            4         1       1  ...  53.1000   C123         S\n",
              "4            5         0       3  ...   8.0500    NaN         S\n",
              "\n",
              "[5 rows x 12 columns]"
            ]
          },
          "metadata": {
            "tags": []
          },
          "execution_count": 101
        }
      ]
    },
    {
      "cell_type": "markdown",
      "metadata": {
        "id": "-ExcsVTKckQe"
      },
      "source": [
        "# Age"
      ]
    },
    {
      "cell_type": "code",
      "metadata": {
        "id": "K2HlYZk7ckQe",
        "outputId": "465ace04-2a5a-4460-8f7c-1c937c8dae78",
        "colab": {
          "base_uri": "https://localhost:8080/",
          "height": 299
        }
      },
      "source": [
        "sns.kdeplot(train.loc[train['Survived']==0]['Age'].dropna(),label='death')\n",
        "sns.kdeplot(train.loc[train['Survived']==1]['Age'].dropna(),label='survived')\n",
        "\n",
        "# 40세 이하인 사람들이 사망률이 높음\n",
        "# null 값을 다른 특성들과 연관있는지 살펴보고 채워놓자."
      ],
      "execution_count": null,
      "outputs": [
        {
          "output_type": "execute_result",
          "data": {
            "text/plain": [
              "<matplotlib.axes._subplots.AxesSubplot at 0x7f26600e2c88>"
            ]
          },
          "metadata": {
            "tags": []
          },
          "execution_count": 102
        },
        {
          "output_type": "display_data",
          "data": {
            "image/png": "[encoded data removed]",
            "text/plain": [
              "<Figure size 432x288 with 1 Axes>"
            ]
          },
          "metadata": {
            "tags": []
          }
        }
      ]
    },
    {
      "cell_type": "markdown",
      "metadata": {
        "id": "C7d3kYkDckQf"
      },
      "source": [
        "# SibSp"
      ]
    },
    {
      "cell_type": "code",
      "metadata": {
        "id": "yjZVI7BkckQg",
        "outputId": "5870b21d-7a94-4e20-99fe-45290b3dcbda",
        "colab": {
          "base_uri": "https://localhost:8080/",
          "height": 153
        }
      },
      "source": [
        "train['SibSp'].value_counts()"
      ],
      "execution_count": null,
      "outputs": [
        {
          "output_type": "execute_result",
          "data": {
            "text/plain": [
              "0    608\n",
              "1    209\n",
              "2     28\n",
              "4     18\n",
              "3     16\n",
              "8      7\n",
              "5      5\n",
              "Name: SibSp, dtype: int64"
            ]
          },
          "metadata": {
            "tags": []
          },
          "execution_count": 103
        }
      ]
    },
    {
      "cell_type": "code",
      "metadata": {
        "id": "KjwQ-AMRckQh",
        "outputId": "13342ead-f86d-45a8-dcd8-f291eebc6bdb",
        "colab": {
          "base_uri": "https://localhost:8080/",
          "height": 316
        }
      },
      "source": [
        "train.groupby('SibSp')['Survived'].mean().plot.bar()\n",
        "\n",
        "# 혼자일수록 사망률 높음"
      ],
      "execution_count": null,
      "outputs": [
        {
          "output_type": "execute_result",
          "data": {
            "text/plain": [
              "<matplotlib.axes._subplots.AxesSubplot at 0x7f266008f320>"
            ]
          },
          "metadata": {
            "tags": []
          },
          "execution_count": 104
        },
        {
          "output_type": "display_data",
          "data": {
            "image/png": "[encoded data removed]",
            "text/plain": [
              "<Figure size 432x288 with 1 Axes>"
            ]
          },
          "metadata": {
            "tags": []
          }
        }
      ]
    },
    {
      "cell_type": "markdown",
      "metadata": {
        "id": "VU45ce_1ckQj"
      },
      "source": [
        "# Parch"
      ]
    },
    {
      "cell_type": "code",
      "metadata": {
        "id": "Gl2c3nT0ckQj",
        "outputId": "49416b00-3767-4aee-b4fb-88946c399530",
        "colab": {
          "base_uri": "https://localhost:8080/",
          "height": 153
        }
      },
      "source": [
        "train['Parch'].value_counts()"
      ],
      "execution_count": null,
      "outputs": [
        {
          "output_type": "execute_result",
          "data": {
            "text/plain": [
              "0    678\n",
              "1    118\n",
              "2     80\n",
              "5      5\n",
              "3      5\n",
              "4      4\n",
              "6      1\n",
              "Name: Parch, dtype: int64"
            ]
          },
          "metadata": {
            "tags": []
          },
          "execution_count": 105
        }
      ]
    },
    {
      "cell_type": "code",
      "metadata": {
        "id": "3TbClEAdckQl",
        "outputId": "d3748c32-f9bb-454b-eecf-871fbb72c61a",
        "colab": {
          "base_uri": "https://localhost:8080/",
          "height": 316
        }
      },
      "source": [
        "train.groupby('Parch')['Survived'].mean().plot.bar()\n",
        "\n",
        "# 1, 3일때 사망률 높음"
      ],
      "execution_count": null,
      "outputs": [
        {
          "output_type": "execute_result",
          "data": {
            "text/plain": [
              "<matplotlib.axes._subplots.AxesSubplot at 0x7f266006ed30>"
            ]
          },
          "metadata": {
            "tags": []
          },
          "execution_count": 106
        },
        {
          "output_type": "display_data",
          "data": {
            "image/png": "[encoded data removed]",
            "text/plain": [
              "<Figure size 432x288 with 1 Axes>"
            ]
          },
          "metadata": {
            "tags": []
          }
        }
      ]
    },
    {
      "cell_type": "markdown",
      "metadata": {
        "id": "_V-l266dckQm"
      },
      "source": [
        "## FamilySize 생성"
      ]
    },
    {
      "cell_type": "code",
      "metadata": {
        "id": "WAZno3duckQn"
      },
      "source": [
        "for data in all_data:\n",
        "    data['FamilySize'] = data['SibSp'] + data['Parch'] + 1"
      ],
      "execution_count": null,
      "outputs": []
    },
    {
      "cell_type": "code",
      "metadata": {
        "id": "CF_I7ag_ckQn",
        "outputId": "94dca50c-c844-4a3e-9eaf-24df162555eb",
        "colab": {
          "base_uri": "https://localhost:8080/",
          "height": 238
        }
      },
      "source": [
        "train.head()"
      ],
      "execution_count": null,
      "outputs": [
        {
          "output_type": "execute_result",
          "data": {
            "text/html": [
              "<div>\n",
              "<style scoped>\n",
              "    .dataframe tbody tr th:only-of-type {\n",
              "        vertical-align: middle;\n",
              "    }\n",
              "\n",
              "    .dataframe tbody tr th {\n",
              "        vertical-align: top;\n",
              "    }\n",
              "\n",
              "    .dataframe thead th {\n",
              "        text-align: right;\n",
              "    }\n",
              "</style>\n",
              "<table border=\"1\" class=\"dataframe\">\n",
              "  <thead>\n",
              "    <tr style=\"text-align: right;\">\n",
              "      <th></th>\n",
              "      <th>PassengerId</th>\n",
              "      <th>Survived</th>\n",
              "      <th>Pclass</th>\n",
              "      <th>Name</th>\n",
              "      <th>Sex</th>\n",
              "      <th>Age</th>\n",
              "      <th>SibSp</th>\n",
              "      <th>Parch</th>\n",
              "      <th>Ticket</th>\n",
              "      <th>Fare</th>\n",
              "      <th>Cabin</th>\n",
              "      <th>Embarked</th>\n",
              "      <th>FamilySize</th>\n",
              "    </tr>\n",
              "  </thead>\n",
              "  <tbody>\n",
              "    <tr>\n",
              "      <th>0</th>\n",
              "      <td>1</td>\n",
              "      <td>0</td>\n",
              "      <td>3</td>\n",
              "      <td>Braund, Mr. Owen Harris</td>\n",
              "      <td>1</td>\n",
              "      <td>22.0</td>\n",
              "      <td>1</td>\n",
              "      <td>0</td>\n",
              "      <td>A/5 21171</td>\n",
              "      <td>7.2500</td>\n",
              "      <td>NaN</td>\n",
              "      <td>S</td>\n",
              "      <td>2</td>\n",
              "    </tr>\n",
              "    <tr>\n",
              "      <th>1</th>\n",
              "      <td>2</td>\n",
              "      <td>1</td>\n",
              "      <td>1</td>\n",
              "      <td>Cumings, Mrs. John Bradley (Florence Briggs Th...</td>\n",
              "      <td>0</td>\n",
              "      <td>38.0</td>\n",
              "      <td>1</td>\n",
              "      <td>0</td>\n",
              "      <td>PC 17599</td>\n",
              "      <td>71.2833</td>\n",
              "      <td>C85</td>\n",
              "      <td>C</td>\n",
              "      <td>2</td>\n",
              "    </tr>\n",
              "    <tr>\n",
              "      <th>2</th>\n",
              "      <td>3</td>\n",
              "      <td>1</td>\n",
              "      <td>3</td>\n",
              "      <td>Heikkinen, Miss. Laina</td>\n",
              "      <td>0</td>\n",
              "      <td>26.0</td>\n",
              "      <td>0</td>\n",
              "      <td>0</td>\n",
              "      <td>STON/O2. 3101282</td>\n",
              "      <td>7.9250</td>\n",
              "      <td>NaN</td>\n",
              "      <td>S</td>\n",
              "      <td>1</td>\n",
              "    </tr>\n",
              "    <tr>\n",
              "      <th>3</th>\n",
              "      <td>4</td>\n",
              "      <td>1</td>\n",
              "      <td>1</td>\n",
              "      <td>Futrelle, Mrs. Jacques Heath (Lily May Peel)</td>\n",
              "      <td>0</td>\n",
              "      <td>35.0</td>\n",
              "      <td>1</td>\n",
              "      <td>0</td>\n",
              "      <td>113803</td>\n",
              "      <td>53.1000</td>\n",
              "      <td>C123</td>\n",
              "      <td>S</td>\n",
              "      <td>2</td>\n",
              "    </tr>\n",
              "    <tr>\n",
              "      <th>4</th>\n",
              "      <td>5</td>\n",
              "      <td>0</td>\n",
              "      <td>3</td>\n",
              "      <td>Allen, Mr. William Henry</td>\n",
              "      <td>1</td>\n",
              "      <td>35.0</td>\n",
              "      <td>0</td>\n",
              "      <td>0</td>\n",
              "      <td>373450</td>\n",
              "      <td>8.0500</td>\n",
              "      <td>NaN</td>\n",
              "      <td>S</td>\n",
              "      <td>1</td>\n",
              "    </tr>\n",
              "  </tbody>\n",
              "</table>\n",
              "</div>"
            ],
            "text/plain": [
              "   PassengerId  Survived  Pclass  ... Cabin  Embarked  FamilySize\n",
              "0            1         0       3  ...   NaN         S           2\n",
              "1            2         1       1  ...   C85         C           2\n",
              "2            3         1       3  ...   NaN         S           1\n",
              "3            4         1       1  ...  C123         S           2\n",
              "4            5         0       3  ...   NaN         S           1\n",
              "\n",
              "[5 rows x 13 columns]"
            ]
          },
          "metadata": {
            "tags": []
          },
          "execution_count": 108
        }
      ]
    },
    {
      "cell_type": "code",
      "metadata": {
        "id": "A8tdrV8ackQp",
        "outputId": "bfe5fa36-d8c6-4dab-b77a-1f3548f95e1c",
        "colab": {
          "base_uri": "https://localhost:8080/",
          "height": 187
        }
      },
      "source": [
        "train['FamilySize'].value_counts()"
      ],
      "execution_count": null,
      "outputs": [
        {
          "output_type": "execute_result",
          "data": {
            "text/plain": [
              "1     537\n",
              "2     161\n",
              "3     102\n",
              "4      29\n",
              "6      22\n",
              "5      15\n",
              "7      12\n",
              "11      7\n",
              "8       6\n",
              "Name: FamilySize, dtype: int64"
            ]
          },
          "metadata": {
            "tags": []
          },
          "execution_count": 109
        }
      ]
    },
    {
      "cell_type": "code",
      "metadata": {
        "id": "yWpvN_4AckQq",
        "outputId": "839a88bb-b699-40a9-be11-babccd773eaa",
        "colab": {
          "base_uri": "https://localhost:8080/",
          "height": 324
        }
      },
      "source": [
        "train.groupby('FamilySize')['Survived'].mean().plot.bar()\n",
        "\n",
        "# 8과 11의 생존률 똑같음"
      ],
      "execution_count": null,
      "outputs": [
        {
          "output_type": "execute_result",
          "data": {
            "text/plain": [
              "<matplotlib.axes._subplots.AxesSubplot at 0x7f265fff8278>"
            ]
          },
          "metadata": {
            "tags": []
          },
          "execution_count": 110
        },
        {
          "output_type": "display_data",
          "data": {
            "image/png": "[encoded data removed]",
            "text/plain": [
              "<Figure size 432x288 with 1 Axes>"
            ]
          },
          "metadata": {
            "tags": []
          }
        }
      ]
    },
    {
      "cell_type": "code",
      "metadata": {
        "id": "L9h8XbWHdCiY",
        "outputId": "b41cf5f7-4747-4414-e118-31d423fd63e9",
        "colab": {
          "base_uri": "https://localhost:8080/",
          "height": 299
        }
      },
      "source": [
        "sns.kdeplot(train.loc[train['Survived']==0]['FamilySize'],label='death')\n",
        "sns.kdeplot(train.loc[train['Survived']==1]['FamilySize'],label='survived')"
      ],
      "execution_count": null,
      "outputs": [
        {
          "output_type": "execute_result",
          "data": {
            "text/plain": [
              "<matplotlib.axes._subplots.AxesSubplot at 0x7f265ff8d128>"
            ]
          },
          "metadata": {
            "tags": []
          },
          "execution_count": 111
        },
        {
          "output_type": "display_data",
          "data": {
            "image/png": "[encoded data removed]",
            "text/plain": [
              "<Figure size 432x288 with 1 Axes>"
            ]
          },
          "metadata": {
            "tags": []
          }
        }
      ]
    },
    {
      "cell_type": "code",
      "metadata": {
        "id": "8axnbT1pckQs"
      },
      "source": [
        "for data in all_data:\n",
        "    data.loc[data['FamilySize'] == 11, 'FamilySize'] = 8"
      ],
      "execution_count": null,
      "outputs": []
    },
    {
      "cell_type": "code",
      "metadata": {
        "id": "alRl2FBtckQt",
        "outputId": "7f737f66-c7d1-4ffc-8827-b4f15f70d529",
        "colab": {
          "base_uri": "https://localhost:8080/",
          "height": 170
        }
      },
      "source": [
        "train['FamilySize'].value_counts()"
      ],
      "execution_count": null,
      "outputs": [
        {
          "output_type": "execute_result",
          "data": {
            "text/plain": [
              "1    537\n",
              "2    161\n",
              "3    102\n",
              "4     29\n",
              "6     22\n",
              "5     15\n",
              "8     13\n",
              "7     12\n",
              "Name: FamilySize, dtype: int64"
            ]
          },
          "metadata": {
            "tags": []
          },
          "execution_count": 113
        }
      ]
    },
    {
      "cell_type": "markdown",
      "metadata": {
        "id": "SjW-T0lEckQu"
      },
      "source": [
        "## FamilySize: feature engineering"
      ]
    },
    {
      "cell_type": "code",
      "metadata": {
        "id": "Tr-bfk-sckQu"
      },
      "source": [
        "for data in all_data:\n",
        "    data['Alone'] = (data['FamilySize'] == 1).astype(int)\n",
        "\n",
        "all_data = [train ,test]"
      ],
      "execution_count": null,
      "outputs": []
    },
    {
      "cell_type": "markdown",
      "metadata": {
        "id": "7-9qIGijckQv"
      },
      "source": [
        "### First Name Extract"
      ]
    },
    {
      "cell_type": "markdown",
      "metadata": {
        "id": "rX7Ci8VtckQv"
      },
      "source": [
        "- 같은 가족이면 같은 First Name.\n"
      ]
    },
    {
      "cell_type": "code",
      "metadata": {
        "id": "Wmk1lLn7ckQv",
        "outputId": "d6a804fe-757f-48d3-da32-834e5fbbcbf8",
        "colab": {
          "base_uri": "https://localhost:8080/",
          "height": 255
        }
      },
      "source": [
        "train[train['FamilySize'] == 8]['Name']"
      ],
      "execution_count": null,
      "outputs": [
        {
          "output_type": "execute_result",
          "data": {
            "text/plain": [
              "59          Goodwin, Master. William Frederick\n",
              "71                  Goodwin, Miss. Lillian Amy\n",
              "159                 Sage, Master. Thomas Henry\n",
              "180               Sage, Miss. Constance Gladys\n",
              "201                        Sage, Mr. Frederick\n",
              "324                   Sage, Mr. George John Jr\n",
              "386            Goodwin, Master. Sidney Leonard\n",
              "480             Goodwin, Master. Harold Victor\n",
              "678    Goodwin, Mrs. Frederick (Augusta Tyler)\n",
              "683                Goodwin, Mr. Charles Edward\n",
              "792                    Sage, Miss. Stella Anna\n",
              "846                   Sage, Mr. Douglas Bullen\n",
              "863          Sage, Miss. Dorothy Edith \"Dolly\"\n",
              "Name: Name, dtype: object"
            ]
          },
          "metadata": {
            "tags": []
          },
          "execution_count": 115
        }
      ]
    },
    {
      "cell_type": "code",
      "metadata": {
        "id": "1cyjG_XmckQx",
        "outputId": "0f353450-5708-458a-a592-aaf090ac7d09",
        "colab": {
          "base_uri": "https://localhost:8080/",
          "height": 238
        }
      },
      "source": [
        "train[train['FamilySize'] == 7]['Name']"
      ],
      "execution_count": null,
      "outputs": [
        {
          "output_type": "execute_result",
          "data": {
            "text/plain": [
              "13                           Andersson, Mr. Anders Johan\n",
              "25     Asplund, Mrs. Carl Oscar (Selma Augusta Emilia...\n",
              "68                       Andersson, Miss. Erna Alexandra\n",
              "119                    Andersson, Miss. Ellis Anna Maria\n",
              "182                Asplund, Master. Clarence Gustaf Hugo\n",
              "233                       Asplund, Miss. Lillian Gertrud\n",
              "261                    Asplund, Master. Edvin Rojj Felix\n",
              "541                 Andersson, Miss. Ingeborg Constanzia\n",
              "542                    Andersson, Miss. Sigrid Elisabeth\n",
              "610    Andersson, Mrs. Anders Johan (Alfrida Konstant...\n",
              "813                   Andersson, Miss. Ebba Iris Alfrida\n",
              "850              Andersson, Master. Sigvard Harald Elias\n",
              "Name: Name, dtype: object"
            ]
          },
          "metadata": {
            "tags": []
          },
          "execution_count": 116
        }
      ]
    },
    {
      "cell_type": "code",
      "metadata": {
        "id": "epdU362IckQy",
        "outputId": "33682a3f-0740-415e-e912-bc92d2d0bce1",
        "colab": {
          "base_uri": "https://localhost:8080/",
          "height": 408
        }
      },
      "source": [
        "train[train['FamilySize'] == 6]['Name']"
      ],
      "execution_count": null,
      "outputs": [
        {
          "output_type": "execute_result",
          "data": {
            "text/plain": [
              "16                                Rice, Master. Eugene\n",
              "27                      Fortune, Mr. Charles Alexander\n",
              "50                          Panula, Master. Juha Niilo\n",
              "63                               Skoog, Master. Harald\n",
              "88                          Fortune, Miss. Mabel Helen\n",
              "164                       Panula, Master. Eino Viljami\n",
              "167    Skoog, Mrs. William (Anna Bernhardina Karlsson)\n",
              "171                               Rice, Master. Arthur\n",
              "266                          Panula, Mr. Ernesti Arvid\n",
              "278                                 Rice, Master. Eric\n",
              "341                     Fortune, Miss. Alice Elizabeth\n",
              "360                                 Skoog, Mr. Wilhelm\n",
              "437              Richards, Mrs. Sidney (Emily Hocking)\n",
              "438                                  Fortune, Mr. Mark\n",
              "634                                 Skoog, Miss. Mabel\n",
              "638             Panula, Mrs. Juha (Maria Emilia Ojala)\n",
              "642                      Skoog, Miss. Margit Elizabeth\n",
              "686                           Panula, Mr. Jaako Arnold\n",
              "787                          Rice, Master. George Hugh\n",
              "819                       Skoog, Master. Karl Thorsten\n",
              "824                       Panula, Master. Urho Abraham\n",
              "885               Rice, Mrs. William (Margaret Norton)\n",
              "Name: Name, dtype: object"
            ]
          },
          "metadata": {
            "tags": []
          },
          "execution_count": 117
        }
      ]
    },
    {
      "cell_type": "markdown",
      "metadata": {
        "id": "lwpOb7pFckQz"
      },
      "source": [
        "# FirstName feature 생성"
      ]
    },
    {
      "cell_type": "code",
      "metadata": {
        "id": "DNjZs2njckQz"
      },
      "source": [
        "# FirstName만 뽑아 카테고리화하자. (1개 이상)\n",
        "for data in all_data:\n",
        "    data['FirstName'] = data['Name'].str.extract('([A-Za-z]+)\\,', expand = False)\n",
        "\n",
        "trainvalue = train['FirstName'].value_counts()\n",
        "trainvalue1 = trainvalue[trainvalue > 1]\n",
        "trainnotvalue = trainvalue[trainvalue == 1]"
      ],
      "execution_count": null,
      "outputs": []
    },
    {
      "cell_type": "code",
      "metadata": {
        "id": "TY7X3IEFckQ0",
        "outputId": "06398bcb-426e-4457-8972-995a334cae88",
        "colab": {
          "base_uri": "https://localhost:8080/",
          "height": 1071
        }
      },
      "source": [
        "trainvalue1"
      ],
      "execution_count": null,
      "outputs": [
        {
          "output_type": "execute_result",
          "data": {
            "text/plain": [
              "Andersson       9\n",
              "Sage            7\n",
              "Johnson         6\n",
              "Carter          6\n",
              "Panula          6\n",
              "Skoog           6\n",
              "Goodwin         6\n",
              "Rice            5\n",
              "Harris          4\n",
              "Fortune         4\n",
              "Brown           4\n",
              "Smith           4\n",
              "Lefebre         4\n",
              "Palsson         4\n",
              "Jensen          4\n",
              "Harper          4\n",
              "Ford            4\n",
              "Williams        4\n",
              "Asplund         4\n",
              "Kelly           4\n",
              "Gustafsson      4\n",
              "Baclini         4\n",
              "Hart            4\n",
              "West            3\n",
              "Moran           3\n",
              "Laroche         3\n",
              "Impe            3\n",
              "Hansen          3\n",
              "Hoyt            3\n",
              "Richards        3\n",
              "               ..\n",
              "Chambers        2\n",
              "Webber          2\n",
              "Hocking         2\n",
              "Chapman         2\n",
              "Braund          2\n",
              "Zabour          2\n",
              "Thorneycroft    2\n",
              "Oreskovic       2\n",
              "Wick            2\n",
              "Beane           2\n",
              "Frauenthal      2\n",
              "Hagland         2\n",
              "McCoy           2\n",
              "Sandstrom       2\n",
              "White           2\n",
              "Abbott          2\n",
              "Abelson         2\n",
              "Saad            2\n",
              "Minahan         2\n",
              "Quick           2\n",
              "Bishop          2\n",
              "Futrelle        2\n",
              "Nasser          2\n",
              "Mallet          2\n",
              "Nakid           2\n",
              "Lobb            2\n",
              "Johnston        2\n",
              "Jacobsohn       2\n",
              "Becker          2\n",
              "Coutts          2\n",
              "Name: FirstName, Length: 133, dtype: int64"
            ]
          },
          "metadata": {
            "tags": []
          },
          "execution_count": 119
        }
      ]
    },
    {
      "cell_type": "code",
      "metadata": {
        "id": "qE0BXuMGckQ1",
        "outputId": "240a5e93-0bfa-4bf1-df79-ed06043c0376",
        "colab": {
          "base_uri": "https://localhost:8080/",
          "height": 1071
        }
      },
      "source": [
        "trainnotvalue"
      ],
      "execution_count": null,
      "outputs": [
        {
          "output_type": "execute_result",
          "data": {
            "text/plain": [
              "Stoytcheff     1\n",
              "Sinkkonen      1\n",
              "Clarke         1\n",
              "Dakic          1\n",
              "Meanwell       1\n",
              "Troupiansky    1\n",
              "Laitinen       1\n",
              "Clifford       1\n",
              "Sdycoff        1\n",
              "Berriman       1\n",
              "Partner        1\n",
              "Aubart         1\n",
              "Hewlett        1\n",
              "Velde          1\n",
              "Bratthammer    1\n",
              "Guggenheim     1\n",
              "Barkworth      1\n",
              "Hodges         1\n",
              "Lulic          1\n",
              "Stewart        1\n",
              "Pickard        1\n",
              "Moen           1\n",
              "Alhomaki       1\n",
              "Cardeza        1\n",
              "More           1\n",
              "Drew           1\n",
              "Garfirth       1\n",
              "Devaney        1\n",
              "Behr           1\n",
              "Collander      1\n",
              "              ..\n",
              "Torber         1\n",
              "Giles          1\n",
              "Toomey         1\n",
              "Yousif         1\n",
              "Gillespie      1\n",
              "Cohen          1\n",
              "Leyson         1\n",
              "Johanson       1\n",
              "Christy        1\n",
              "Watson         1\n",
              "Harrison       1\n",
              "Andreasson     1\n",
              "Vestrom        1\n",
              "Maenpaa        1\n",
              "Markoff        1\n",
              "Heilmann       1\n",
              "Gilinski       1\n",
              "Lievens        1\n",
              "Stead          1\n",
              "Kraeff         1\n",
              "Berglund       1\n",
              "Plotcharsky    1\n",
              "Kent           1\n",
              "Gilnagh        1\n",
              "Markun         1\n",
              "Somerton       1\n",
              "Molson         1\n",
              "Hosono         1\n",
              "Touma          1\n",
              "Eustis         1\n",
              "Name: FirstName, Length: 533, dtype: int64"
            ]
          },
          "metadata": {
            "tags": []
          },
          "execution_count": 120
        }
      ]
    },
    {
      "cell_type": "code",
      "metadata": {
        "id": "_30gQ0KMckQ2"
      },
      "source": [
        "testvalue = test['FirstName'].value_counts()\n",
        "testvalue1 = testvalue[testvalue > 1]\n",
        "testnotvalue = testvalue[testvalue == 1]"
      ],
      "execution_count": null,
      "outputs": []
    },
    {
      "cell_type": "code",
      "metadata": {
        "id": "jW6x2verckQ2",
        "outputId": "80abce46-f5c8-41dd-83e7-8e35e1fd89a0",
        "colab": {
          "base_uri": "https://localhost:8080/",
          "height": 935
        }
      },
      "source": [
        "testvalue1"
      ],
      "execution_count": null,
      "outputs": [
        {
          "output_type": "execute_result",
          "data": {
            "text/plain": [
              "Asplund      4\n",
              "Davies       4\n",
              "Ware         4\n",
              "Thomas       4\n",
              "Sage         4\n",
              "Peacock      3\n",
              "Ryerson      3\n",
              "Howard       3\n",
              "Khalil       3\n",
              "Widener      2\n",
              "Smith        2\n",
              "Warren       2\n",
              "Karlsson     2\n",
              "Fortune      2\n",
              "Touma        2\n",
              "Spedden      2\n",
              "Compton      2\n",
              "Cacic        2\n",
              "Billiard     2\n",
              "Jefferys     2\n",
              "Goodwin      2\n",
              "Giles        2\n",
              "Snyder       2\n",
              "Mahon        2\n",
              "Dyker        2\n",
              "Stengel      2\n",
              "Dodge        2\n",
              "Clark        2\n",
              "Foley        2\n",
              "Cor          2\n",
              "Douglas      2\n",
              "Ford         2\n",
              "Gibson       2\n",
              "Andersson    2\n",
              "Herman       2\n",
              "Phillips     2\n",
              "Franklin     2\n",
              "Drew         2\n",
              "Buckley      2\n",
              "Becker       2\n",
              "Straus       2\n",
              "Klasen       2\n",
              "Brown        2\n",
              "Zakarian     2\n",
              "Samaan       2\n",
              "Heilmann     2\n",
              "Abelseth     2\n",
              "Johnston     2\n",
              "Hocking      2\n",
              "Pokrnic      2\n",
              "Dean         2\n",
              "Wells        2\n",
              "Nilsson      2\n",
              "Name: FirstName, dtype: int64"
            ]
          },
          "metadata": {
            "tags": []
          },
          "execution_count": 122
        }
      ]
    },
    {
      "cell_type": "code",
      "metadata": {
        "id": "UaNvfvcZckQ3",
        "outputId": "5e0362ca-520a-4344-94ac-9f7840242bee",
        "colab": {
          "base_uri": "https://localhost:8080/",
          "height": 1071
        }
      },
      "source": [
        "testnotvalue"
      ],
      "execution_count": null,
      "outputs": [
        {
          "output_type": "execute_result",
          "data": {
            "text/plain": [
              "Braf           1\n",
              "Kennedy        1\n",
              "Moubarek       1\n",
              "Torfa          1\n",
              "Everett        1\n",
              "Kelly          1\n",
              "Castello       1\n",
              "Johansson      1\n",
              "Davison        1\n",
              "Sweet          1\n",
              "Bradley        1\n",
              "Connor         1\n",
              "Smyth          1\n",
              "Cavendish      1\n",
              "Stanton        1\n",
              "Roth           1\n",
              "Deacon         1\n",
              "Midtsjo        1\n",
              "Olsson         1\n",
              "Lines          1\n",
              "Elias          1\n",
              "Carver         1\n",
              "McCaffry       1\n",
              "Ocana          1\n",
              "Lockyer        1\n",
              "Messemaeker    1\n",
              "Flegenheim     1\n",
              "Williams       1\n",
              "Kimball        1\n",
              "Schabert       1\n",
              "              ..\n",
              "Aldworth       1\n",
              "McCoy          1\n",
              "Niklasson      1\n",
              "Riihivouri     1\n",
              "Denbury        1\n",
              "Case           1\n",
              "Enander        1\n",
              "Nakid          1\n",
              "Brobeck        1\n",
              "Wilkes         1\n",
              "Allison        1\n",
              "Pedersen       1\n",
              "Coutts         1\n",
              "Weisz          1\n",
              "Chevre         1\n",
              "McCrae         1\n",
              "Guest          1\n",
              "Hiltunen       1\n",
              "Finoli         1\n",
              "Lindstrom      1\n",
              "Veal           1\n",
              "Holthen        1\n",
              "Hays           1\n",
              "McNamee        1\n",
              "Baccos         1\n",
              "Keeping        1\n",
              "Mardirosian    1\n",
              "Shaughnessy    1\n",
              "Clarke         1\n",
              "Lamb           1\n",
              "Name: FirstName, Length: 298, dtype: int64"
            ]
          },
          "metadata": {
            "tags": []
          },
          "execution_count": 123
        }
      ]
    },
    {
      "cell_type": "code",
      "metadata": {
        "id": "iJn0jdJZckQ5",
        "outputId": "c9c0ac9c-9329-4d93-de76-937336125d3e",
        "colab": {
          "base_uri": "https://localhost:8080/",
          "height": 34
        }
      },
      "source": [
        "trainnotFirst = set(trainnotvalue.index)\n",
        "testnotFirst = set(testnotvalue.index)\n",
        "FirstNameNotTotal = trainnotFirst | testnotFirst\n",
        "len(FirstNameNotTotal)"
      ],
      "execution_count": null,
      "outputs": [
        {
          "output_type": "execute_result",
          "data": {
            "text/plain": [
              "762"
            ]
          },
          "metadata": {
            "tags": []
          },
          "execution_count": 124
        }
      ]
    },
    {
      "cell_type": "code",
      "metadata": {
        "id": "n1w6cWbpckQ6",
        "outputId": "b6c27e9d-67cb-4106-a68e-e30663f5ab13",
        "colab": {
          "base_uri": "https://localhost:8080/",
          "height": 12971
        }
      },
      "source": [
        "FirstNameNotTotal"
      ],
      "execution_count": null,
      "outputs": [
        {
          "output_type": "execute_result",
          "data": {
            "text/plain": [
              "{'Abbing',\n",
              " 'Abbott',\n",
              " 'Abrahamsson',\n",
              " 'Abrahim',\n",
              " 'Adahl',\n",
              " 'Adams',\n",
              " 'Ahlin',\n",
              " 'Aks',\n",
              " 'Albimona',\n",
              " 'Aldworth',\n",
              " 'Alexander',\n",
              " 'Alhomaki',\n",
              " 'Allison',\n",
              " 'Allum',\n",
              " 'Andersen',\n",
              " 'Anderson',\n",
              " 'Andreasson',\n",
              " 'Andrew',\n",
              " 'Angheloff',\n",
              " 'Angle',\n",
              " 'Appleton',\n",
              " 'Aronsson',\n",
              " 'Artagaveytia',\n",
              " 'Ashby',\n",
              " 'Asim',\n",
              " 'Assaf',\n",
              " 'Assam',\n",
              " 'Astor',\n",
              " 'Aubart',\n",
              " 'Augustsson',\n",
              " 'Ayoub',\n",
              " 'Baccos',\n",
              " 'Badman',\n",
              " 'Badt',\n",
              " 'Bailey',\n",
              " 'Baimbrigge',\n",
              " 'Balkic',\n",
              " 'Ball',\n",
              " 'Banfield',\n",
              " 'Barah',\n",
              " 'Barber',\n",
              " 'Barkworth',\n",
              " 'Barry',\n",
              " 'Barton',\n",
              " 'Bateman',\n",
              " 'Baumann',\n",
              " 'Bazzani',\n",
              " 'Beattie',\n",
              " 'Beauchamp',\n",
              " 'Beavan',\n",
              " 'Beesley',\n",
              " 'Behr',\n",
              " 'Bengtsson',\n",
              " 'Bentham',\n",
              " 'Berglund',\n",
              " 'Berriman',\n",
              " 'Betros',\n",
              " 'Bidois',\n",
              " 'Billiard',\n",
              " 'Bing',\n",
              " 'Bird',\n",
              " 'Birkeland',\n",
              " 'Birnbaum',\n",
              " 'Bissette',\n",
              " 'Bjorklund',\n",
              " 'Blackwell',\n",
              " 'Blank',\n",
              " 'Blumer',\n",
              " 'Bonnell',\n",
              " 'Borebank',\n",
              " 'Bostandyeff',\n",
              " 'Botsford',\n",
              " 'Boulos',\n",
              " 'Bowen',\n",
              " 'Bowenur',\n",
              " 'Bowerman',\n",
              " 'Bracken',\n",
              " 'Bradley',\n",
              " 'Brady',\n",
              " 'Braf',\n",
              " 'Brandeis',\n",
              " 'Bratthammer',\n",
              " 'Brewe',\n",
              " 'Brito',\n",
              " 'Brobeck',\n",
              " 'Brocklebank',\n",
              " 'Bryhl',\n",
              " 'Bucknell',\n",
              " 'Burke',\n",
              " 'Burns',\n",
              " 'Buss',\n",
              " 'Butler',\n",
              " 'Butt',\n",
              " 'Byles',\n",
              " 'Bystrom',\n",
              " 'Cairns',\n",
              " 'Calderhead',\n",
              " 'Caldwell',\n",
              " 'Cameron',\n",
              " 'Campbell',\n",
              " 'Canavan',\n",
              " 'Candee',\n",
              " 'Cann',\n",
              " 'Caram',\n",
              " 'Carbines',\n",
              " 'Cardeza',\n",
              " 'Carlo',\n",
              " 'Carlsson',\n",
              " 'Carr',\n",
              " 'Carrau',\n",
              " 'Carver',\n",
              " 'Case',\n",
              " 'Cassebeer',\n",
              " 'Castello',\n",
              " 'Cavendish',\n",
              " 'Celotti',\n",
              " 'Chaffee',\n",
              " 'Chapman',\n",
              " 'Charters',\n",
              " 'Chaudanson',\n",
              " 'Cherry',\n",
              " 'Chevre',\n",
              " 'Chibnall',\n",
              " 'Chip',\n",
              " 'Chisholm',\n",
              " 'Christmann',\n",
              " 'Christy',\n",
              " 'Chronopoulos',\n",
              " 'Clarke',\n",
              " 'Cleaver',\n",
              " 'Clifford',\n",
              " 'Coelho',\n",
              " 'Cohen',\n",
              " 'Colbert',\n",
              " 'Coleridge',\n",
              " 'Collander',\n",
              " 'Collett',\n",
              " 'Colley',\n",
              " 'Compton',\n",
              " 'Conlon',\n",
              " 'Connaghton',\n",
              " 'Connell',\n",
              " 'Connolly',\n",
              " 'Connor',\n",
              " 'Connors',\n",
              " 'Cook',\n",
              " 'Cor',\n",
              " 'Corbett',\n",
              " 'Corey',\n",
              " 'Corn',\n",
              " 'Cornell',\n",
              " 'Cotterill',\n",
              " 'Coutts',\n",
              " 'Coxon',\n",
              " 'Crafton',\n",
              " 'Crease',\n",
              " 'Cribb',\n",
              " 'Crosby',\n",
              " 'Cruyssen',\n",
              " 'Culumovic',\n",
              " 'Cumings',\n",
              " 'Cunningham',\n",
              " 'Daher',\n",
              " 'Dahl',\n",
              " 'Dahlberg',\n",
              " 'Dakic',\n",
              " 'Daly',\n",
              " 'Danbom',\n",
              " 'Daniel',\n",
              " 'Daniels',\n",
              " 'Danoff',\n",
              " 'Dantcheff',\n",
              " 'Davidson',\n",
              " 'Davis',\n",
              " 'Davison',\n",
              " 'Deacon',\n",
              " 'Delalic',\n",
              " 'Demetri',\n",
              " 'Denbury',\n",
              " 'Denkoff',\n",
              " 'Dennis',\n",
              " 'Devaney',\n",
              " 'Dibden',\n",
              " 'Dika',\n",
              " 'Dimic',\n",
              " 'Dintcheff',\n",
              " 'Dodge',\n",
              " 'Doharr',\n",
              " 'Donoghue',\n",
              " 'Dooley',\n",
              " 'Dorking',\n",
              " 'Douglas',\n",
              " 'Dowdell',\n",
              " 'Downton',\n",
              " 'Doyle',\n",
              " 'Drapkin',\n",
              " 'Drazenoic',\n",
              " 'Drew',\n",
              " 'Driscoll',\n",
              " 'Duane',\n",
              " 'Dulles',\n",
              " 'Duquemin',\n",
              " 'Dwyer',\n",
              " 'Earnshaw',\n",
              " 'Edvardsson',\n",
              " 'Eitemiller',\n",
              " 'Eklund',\n",
              " 'Ekstrom',\n",
              " 'Elias',\n",
              " 'Elsbury',\n",
              " 'Emanuel',\n",
              " 'Emir',\n",
              " 'Enander',\n",
              " 'Endres',\n",
              " 'Eustis',\n",
              " 'Evans',\n",
              " 'Everett',\n",
              " 'Fahlstrom',\n",
              " 'Farrell',\n",
              " 'Farthing',\n",
              " 'Faunthorpe',\n",
              " 'Fillbrook',\n",
              " 'Finoli',\n",
              " 'Fischer',\n",
              " 'Flegenheim',\n",
              " 'Fleming',\n",
              " 'Foo',\n",
              " 'Foreman',\n",
              " 'Fox',\n",
              " 'Francatelli',\n",
              " 'Frauenthal',\n",
              " 'Frolicher',\n",
              " 'Frost',\n",
              " 'Fry',\n",
              " 'Funk',\n",
              " 'Fynney',\n",
              " 'Gale',\n",
              " 'Gallagher',\n",
              " 'Garfirth',\n",
              " 'Garside',\n",
              " 'Gaskell',\n",
              " 'Gavey',\n",
              " 'Gee',\n",
              " 'Geiger',\n",
              " 'Gheorgheff',\n",
              " 'Giglio',\n",
              " 'Gilbert',\n",
              " 'Giles',\n",
              " 'Gilinski',\n",
              " 'Gill',\n",
              " 'Gillespie',\n",
              " 'Gilnagh',\n",
              " 'Givard',\n",
              " 'Glynn',\n",
              " 'Goldschmidt',\n",
              " 'Goldsmith',\n",
              " 'Goncalves',\n",
              " 'Gracie',\n",
              " 'Green',\n",
              " 'Greenberg',\n",
              " 'Greenfield',\n",
              " 'Gronnestad',\n",
              " 'Guest',\n",
              " 'Guggenheim',\n",
              " 'Haas',\n",
              " 'Hagardon',\n",
              " 'Hale',\n",
              " 'Hampe',\n",
              " 'Hanna',\n",
              " 'Hansen',\n",
              " 'Harbeck',\n",
              " 'Harder',\n",
              " 'Harknett',\n",
              " 'Harmer',\n",
              " 'Harrington',\n",
              " 'Harrison',\n",
              " 'Hassab',\n",
              " 'Hassan',\n",
              " 'Hawksford',\n",
              " 'Hays',\n",
              " 'Head',\n",
              " 'Healy',\n",
              " 'Hedman',\n",
              " 'Hee',\n",
              " 'Hegarty',\n",
              " 'Heikkinen',\n",
              " 'Heilmann',\n",
              " 'Heininen',\n",
              " 'Hellstrom',\n",
              " 'Hendekovic',\n",
              " 'Henriksson',\n",
              " 'Henry',\n",
              " 'Hewlett',\n",
              " 'Hilliard',\n",
              " 'Hiltunen',\n",
              " 'Hipkins',\n",
              " 'Hirvonen',\n",
              " 'Hodges',\n",
              " 'Hogeboom',\n",
              " 'Hold',\n",
              " 'Holm',\n",
              " 'Holthen',\n",
              " 'Homer',\n",
              " 'Honkanen',\n",
              " 'Hood',\n",
              " 'Horgan',\n",
              " 'Hosono',\n",
              " 'Humblen',\n",
              " 'Hunt',\n",
              " 'Hyman',\n",
              " 'Icard',\n",
              " 'Ilett',\n",
              " 'Ilieff',\n",
              " 'Ilmakangas',\n",
              " 'Isham',\n",
              " 'Ismay',\n",
              " 'Ivanoff',\n",
              " 'Jalsevac',\n",
              " 'Jansson',\n",
              " 'Jardin',\n",
              " 'Jarvis',\n",
              " 'Jenkin',\n",
              " 'Jermyn',\n",
              " 'Jerwan',\n",
              " 'Johanson',\n",
              " 'Johansson',\n",
              " 'Jones',\n",
              " 'Jonkoff',\n",
              " 'Jonsson',\n",
              " 'Julian',\n",
              " 'Kallio',\n",
              " 'Kalvik',\n",
              " 'Karaic',\n",
              " 'Karlsson',\n",
              " 'Karnes',\n",
              " 'Karun',\n",
              " 'Kassem',\n",
              " 'Katavelas',\n",
              " 'Keane',\n",
              " 'Keefe',\n",
              " 'Keeping',\n",
              " 'Kelly',\n",
              " 'Kennedy',\n",
              " 'Kent',\n",
              " 'Kenyon',\n",
              " 'Kiernan',\n",
              " 'Kilgannon',\n",
              " 'Kimball',\n",
              " 'Kink',\n",
              " 'Kirkland',\n",
              " 'Klaber',\n",
              " 'Klasen',\n",
              " 'Knight',\n",
              " 'Kraeff',\n",
              " 'Krekorian',\n",
              " 'Kreuchen',\n",
              " 'Kvillner',\n",
              " 'Lahoud',\n",
              " 'Lahtinen',\n",
              " 'Laitinen',\n",
              " 'Laleff',\n",
              " 'Lamb',\n",
              " 'Lambert',\n",
              " 'Landergren',\n",
              " 'Lane',\n",
              " 'Lang',\n",
              " 'Laroche',\n",
              " 'LeRoy',\n",
              " 'Leader',\n",
              " 'Leary',\n",
              " 'Leeni',\n",
              " 'Lefebre',\n",
              " 'Lehmann',\n",
              " 'Leinonen',\n",
              " 'Leitch',\n",
              " 'Lemberopolous',\n",
              " 'Lemore',\n",
              " 'Lennon',\n",
              " 'Leonard',\n",
              " 'Lester',\n",
              " 'Lesurer',\n",
              " 'Levy',\n",
              " 'Lewy',\n",
              " 'Leyson',\n",
              " 'Lievens',\n",
              " 'Lind',\n",
              " 'Lindahl',\n",
              " 'Lindblom',\n",
              " 'Lindell',\n",
              " 'Lindqvist',\n",
              " 'Lindstrom',\n",
              " 'Linehan',\n",
              " 'Lines',\n",
              " 'Ling',\n",
              " 'Lingane',\n",
              " 'Lithman',\n",
              " 'Lockyer',\n",
              " 'Long',\n",
              " 'Longley',\n",
              " 'Loring',\n",
              " 'Louch',\n",
              " 'Lovell',\n",
              " 'Lulic',\n",
              " 'Lundahl',\n",
              " 'Lundin',\n",
              " 'Lundstrom',\n",
              " 'Lurette',\n",
              " 'Lyntakoff',\n",
              " 'MacKay',\n",
              " 'Mack',\n",
              " 'Madigan',\n",
              " 'Madill',\n",
              " 'Madsen',\n",
              " 'Maeglin',\n",
              " 'Maenpaa',\n",
              " 'Maguire',\n",
              " 'Maioni',\n",
              " 'Maisner',\n",
              " 'Makinen',\n",
              " 'Malachard',\n",
              " 'Mallet',\n",
              " 'Mamee',\n",
              " 'Manent',\n",
              " 'Mangan',\n",
              " 'Mangiavacchi',\n",
              " 'Mannion',\n",
              " 'Mardirosian',\n",
              " 'Marechal',\n",
              " 'Markoff',\n",
              " 'Markun',\n",
              " 'Marvin',\n",
              " 'Masselmani',\n",
              " 'Matinoff',\n",
              " 'Matthews',\n",
              " 'Maybery',\n",
              " 'Mayne',\n",
              " 'McCaffry',\n",
              " 'McCarthy',\n",
              " 'McCormack',\n",
              " 'McCoy',\n",
              " 'McCrae',\n",
              " 'McCrie',\n",
              " 'McDermott',\n",
              " 'McEvoy',\n",
              " 'McGough',\n",
              " 'McGovern',\n",
              " 'McGowan',\n",
              " 'McKane',\n",
              " 'McMahon',\n",
              " 'McNamee',\n",
              " 'McNeill',\n",
              " 'Meanwell',\n",
              " 'Meek',\n",
              " 'Melkebeke',\n",
              " 'Mellors',\n",
              " 'Meo',\n",
              " 'Mernagh',\n",
              " 'Messemaeker',\n",
              " 'Midtsjo',\n",
              " 'Miles',\n",
              " 'Millet',\n",
              " 'Milling',\n",
              " 'Minahan',\n",
              " 'Mineff',\n",
              " 'Minkoff',\n",
              " 'Mionoff',\n",
              " 'Mitchell',\n",
              " 'Mitkoff',\n",
              " 'Mock',\n",
              " 'Mockler',\n",
              " 'Moen',\n",
              " 'Molson',\n",
              " 'Montvila',\n",
              " 'Moore',\n",
              " 'Moraweck',\n",
              " 'More',\n",
              " 'Morrow',\n",
              " 'Moss',\n",
              " 'Moubarek',\n",
              " 'Moussa',\n",
              " 'Moutal',\n",
              " 'Mudd',\n",
              " 'Mulder',\n",
              " 'Mullens',\n",
              " 'Mulvihill',\n",
              " 'Murdlin',\n",
              " 'Murphy',\n",
              " 'Myhrman',\n",
              " 'Myles',\n",
              " 'Naidenoff',\n",
              " 'Najib',\n",
              " 'Nakid',\n",
              " 'Nancarrow',\n",
              " 'Nankoff',\n",
              " 'Nasr',\n",
              " 'Natsch',\n",
              " 'Naughton',\n",
              " 'Nenkoff',\n",
              " 'Nesson',\n",
              " 'Newsom',\n",
              " 'Nicholls',\n",
              " 'Nicholson',\n",
              " 'Nieminen',\n",
              " 'Niklasson',\n",
              " 'Nilsson',\n",
              " 'Nirva',\n",
              " 'Niskanen',\n",
              " 'Norman',\n",
              " 'Nosworthy',\n",
              " 'Nourney',\n",
              " 'Novel',\n",
              " 'Nye',\n",
              " 'Nysten',\n",
              " 'Nysveen',\n",
              " 'Ocana',\n",
              " 'Odahl',\n",
              " 'Ohman',\n",
              " 'Olsen',\n",
              " 'Olsson',\n",
              " 'Olsvigen',\n",
              " 'Omont',\n",
              " 'Oreskovic',\n",
              " 'Osen',\n",
              " 'Osman',\n",
              " 'Ostby',\n",
              " 'Otter',\n",
              " 'Oxenham',\n",
              " 'Pain',\n",
              " 'Palmquist',\n",
              " 'Palsson',\n",
              " 'Parker',\n",
              " 'Parkes',\n",
              " 'Parr',\n",
              " 'Parrish',\n",
              " 'Partner',\n",
              " 'Pasic',\n",
              " 'Patchett',\n",
              " 'Paulner',\n",
              " 'Pavlovic',\n",
              " 'Payne',\n",
              " 'Pearce',\n",
              " 'Pedersen',\n",
              " 'Peduzzi',\n",
              " 'Pekoniemi',\n",
              " 'Pelsmaeker',\n",
              " 'Peltomaki',\n",
              " 'Pengelly',\n",
              " 'Perkin',\n",
              " 'Pernot',\n",
              " 'Perreault',\n",
              " 'Persson',\n",
              " 'Peruschitz',\n",
              " 'Peter',\n",
              " 'Peters',\n",
              " 'Petersen',\n",
              " 'Petranec',\n",
              " 'Petterson',\n",
              " 'Pettersson',\n",
              " 'Peuchen',\n",
              " 'Phillips',\n",
              " 'Pickard',\n",
              " 'Pinsky',\n",
              " 'Planke',\n",
              " 'Plotcharsky',\n",
              " 'Ponesell',\n",
              " 'Portaluppi',\n",
              " 'Porter',\n",
              " 'Potter',\n",
              " 'Pulbaum',\n",
              " 'Quick',\n",
              " 'Radeff',\n",
              " 'Rasmussen',\n",
              " 'Razi',\n",
              " 'Reed',\n",
              " 'Reeves',\n",
              " 'Rekic',\n",
              " 'Reuchlin',\n",
              " 'Reynaldo',\n",
              " 'Reynolds',\n",
              " 'Rheims',\n",
              " 'Rice',\n",
              " 'Richard',\n",
              " 'Ridsdale',\n",
              " 'Riihivouri',\n",
              " 'Ringhini',\n",
              " 'Rintamaki',\n",
              " 'Riordan',\n",
              " 'Risien',\n",
              " 'Robbins',\n",
              " 'Robert',\n",
              " 'Robins',\n",
              " 'Rodriguez',\n",
              " 'Roebling',\n",
              " 'Rogers',\n",
              " 'Romaine',\n",
              " 'Rommetvedt',\n",
              " 'Rondberg',\n",
              " 'Rood',\n",
              " 'Rosblom',\n",
              " 'Rosenbaum',\n",
              " 'Rosenshine',\n",
              " 'Ross',\n",
              " 'Roth',\n",
              " 'Rothes',\n",
              " 'Rothschild',\n",
              " 'Rouse',\n",
              " 'Rowe',\n",
              " 'Rugg',\n",
              " 'Rush',\n",
              " 'Ryan',\n",
              " 'Saade',\n",
              " 'Saalfeld',\n",
              " 'Sadlier',\n",
              " 'Sadowitz',\n",
              " 'Saether',\n",
              " 'Sagesser',\n",
              " 'Salander',\n",
              " 'Salkjelsvik',\n",
              " 'Salomon',\n",
              " 'Salonen',\n",
              " 'Samaan',\n",
              " 'Sandstrom',\n",
              " 'Sap',\n",
              " 'Saundercock',\n",
              " 'Sawyer',\n",
              " 'Scanlan',\n",
              " 'Schabert',\n",
              " 'Schmidt',\n",
              " 'Sdycoff',\n",
              " 'Sedgwick',\n",
              " 'Serepeca',\n",
              " 'Seward',\n",
              " 'Sharp',\n",
              " 'Shaughnessy',\n",
              " 'Shawah',\n",
              " 'Sheerlinck',\n",
              " 'Shellard',\n",
              " 'Shelley',\n",
              " 'Shine',\n",
              " 'Shorney',\n",
              " 'Shutes',\n",
              " 'Silven',\n",
              " 'Silverthorne',\n",
              " 'Simmons',\n",
              " 'Sincock',\n",
              " 'Sinkkonen',\n",
              " 'Sirayanian',\n",
              " 'Sirota',\n",
              " 'Sivic',\n",
              " 'Sivola',\n",
              " 'Sjoblom',\n",
              " 'Sjostedt',\n",
              " 'Slabenoff',\n",
              " 'Slayter',\n",
              " 'Slemen',\n",
              " 'Slocovski',\n",
              " 'Sloper',\n",
              " 'Smart',\n",
              " 'Smiljanic',\n",
              " 'Smyth',\n",
              " 'Sobey',\n",
              " 'Soholt',\n",
              " 'Somerton',\n",
              " 'Spector',\n",
              " 'Spedden',\n",
              " 'Spencer',\n",
              " 'Spinner',\n",
              " 'Staneff',\n",
              " 'Stankovic',\n",
              " 'Stanton',\n",
              " 'Stead',\n",
              " 'Steen',\n",
              " 'Steffansson',\n",
              " 'Stehli',\n",
              " 'Stephenson',\n",
              " 'Stewart',\n",
              " 'Stokes',\n",
              " 'Stone',\n",
              " 'Storey',\n",
              " 'Stoytcheff',\n",
              " 'Strandberg',\n",
              " 'Stranden',\n",
              " 'Strilic',\n",
              " 'Sullivan',\n",
              " 'Sunderland',\n",
              " 'Sundman',\n",
              " 'Sutehall',\n",
              " 'Sutton',\n",
              " 'Svensson',\n",
              " 'Swane',\n",
              " 'Sweet',\n",
              " 'Swift',\n",
              " 'Tenglin',\n",
              " 'Theobald',\n",
              " 'Thomas',\n",
              " 'Thomson',\n",
              " 'Thorne',\n",
              " 'Tikkanen',\n",
              " 'Tobin',\n",
              " 'Todoroff',\n",
              " 'Tomlin',\n",
              " 'Toomey',\n",
              " 'Torber',\n",
              " 'Torfa',\n",
              " 'Tornquist',\n",
              " 'Toufik',\n",
              " 'Touma',\n",
              " 'Troupiansky',\n",
              " 'Trout',\n",
              " 'Troutt',\n",
              " 'Tucker',\n",
              " 'Turcin',\n",
              " 'Turja',\n",
              " 'Turkula',\n",
              " 'Uruchurtu',\n",
              " 'Vartanian',\n",
              " 'Veal',\n",
              " 'Velde',\n",
              " 'Vendel',\n",
              " 'Vestrom',\n",
              " 'Vovk',\n",
              " 'Waelens',\n",
              " 'Walcroft',\n",
              " 'Walker',\n",
              " 'Walle',\n",
              " 'Ward',\n",
              " 'Warren',\n",
              " 'Watson',\n",
              " 'Watt',\n",
              " 'Weir',\n",
              " 'Weisz',\n",
              " 'Wells',\n",
              " 'Wenzel',\n",
              " 'West',\n",
              " 'Whabee',\n",
              " 'Wheadon',\n",
              " 'Wheeler',\n",
              " 'White',\n",
              " 'Wick',\n",
              " 'Widegren',\n",
              " 'Widener',\n",
              " 'Wiklund',\n",
              " 'Wilhelms',\n",
              " 'Wilkes',\n",
              " 'Willard',\n",
              " 'Willer',\n",
              " 'Willey',\n",
              " 'Williams',\n",
              " 'Wilson',\n",
              " 'Windelov',\n",
              " 'Wirz',\n",
              " 'Wiseman',\n",
              " 'Wittevrongel',\n",
              " 'Woolner',\n",
              " 'Wright',\n",
              " 'Young',\n",
              " 'Youseff',\n",
              " 'Yousif',\n",
              " 'Yousseff',\n",
              " 'Yrois',\n",
              " 'Zimmerman',\n",
              " 'hoef'}"
            ]
          },
          "metadata": {
            "tags": []
          },
          "execution_count": 125
        }
      ]
    },
    {
      "cell_type": "code",
      "metadata": {
        "id": "9zCrSlC3ckQ7",
        "outputId": "91866a80-72f7-454f-8098-239f78ff7340",
        "colab": {
          "base_uri": "https://localhost:8080/",
          "height": 34
        }
      },
      "source": [
        "trainFirst = set(trainvalue1.index)\n",
        "testFirst = set(testvalue1.index)\n",
        "FirstNameTotal = trainFirst | testFirst\n",
        "len(FirstNameTotal)"
      ],
      "execution_count": null,
      "outputs": [
        {
          "output_type": "execute_result",
          "data": {
            "text/plain": [
              "170"
            ]
          },
          "metadata": {
            "tags": []
          },
          "execution_count": 126
        }
      ]
    },
    {
      "cell_type": "code",
      "metadata": {
        "id": "K5Ai1cqOckQ8",
        "outputId": "d1647eaa-4644-427e-e7be-d04136bb6978",
        "colab": {
          "base_uri": "https://localhost:8080/",
          "height": 2907
        }
      },
      "source": [
        "FirstNameTotal"
      ],
      "execution_count": null,
      "outputs": [
        {
          "output_type": "execute_result",
          "data": {
            "text/plain": [
              "{'Abbott',\n",
              " 'Abelseth',\n",
              " 'Abelson',\n",
              " 'Ali',\n",
              " 'Allen',\n",
              " 'Allison',\n",
              " 'Andersson',\n",
              " 'Andrews',\n",
              " 'Asplund',\n",
              " 'Attalah',\n",
              " 'Backstrom',\n",
              " 'Baclini',\n",
              " 'Barbara',\n",
              " 'Baxter',\n",
              " 'Beane',\n",
              " 'Becker',\n",
              " 'Beckwith',\n",
              " 'Billiard',\n",
              " 'Bishop',\n",
              " 'Boulos',\n",
              " 'Bourke',\n",
              " 'Braund',\n",
              " 'Brien',\n",
              " 'Brown',\n",
              " 'Buckley',\n",
              " 'Cacic',\n",
              " 'Caldwell',\n",
              " 'Calic',\n",
              " 'Carlsson',\n",
              " 'Carter',\n",
              " 'Castellana',\n",
              " 'Chambers',\n",
              " 'Chapman',\n",
              " 'Clark',\n",
              " 'Coleff',\n",
              " 'Collyer',\n",
              " 'Compton',\n",
              " 'Cor',\n",
              " 'Coutts',\n",
              " 'Crosby',\n",
              " 'Daly',\n",
              " 'Danbom',\n",
              " 'Davies',\n",
              " 'Dean',\n",
              " 'Dick',\n",
              " 'Dodge',\n",
              " 'Doling',\n",
              " 'Douglas',\n",
              " 'Drew',\n",
              " 'Dyker',\n",
              " 'Elias',\n",
              " 'Flynn',\n",
              " 'Foley',\n",
              " 'Ford',\n",
              " 'Fortune',\n",
              " 'Franchi',\n",
              " 'Franklin',\n",
              " 'Frauenthal',\n",
              " 'Futrelle',\n",
              " 'Gibson',\n",
              " 'Giles',\n",
              " 'Goldenberg',\n",
              " 'Goldsmith',\n",
              " 'Goodwin',\n",
              " 'Gordon',\n",
              " 'Graham',\n",
              " 'Gustafsson',\n",
              " 'Hagland',\n",
              " 'Hakkarainen',\n",
              " 'Hamalainen',\n",
              " 'Hansen',\n",
              " 'Harper',\n",
              " 'Harris',\n",
              " 'Hart',\n",
              " 'Hays',\n",
              " 'Heilmann',\n",
              " 'Herman',\n",
              " 'Hickman',\n",
              " 'Hippach',\n",
              " 'Hocking',\n",
              " 'Holverson',\n",
              " 'Howard',\n",
              " 'Hoyt',\n",
              " 'Impe',\n",
              " 'Jacobsohn',\n",
              " 'Jefferys',\n",
              " 'Jensen',\n",
              " 'Johansson',\n",
              " 'Johnson',\n",
              " 'Johnston',\n",
              " 'Jussila',\n",
              " 'Kantor',\n",
              " 'Karlsson',\n",
              " 'Keane',\n",
              " 'Kelly',\n",
              " 'Khalil',\n",
              " 'Klasen',\n",
              " 'Lam',\n",
              " 'Laroche',\n",
              " 'Larsson',\n",
              " 'Lefebre',\n",
              " 'Lobb',\n",
              " 'Mahon',\n",
              " 'Mallet',\n",
              " 'McCoy',\n",
              " 'Mellinger',\n",
              " 'Meyer',\n",
              " 'Minahan',\n",
              " 'Moor',\n",
              " 'Moran',\n",
              " 'Morley',\n",
              " 'Moubarek',\n",
              " 'Murphy',\n",
              " 'Nakid',\n",
              " 'Nasser',\n",
              " 'Navratil',\n",
              " 'Newell',\n",
              " 'Nilsson',\n",
              " 'Olsen',\n",
              " 'Olsson',\n",
              " 'Oreskovic',\n",
              " 'Palsson',\n",
              " 'Panula',\n",
              " 'Peacock',\n",
              " 'Pears',\n",
              " 'Peter',\n",
              " 'Petroff',\n",
              " 'Phillips',\n",
              " 'Planke',\n",
              " 'Pokrnic',\n",
              " 'Quick',\n",
              " 'Renouf',\n",
              " 'Rice',\n",
              " 'Richards',\n",
              " 'Rosblom',\n",
              " 'Ryerson',\n",
              " 'Saad',\n",
              " 'Sage',\n",
              " 'Samaan',\n",
              " 'Sandstrom',\n",
              " 'Silvey',\n",
              " 'Skoog',\n",
              " 'Smith',\n",
              " 'Snyder',\n",
              " 'Spedden',\n",
              " 'Stanley',\n",
              " 'Stengel',\n",
              " 'Straus',\n",
              " 'Strom',\n",
              " 'Svensson',\n",
              " 'Taussig',\n",
              " 'Taylor',\n",
              " 'Thayer',\n",
              " 'Thomas',\n",
              " 'Thorneycroft',\n",
              " 'Touma',\n",
              " 'Turpin',\n",
              " 'Ware',\n",
              " 'Warren',\n",
              " 'Webber',\n",
              " 'Wells',\n",
              " 'West',\n",
              " 'White',\n",
              " 'Wick',\n",
              " 'Widener',\n",
              " 'Williams',\n",
              " 'Yarred',\n",
              " 'Yasbeck',\n",
              " 'Zabour',\n",
              " 'Zakarian'}"
            ]
          },
          "metadata": {
            "tags": []
          },
          "execution_count": 127
        }
      ]
    },
    {
      "cell_type": "code",
      "metadata": {
        "id": "SVQf9QPVckQ9",
        "outputId": "61f8b761-f09a-4a14-8f7e-34f9789e7616",
        "colab": {
          "base_uri": "https://localhost:8080/",
          "height": 187
        }
      },
      "source": [
        "train['Embarked'][train['FirstName'] == 'Andersson']"
      ],
      "execution_count": null,
      "outputs": [
        {
          "output_type": "execute_result",
          "data": {
            "text/plain": [
              "13     S\n",
              "68     S\n",
              "119    S\n",
              "146    S\n",
              "541    S\n",
              "542    S\n",
              "610    S\n",
              "813    S\n",
              "850    S\n",
              "Name: Embarked, dtype: object"
            ]
          },
          "metadata": {
            "tags": []
          },
          "execution_count": 128
        }
      ]
    },
    {
      "cell_type": "code",
      "metadata": {
        "id": "SLgeJ4uJckQ-",
        "outputId": "9e681594-55b1-405f-e75b-ceff25534862",
        "colab": {
          "base_uri": "https://localhost:8080/",
          "height": 153
        }
      },
      "source": [
        "train['Embarked'][train['FirstName'] == 'Sage']"
      ],
      "execution_count": null,
      "outputs": [
        {
          "output_type": "execute_result",
          "data": {
            "text/plain": [
              "159    S\n",
              "180    S\n",
              "201    S\n",
              "324    S\n",
              "792    S\n",
              "846    S\n",
              "863    S\n",
              "Name: Embarked, dtype: object"
            ]
          },
          "metadata": {
            "tags": []
          },
          "execution_count": 129
        }
      ]
    },
    {
      "cell_type": "code",
      "metadata": {
        "id": "iX95eoGIckQ_",
        "outputId": "2242e39d-4c47-43da-f7a8-a12878e4a9c6",
        "colab": {
          "base_uri": "https://localhost:8080/",
          "height": 136
        }
      },
      "source": [
        "train['Embarked'][train['FirstName'] == 'Carter']"
      ],
      "execution_count": null,
      "outputs": [
        {
          "output_type": "execute_result",
          "data": {
            "text/plain": [
              "249    S\n",
              "390    S\n",
              "435    S\n",
              "763    S\n",
              "802    S\n",
              "854    S\n",
              "Name: Embarked, dtype: object"
            ]
          },
          "metadata": {
            "tags": []
          },
          "execution_count": 130
        }
      ]
    },
    {
      "cell_type": "code",
      "metadata": {
        "id": "AJmlaGI6ckRA",
        "outputId": "6acacab0-be36-46e9-832e-f669b98a667f",
        "colab": {
          "base_uri": "https://localhost:8080/",
          "height": 136
        }
      },
      "source": [
        "train['Embarked'][train['FirstName'] == 'Panula']"
      ],
      "execution_count": null,
      "outputs": [
        {
          "output_type": "execute_result",
          "data": {
            "text/plain": [
              "50     S\n",
              "164    S\n",
              "266    S\n",
              "638    S\n",
              "686    S\n",
              "824    S\n",
              "Name: Embarked, dtype: object"
            ]
          },
          "metadata": {
            "tags": []
          },
          "execution_count": 131
        }
      ]
    },
    {
      "cell_type": "code",
      "metadata": {
        "id": "6FM_-FxcckRB",
        "outputId": "33154821-1d47-4459-d655-5bdabeb9a122",
        "colab": {
          "base_uri": "https://localhost:8080/",
          "height": 136
        }
      },
      "source": [
        "train['Embarked'][train['FirstName'] == 'Skoog']"
      ],
      "execution_count": null,
      "outputs": [
        {
          "output_type": "execute_result",
          "data": {
            "text/plain": [
              "63     S\n",
              "167    S\n",
              "360    S\n",
              "634    S\n",
              "642    S\n",
              "819    S\n",
              "Name: Embarked, dtype: object"
            ]
          },
          "metadata": {
            "tags": []
          },
          "execution_count": 132
        }
      ]
    },
    {
      "cell_type": "code",
      "metadata": {
        "id": "MBTXmdNhckRC",
        "outputId": "2768719e-4160-45c1-e01c-bd7757fb9337",
        "colab": {
          "base_uri": "https://localhost:8080/",
          "height": 119
        }
      },
      "source": [
        "train['Embarked'][train['FirstName'] == 'Rice']"
      ],
      "execution_count": null,
      "outputs": [
        {
          "output_type": "execute_result",
          "data": {
            "text/plain": [
              "16     Q\n",
              "171    Q\n",
              "278    Q\n",
              "787    Q\n",
              "885    Q\n",
              "Name: Embarked, dtype: object"
            ]
          },
          "metadata": {
            "tags": []
          },
          "execution_count": 133
        }
      ]
    },
    {
      "cell_type": "code",
      "metadata": {
        "id": "gjoEByR_ckRE",
        "outputId": "98f01aeb-94cc-4679-9b5a-33e5bcfa189f",
        "colab": {
          "base_uri": "https://localhost:8080/",
          "height": 136
        }
      },
      "source": [
        "train['Ticket'][train['FirstName'] == 'Johnson']"
      ],
      "execution_count": null,
      "outputs": [
        {
          "output_type": "execute_result",
          "data": {
            "text/plain": [
              "8      347742\n",
              "172    347742\n",
              "302      LINE\n",
              "597      LINE\n",
              "719    347062\n",
              "869    347742\n",
              "Name: Ticket, dtype: object"
            ]
          },
          "metadata": {
            "tags": []
          },
          "execution_count": 134
        }
      ]
    },
    {
      "cell_type": "code",
      "metadata": {
        "scrolled": false,
        "id": "0AI8wzhickRF",
        "outputId": "834d2309-8ac9-4b0a-ffc9-c02c85acffaf",
        "colab": {
          "base_uri": "https://localhost:8080/",
          "height": 312
        }
      },
      "source": [
        "# FirstName의 값들을 카테고리화하자..\n",
        "FirstName_map = {}\n",
        "l1 = list(range(170))\n",
        "for i, j in enumerate(list(FirstNameTotal)):\n",
        "    val = l1[i]\n",
        "    FirstName_map[j] = val\n",
        "\n",
        "FirstNameNot_map = {}\n",
        "l2 = list(np.array([-1] * 762))\n",
        "for i, j in enumerate(list(FirstNameNotTotal)):\n",
        "    val = l2[i]\n",
        "    FirstNameNot_map[j] = val\n",
        "# 딕셔너리 합치기\n",
        "# 이렇게 안하면 NaN 생성됨 ㅜㅜ\n",
        "FirstName_map.update(FirstNameNot_map)\n",
        "\n",
        "print(FirstName_map)\n",
        "\n",
        "for data in all_data:\n",
        "    data['FirstName'] = data['FirstName'].map(FirstName_map)\n",
        "\n",
        "train.head()"
      ],
      "execution_count": null,
      "outputs": [
        {
          "output_type": "stream",
          "text": [
            "{'Baxter': 0, 'Mallet': -1, 'Johnston': 2, 'Baclini': 3, 'Moubarek': -1, 'Kelly': -1, 'Samaan': -1, 'West': -1, 'Futrelle': 8, 'Howard': 9, 'Morley': 10, 'Giles': -1, 'Clark': 12, 'Palsson': -1, 'Brown': 14, 'Gordon': 15, 'Attalah': 16, 'Planke': -1, 'Moor': 18, 'Dyker': 19, 'Snyder': 20, 'Navratil': 21, 'Thayer': 22, 'Yarred': 23, 'Jefferys': 24, 'Bourke': 25, 'Nasser': 26, 'Yasbeck': 27, 'Billiard': -1, 'Cacic': 29, 'Hansen': -1, 'Zakarian': 31, 'Jussila': 32, 'Rice': -1, 'Touma': -1, 'Carter': 35, 'Taussig': 36, 'Frauenthal': -1, 'Braund': 38, 'Heilmann': -1, 'Warren': -1, 'Andrews': 41, 'Ryerson': 42, 'Williams': -1, 'Chambers': 44, 'Brien': 45, 'Khalil': 46, 'Panula': 47, 'Richards': 48, 'Elias': -1, 'Pokrnic': 50, 'Peacock': 51, 'Widener': -1, 'Collyer': 53, 'Stengel': 54, 'Becker': 55, 'Ware': 56, 'Olsen': -1, 'Impe': 58, 'Johansson': -1, 'Franklin': 60, 'Harper': 61, 'Graham': 62, 'Caldwell': -1, 'Silvey': 64, 'Olsson': -1, 'Pears': 66, 'Ford': 67, 'Douglas': -1, 'Cor': -1, 'Herman': 70, 'Svensson': -1, 'Thomas': -1, 'Laroche': -1, 'Asplund': 74, 'Doling': 75, 'Carlsson': -1, 'Franchi': 77, 'Jacobsohn': 78, 'Goldsmith': -1, 'Taylor': 80, 'Holverson': 81, 'Ali': 82, 'Stanley': 83, 'Boulos': -1, 'Foley': 85, 'Kantor': 86, 'Klasen': -1, 'Dodge': -1, 'Murphy': -1, 'Castellana': 90, 'Abelseth': 91, 'Coleff': 92, 'Hamalainen': 93, 'Newell': 94, 'Webber': 95, 'Backstrom': 96, 'Abelson': 97, 'Andersson': 98, 'Oreskovic': -1, 'Beckwith': 100, 'Strom': 101, 'Wick': -1, 'Beane': 103, 'Phillips': -1, 'Mellinger': 105, 'Drew': -1, 'Flynn': 107, 'Rosblom': -1, 'Gustafsson': 109, 'Johnson': 110, 'Zabour': 111, 'Straus': 112, 'Skoog': 113, 'Keane': -1, 'Coutts': -1, 'Hakkarainen': 116, 'Minahan': -1, 'Barbara': 118, 'Allison': -1, 'Danbom': -1, 'Hays': -1, 'Renouf': 122, 'Crosby': -1, 'Abbott': -1, 'Allen': 125, 'Goldenberg': 126, 'McCoy': -1, 'Fortune': 128, 'Nakid': -1, 'Daly': -1, 'Quick': -1, 'Mahon': 132, 'Harris': 133, 'Karlsson': -1, 'Lobb': 135, 'Gibson': 136, 'Saad': 137, 'Davies': 138, 'Dick': 139, 'Goodwin': 140, 'Turpin': 141, 'Compton': -1, 'Jensen': 143, 'Spedden': -1, 'Sandstrom': -1, 'Calic': 146, 'Hickman': 147, 'Lefebre': -1, 'Smith': 149, 'Chapman': -1, 'Hagland': 151, 'Bishop': 152, 'Dean': 153, 'White': -1, 'Petroff': 155, 'Hippach': 156, 'Hocking': 157, 'Wells': -1, 'Nilsson': -1, 'Thorneycroft': 160, 'Moran': 161, 'Larsson': 162, 'Hart': 163, 'Lam': 164, 'Hoyt': 165, 'Peter': -1, 'Meyer': 167, 'Sage': 168, 'Buckley': 169, 'Lamb': -1, 'Frolicher': -1, 'Fynney': -1, 'Sharp': -1, 'Beauchamp': -1, 'Chaudanson': -1, 'Spinner': -1, 'Connor': -1, 'Norman': -1, 'Davison': -1, 'Malachard': -1, 'Roth': -1, 'Perreault': -1, 'Cornell': -1, 'Meanwell': -1, 'Carver': -1, 'Dorking': -1, 'Tobin': -1, 'Wiseman': -1, 'Bissette': -1, 'Fox': -1, 'Rothschild': -1, 'Bowerman': -1, 'Buss': -1, 'Slabenoff': -1, 'Troutt': -1, 'Edvardsson': -1, 'Hale': -1, 'McKane': -1, 'Holm': -1, 'Jones': -1, 'Appleton': -1, 'Cribb': -1, 'Everett': -1, 'Najib': -1, 'McCrie': -1, 'Rekic': -1, 'Nysveen': -1, 'Gilbert': -1, 'Downton': -1, 'Gill': -1, 'Candee': -1, 'Sullivan': -1, 'Laitinen': -1, 'Lundstrom': -1, 'Cohen': -1, 'Kimball': -1, 'Pernot': -1, 'Badt': -1, 'Braf': -1, 'Steffansson': -1, 'Baumann': -1, 'Albimona': -1, 'Otter': -1, 'Lockyer': -1, 'Sirota': -1, 'Stephenson': -1, 'Levy': -1, 'Dantcheff': -1, 'Nirva': -1, 'Hogeboom': -1, 'Serepeca': -1, 'Walle': -1, 'Zimmerman': -1, 'Abrahamsson': -1, 'Bostandyeff': -1, 'McDermott': -1, 'Novel': -1, 'Geiger': -1, 'Farthing': -1, 'Dintcheff': -1, 'Beavan': -1, 'Stoytcheff': -1, 'Louch': -1, 'Eitemiller': -1, 'Crafton': -1, 'Manent': -1, 'Matinoff': -1, 'Parker': -1, 'Blank': -1, 'Moutal': -1, 'Jardin': -1, 'Lyntakoff': -1, 'Driscoll': -1, 'Byles': -1, 'Ryan': -1, 'Kenyon': -1, 'Jalsevac': -1, 'Maybery': -1, 'Strilic': -1, 'Sheerlinck': -1, 'McCrae': -1, 'Finoli': -1, 'Veal': -1, 'Harbeck': -1, 'Fry': -1, 'Corbett': -1, 'Pedersen': -1, 'Clifford': -1, 'Sdycoff': -1, 'Hewlett': -1, 'Hodges': -1, 'Moen': -1, 'Brobeck': -1, 'Walker': -1, 'Ilett': -1, 'Long': -1, 'Palmquist': -1, 'Rheims': -1, 'Mockler': -1, 'Bird': -1, 'Karaic': -1, 'Aks': -1, 'Abrahim': -1, 'Lahoud': -1, 'Parkes': -1, 'Calderhead': -1, 'Tenglin': -1, 'Bowenur': -1, 'Humblen': -1, 'Carlo': -1, 'Yousseff': -1, 'Goldschmidt': -1, 'Stankovic': -1, 'Bateman': -1, 'Keefe': -1, 'Greenberg': -1, 'Razi': -1, 'Maioni': -1, 'Mangiavacchi': -1, 'Vovk': -1, 'Daniels': -1, 'Frost': -1, 'Lehmann': -1, 'Cunningham': -1, 'Kiernan': -1, 'Castello': -1, 'Lind': -1, 'Turcin': -1, 'Sinkkonen': -1, 'Dimic': -1, 'Horgan': -1, 'Mock': -1, 'Homer': -1, 'Walcroft': -1, 'Garside': -1, 'Fillbrook': -1, 'Persson': -1, 'Heininen': -1, 'Saalfeld': -1, 'Bracken': -1, 'Petersen': -1, 'Madigan': -1, 'Eustis': -1, 'Molson': -1, 'Gavey': -1, 'Barber': -1, 'Cruyssen': -1, 'Funk': -1, 'Dulles': -1, 'Rugg': -1, 'McNeill': -1, 'Morrow': -1, 'Lindahl': -1, 'Deacon': -1, 'Flegenheim': -1, 'Robins': -1, 'Salomon': -1, 'Tucker': -1, 'Lundin': -1, 'Myhrman': -1, 'Ridsdale': -1, 'Karnes': -1, 'Hampe': -1, 'Barah': -1, 'Lang': -1, 'Jonsson': -1, 'Maeglin': -1, 'Denkoff': -1, 'Sjostedt': -1, 'Lahtinen': -1, 'Saether': -1, 'Lines': -1, 'Lemore': -1, 'Rommetvedt': -1, 'Ashby': -1, 'Linehan': -1, 'Beattie': -1, 'Dowdell': -1, 'Harrison': -1, 'Rothes': -1, 'Christy': -1, 'Watson': -1, 'Pengelly': -1, 'Rintamaki': -1, 'Yousif': -1, 'Willard': -1, 'Foo': -1, 'Hassan': -1, 'Hegarty': -1, 'Peruschitz': -1, 'Butt': -1, 'MacKay': -1, 'Clarke': -1, 'Maenpaa': -1, 'Cotterill': -1, 'Kent': -1, 'Riordan': -1, 'Henriksson': -1, 'Longley': -1, 'Allum': -1, 'Kraeff': -1, 'Bentham': -1, 'Marechal': -1, 'Newsom': -1, 'Reynaldo': -1, 'Nasr': -1, 'Colley': -1, 'Mitchell': -1, 'Moussa': -1, 'Millet': -1, 'Carrau': -1, 'Beesley': -1, 'Gillespie': -1, 'Kallio': -1, 'Sutton': -1, 'Mannion': -1, 'Pelsmaeker': -1, 'Saade': -1, 'Wirz': -1, 'Ward': -1, 'Schmidt': -1, 'Uruchurtu': -1, 'Montvila': -1, 'Spector': -1, 'Sloper': -1, 'Murdlin': -1, 'Hagardon': -1, 'Bjorklund': -1, 'Birkeland': -1, 'Earnshaw': -1, 'Connell': -1, 'Stokes': -1, 'Ahlin': -1, 'Corey': -1, 'Maguire': -1, 'Drazenoic': -1, 'Storey': -1, 'Francatelli': -1, 'Birnbaum': -1, 'Rasmussen': -1, 'Lambert': -1, 'Cleaver': -1, 'Nesson': -1, 'Hee': -1, 'Chaffee': -1, 'Davis': -1, 'Mamee': -1, 'Peduzzi': -1, 'Wright': -1, 'Madill': -1, 'Stone': -1, 'Markun': -1, 'Daher': -1, 'Gaskell': -1, 'Wenzel': -1, 'Blackwell': -1, 'Jarvis': -1, 'Sadlier': -1, 'Chronopoulos': -1, 'Fahlstrom': -1, 'Mayne': -1, 'Jenkin': -1, 'Shellard': -1, 'Matthews': -1, 'Pavlovic': -1, 'Gallagher': -1, 'Peters': -1, 'Parr': -1, 'Weisz': -1, 'Youseff': -1, 'Caram': -1, 'Hiltunen': -1, 'Conlon': -1, 'Saundercock': -1, 'Alexander': -1, 'Mardirosian': -1, 'Holthen': -1, 'Jerwan': -1, 'Seward': -1, 'Strandberg': -1, 'Troupiansky': -1, 'Pekoniemi': -1, 'Romaine': -1, 'Risien': -1, 'Pettersson': -1, 'Carbines': -1, 'LeRoy': -1, 'Kassem': -1, 'Kvillner': -1, 'Masselmani': -1, 'Denbury': -1, 'Hyman': -1, 'Canavan': -1, 'Reed': -1, 'Torber': -1, 'Badman': -1, 'Bonnell': -1, 'Moore': -1, 'Nankoff': -1, 'Augustsson': -1, 'Todoroff': -1, 'Thorne': -1, 'McCarthy': -1, 'Hellstrom': -1, 'Alhomaki': -1, 'Lemberopolous': -1, 'Cumings': -1, 'Wheeler': -1, 'Peltomaki': -1, 'Ling': -1, 'Portaluppi': -1, 'Cardeza': -1, 'Leinonen': -1, 'Sundman': -1, 'Bowen': -1, 'Demetri': -1, 'Dennis': -1, 'Hassab': -1, 'Head': -1, 'Artagaveytia': -1, 'Sivic': -1, 'Lennon': -1, 'Soholt': -1, 'Borebank': -1, 'Julian': -1, 'Bidois': -1, 'Evans': -1, 'Bucknell': -1, 'Melkebeke': -1, 'Milling': -1, 'Banfield': -1, 'Daniel': -1, 'Lundahl': -1, 'Mionoff': -1, 'Yrois': -1, 'Schabert': -1, 'Ross': -1, 'Shawah': -1, 'Lovell': -1, 'Bailey': -1, 'Steen': -1, 'McCaffry': -1, 'Honkanen': -1, 'Potter': -1, 'Bengtsson': -1, 'Dika': -1, 'Lithman': -1, 'Wheadon': -1, 'Madsen': -1, 'Thomson': -1, 'Tomlin': -1, 'Reynolds': -1, 'Reuchlin': -1, 'Barry': -1, 'Mulvihill': -1, 'More': -1, 'Collander': -1, 'Devaney': -1, 'Karun': -1, 'Mangan': -1, 'Pain': -1, 'Reeves': -1, 'Shorney': -1, 'Lindell': -1, 'Garfirth': -1, 'Stranden': -1, 'Ekstrom': -1, 'Jermyn': -1, 'Goncalves': -1, 'Silven': -1, 'Lindqvist': -1, 'Markoff': -1, 'Assaf': -1, 'McCormack': -1, 'Barton': -1, 'Velde': -1, 'Greenfield': -1, 'Berriman': -1, 'Celotti': -1, 'Krekorian': -1, 'Giglio': -1, 'Mernagh': -1, 'Kalvik': -1, 'Davidson': -1, 'Pasic': -1, 'Sunderland': -1, 'Laleff': -1, 'Healy': -1, 'Dooley': -1, 'Harrington': -1, 'Duane': -1, 'Nicholson': -1, 'Bing': -1, 'Salkjelsvik': -1, 'Charters': -1, 'Young': -1, 'Icard': -1, 'Hawksford': -1, 'Smyth': -1, 'Wiklund': -1, 'Rowe': -1, 'Glynn': -1, 'Mineff': -1, 'Lulic': -1, 'Sutehall': -1, 'Shelley': -1, 'Natsch': -1, 'Rouse': -1, 'Chisholm': -1, 'Hipkins': -1, 'Andrew': -1, 'Ostby': -1, 'Leyson': -1, 'Doyle': -1, 'Roebling': -1, 'Foreman': -1, 'Aronsson': -1, 'Ocana': -1, 'Haas': -1, 'Hanna': -1, 'Midtsjo': -1, 'Hirvonen': -1, 'Nieminen': -1, 'Ayoub': -1, 'Baccos': -1, 'Mulder': -1, 'Balkic': -1, 'McEvoy': -1, 'Heikkinen': -1, 'Marvin': -1, 'Brewe': -1, 'Patchett': -1, 'Vendel': -1, 'Baimbrigge': -1, 'Pearce': -1, 'Knight': -1, 'Rood': -1, 'Angheloff': -1, 'Guggenheim': -1, 'Stehli': -1, 'Slocovski': -1, 'Emanuel': -1, 'Sagesser': -1, 'Dahlberg': -1, 'Lane': -1, 'Toomey': -1, 'Bryhl': -1, 'Dahl': -1, 'Dibden': -1, 'Behr': -1, 'Ringhini': -1, 'Chibnall': -1, 'Brady': -1, 'Nysten': -1, 'Swane': -1, 'Moss': -1, 'Asim': -1, 'Salander': -1, 'Partner': -1, 'Pickard': -1, 'Kilgannon': -1, 'Connolly': -1, 'Shaughnessy': -1, 'Loring': -1, 'Wilkes': -1, 'Aubart': -1, 'Pulbaum': -1, 'Bratthammer': -1, 'Aldworth': -1, 'Niklasson': -1, 'Blumer': -1, 'Riihivouri': -1, 'Nourney': -1, 'Stewart': -1, 'Enander': -1, 'Meek': -1, 'Salonen': -1, 'Gheorgheff': -1, 'Burns': -1, 'Henry': -1, 'Barkworth': -1, 'Andersen': -1, 'Omont': -1, 'Astor': -1, 'Parrish': -1, 'Tikkanen': -1, 'Willey': -1, 'Tornquist': -1, 'Kirkland': -1, 'Jansson': -1, 'Ismay': -1, 'Vartanian': -1, 'Petranec': -1, 'Adams': -1, 'Watt': -1, 'Bazzani': -1, 'Hold': -1, 'Sirayanian': -1, 'Kink': -1, 'Ivanoff': -1, 'Nye': -1, 'Duquemin': -1, 'Shine': -1, 'Wilson': -1, 'Doharr': -1, 'Radeff': -1, 'Cameron': -1, 'Wilhelms': -1, 'Brito': -1, 'Lester': -1, 'Widegren': -1, 'Botsford': -1, 'Messemaeker': -1, 'Sap': -1, 'Ilmakangas': -1, 'Petterson': -1, 'Lindblom': -1, 'Myles': -1, 'Cook': -1, 'Dakic': -1, 'Odahl': -1, 'Leeni': -1, 'Staneff': -1, 'Lesurer': -1, 'Lurette': -1, 'Angle': -1, 'Harknett': -1, 'Green': -1, 'Coxon': -1, 'Paulner': -1, 'McGovern': -1, 'Toufik': -1, 'Shutes': -1, 'Windelov': -1, 'Hilliard': -1, 'Nenkoff': -1, 'Rogers': -1, 'Carr': -1, 'Adahl': -1, 'Ponesell': -1, 'Farrell': -1, 'Robert': -1, 'Hood': -1, 'Sobey': -1, 'Leonard': -1, 'Cavendish': -1, 'Cassebeer': -1, 'Hunt': -1, 'Nancarrow': -1, 'McGowan': -1, 'Whabee': -1, 'Naughton': -1, 'Fleming': -1, 'Ball': -1, 'Brocklebank': -1, 'Corn': -1, 'Klaber': -1, 'Makinen': -1, 'Johanson': -1, 'Abbing': -1, 'Mitkoff': -1, 'Givard': -1, 'Wittevrongel': -1, 'Lingane': -1, 'Sadowitz': -1, 'Andreasson': -1, 'Vestrom': -1, 'Hosono': -1, 'Somerton': -1, 'Gilnagh': -1, 'Plotcharsky': -1, 'Berglund': -1, 'Stead': -1, 'Miles': -1, 'Gilinski': -1, 'Anderson': -1, 'Brandeis': -1, 'Simmons': -1, 'Rondberg': -1, 'Nicholls': -1, 'Leader': -1, 'Danoff': -1, 'Hendekovic': -1, 'Bradley': -1, 'Osman': -1, 'hoef': -1, 'Faunthorpe': -1, 'Burke': -1, 'Leary': -1, 'Sawyer': -1, 'Crease': -1, 'Christmann': -1, 'Maisner': -1, 'Porter': -1, 'Kennedy': -1, 'Endres': -1, 'Sweet': -1, 'Rosenbaum': -1, 'Eklund': -1, 'Assam': -1, 'Betros': -1, 'Silverthorne': -1, 'Harder': -1, 'Coleridge': -1, 'Harmer': -1, 'Slayter': -1, 'Turja': -1, 'Scanlan': -1, 'Butler': -1, 'Pinsky': -1, 'Gee': -1, 'Connaghton': -1, 'Landergren': -1, 'Niskanen': -1, 'Connors': -1, 'Elsbury': -1, 'Rush': -1, 'Gracie': -1, 'Coelho': -1, 'Moraweck': -1, 'Cann': -1, 'Donoghue': -1, 'Smiljanic': -1, 'Fischer': -1, 'Cairns': -1, 'Swift': -1, 'McGough': -1, 'Gale': -1, 'Minkoff': -1, 'Olsvigen': -1, 'Sjoblom': -1, 'Emir': -1, 'Bystrom': -1, 'Nosworthy': -1, 'Peuchen': -1, 'Meo': -1, 'Stanton': -1, 'Torfa': -1, 'Payne': -1, 'Drapkin': -1, 'Sincock': -1, 'Chevre': -1, 'Isham': -1, 'Culumovic': -1, 'Slemen': -1, 'Waelens': -1, 'Guest': -1, 'Lewy': -1, 'Lindstrom': -1, 'Keeping': -1, 'Cherry': -1, 'Lievens': -1, 'Hedman': -1, 'Campbell': -1, 'Robbins': -1, 'Dwyer': -1, 'Richard': -1, 'Mellors': -1, 'Weir': -1, 'Case': -1, 'Jonkoff': -1, 'Willer': -1, 'Mudd': -1, 'Rosenshine': -1, 'Spencer': -1, 'Katavelas': -1, 'Oxenham': -1, 'Perkin': -1, 'Delalic': -1, 'Colbert': -1, 'Osen': -1, 'Sivola': -1, 'Sedgwick': -1, 'Gronnestad': -1, 'McMahon': -1, 'Theobald': -1, 'Smart': -1, 'Kreuchen': -1, 'Chip': -1, 'Naidenoff': -1, 'Rodriguez': -1, 'McNamee': -1, 'Turkula': -1, 'Trout': -1, 'Ilieff': -1, 'Mack': -1, 'Woolner': -1, 'Leitch': -1, 'Collett': -1, 'Mullens': -1, 'Ohman': -1}\n"
          ],
          "name": "stdout"
        },
        {
          "output_type": "execute_result",
          "data": {
            "text/html": [
              "<div>\n",
              "<style scoped>\n",
              "    .dataframe tbody tr th:only-of-type {\n",
              "        vertical-align: middle;\n",
              "    }\n",
              "\n",
              "    .dataframe tbody tr th {\n",
              "        vertical-align: top;\n",
              "    }\n",
              "\n",
              "    .dataframe thead th {\n",
              "        text-align: right;\n",
              "    }\n",
              "</style>\n",
              "<table border=\"1\" class=\"dataframe\">\n",
              "  <thead>\n",
              "    <tr style=\"text-align: right;\">\n",
              "      <th></th>\n",
              "      <th>PassengerId</th>\n",
              "      <th>Survived</th>\n",
              "      <th>Pclass</th>\n",
              "      <th>Name</th>\n",
              "      <th>Sex</th>\n",
              "      <th>Age</th>\n",
              "      <th>SibSp</th>\n",
              "      <th>Parch</th>\n",
              "      <th>Ticket</th>\n",
              "      <th>Fare</th>\n",
              "      <th>Cabin</th>\n",
              "      <th>Embarked</th>\n",
              "      <th>FamilySize</th>\n",
              "      <th>Alone</th>\n",
              "      <th>FirstName</th>\n",
              "    </tr>\n",
              "  </thead>\n",
              "  <tbody>\n",
              "    <tr>\n",
              "      <th>0</th>\n",
              "      <td>1</td>\n",
              "      <td>0</td>\n",
              "      <td>3</td>\n",
              "      <td>Braund, Mr. Owen Harris</td>\n",
              "      <td>1</td>\n",
              "      <td>22.0</td>\n",
              "      <td>1</td>\n",
              "      <td>0</td>\n",
              "      <td>A/5 21171</td>\n",
              "      <td>7.2500</td>\n",
              "      <td>NaN</td>\n",
              "      <td>S</td>\n",
              "      <td>2</td>\n",
              "      <td>0</td>\n",
              "      <td>38</td>\n",
              "    </tr>\n",
              "    <tr>\n",
              "      <th>1</th>\n",
              "      <td>2</td>\n",
              "      <td>1</td>\n",
              "      <td>1</td>\n",
              "      <td>Cumings, Mrs. John Bradley (Florence Briggs Th...</td>\n",
              "      <td>0</td>\n",
              "      <td>38.0</td>\n",
              "      <td>1</td>\n",
              "      <td>0</td>\n",
              "      <td>PC 17599</td>\n",
              "      <td>71.2833</td>\n",
              "      <td>C85</td>\n",
              "      <td>C</td>\n",
              "      <td>2</td>\n",
              "      <td>0</td>\n",
              "      <td>-1</td>\n",
              "    </tr>\n",
              "    <tr>\n",
              "      <th>2</th>\n",
              "      <td>3</td>\n",
              "      <td>1</td>\n",
              "      <td>3</td>\n",
              "      <td>Heikkinen, Miss. Laina</td>\n",
              "      <td>0</td>\n",
              "      <td>26.0</td>\n",
              "      <td>0</td>\n",
              "      <td>0</td>\n",
              "      <td>STON/O2. 3101282</td>\n",
              "      <td>7.9250</td>\n",
              "      <td>NaN</td>\n",
              "      <td>S</td>\n",
              "      <td>1</td>\n",
              "      <td>1</td>\n",
              "      <td>-1</td>\n",
              "    </tr>\n",
              "    <tr>\n",
              "      <th>3</th>\n",
              "      <td>4</td>\n",
              "      <td>1</td>\n",
              "      <td>1</td>\n",
              "      <td>Futrelle, Mrs. Jacques Heath (Lily May Peel)</td>\n",
              "      <td>0</td>\n",
              "      <td>35.0</td>\n",
              "      <td>1</td>\n",
              "      <td>0</td>\n",
              "      <td>113803</td>\n",
              "      <td>53.1000</td>\n",
              "      <td>C123</td>\n",
              "      <td>S</td>\n",
              "      <td>2</td>\n",
              "      <td>0</td>\n",
              "      <td>8</td>\n",
              "    </tr>\n",
              "    <tr>\n",
              "      <th>4</th>\n",
              "      <td>5</td>\n",
              "      <td>0</td>\n",
              "      <td>3</td>\n",
              "      <td>Allen, Mr. William Henry</td>\n",
              "      <td>1</td>\n",
              "      <td>35.0</td>\n",
              "      <td>0</td>\n",
              "      <td>0</td>\n",
              "      <td>373450</td>\n",
              "      <td>8.0500</td>\n",
              "      <td>NaN</td>\n",
              "      <td>S</td>\n",
              "      <td>1</td>\n",
              "      <td>1</td>\n",
              "      <td>125</td>\n",
              "    </tr>\n",
              "  </tbody>\n",
              "</table>\n",
              "</div>"
            ],
            "text/plain": [
              "   PassengerId  Survived  Pclass  ... FamilySize  Alone  FirstName\n",
              "0            1         0       3  ...          2      0         38\n",
              "1            2         1       1  ...          2      0         -1\n",
              "2            3         1       3  ...          1      1         -1\n",
              "3            4         1       1  ...          2      0          8\n",
              "4            5         0       3  ...          1      1        125\n",
              "\n",
              "[5 rows x 15 columns]"
            ]
          },
          "metadata": {
            "tags": []
          },
          "execution_count": 135
        }
      ]
    },
    {
      "cell_type": "code",
      "metadata": {
        "id": "GNGt1BsJckRG",
        "outputId": "c042f846-8803-4783-94a1-3e9407ef0e1d",
        "colab": {
          "base_uri": "https://localhost:8080/",
          "height": 34
        }
      },
      "source": [
        "train['FirstName'].isnull().sum()"
      ],
      "execution_count": null,
      "outputs": [
        {
          "output_type": "execute_result",
          "data": {
            "text/plain": [
              "0"
            ]
          },
          "metadata": {
            "tags": []
          },
          "execution_count": 136
        }
      ]
    },
    {
      "cell_type": "code",
      "metadata": {
        "id": "gxiNl0mmckRH",
        "outputId": "70905fa9-95ff-4796-b59f-557ae2e2ed62",
        "colab": {
          "base_uri": "https://localhost:8080/",
          "height": 629
        }
      },
      "source": [
        "test['FirstName'].value_counts()"
      ],
      "execution_count": null,
      "outputs": [
        {
          "output_type": "execute_result",
          "data": {
            "text/plain": [
              "-1      338\n",
              " 138      4\n",
              " 168      4\n",
              " 74       4\n",
              " 56       4\n",
              " 42       3\n",
              " 46       3\n",
              " 9        3\n",
              " 51       3\n",
              " 14       2\n",
              " 12       2\n",
              " 19       2\n",
              " 20       2\n",
              " 54       2\n",
              " 29       2\n",
              " 31       2\n",
              " 50       2\n",
              " 2        2\n",
              " 24       2\n",
              " 169      2\n",
              " 55       2\n",
              " 67       2\n",
              " 70       2\n",
              " 85       2\n",
              " 91       2\n",
              " 98       2\n",
              " 112      2\n",
              " 128      2\n",
              " 132      2\n",
              " 136      2\n",
              " 140      2\n",
              " 149      2\n",
              " 153      2\n",
              " 157      2\n",
              " 60       2\n",
              "Name: FirstName, dtype: int64"
            ]
          },
          "metadata": {
            "tags": []
          },
          "execution_count": 137
        }
      ]
    },
    {
      "cell_type": "markdown",
      "metadata": {
        "id": "6dJ4SYRRckRI"
      },
      "source": [
        "## FamilySize - Embarked"
      ]
    },
    {
      "cell_type": "code",
      "metadata": {
        "scrolled": true,
        "id": "DN7Q-fxYckRI",
        "outputId": "2229980e-8e20-40d4-cd58-46a9c3f6d88e",
        "colab": {
          "base_uri": "https://localhost:8080/",
          "height": 328
        }
      },
      "source": [
        "pd.crosstab(train['FamilySize'], train['Embarked'])"
      ],
      "execution_count": null,
      "outputs": [
        {
          "output_type": "execute_result",
          "data": {
            "text/html": [
              "<div>\n",
              "<style scoped>\n",
              "    .dataframe tbody tr th:only-of-type {\n",
              "        vertical-align: middle;\n",
              "    }\n",
              "\n",
              "    .dataframe tbody tr th {\n",
              "        vertical-align: top;\n",
              "    }\n",
              "\n",
              "    .dataframe thead th {\n",
              "        text-align: right;\n",
              "    }\n",
              "</style>\n",
              "<table border=\"1\" class=\"dataframe\">\n",
              "  <thead>\n",
              "    <tr style=\"text-align: right;\">\n",
              "      <th>Embarked</th>\n",
              "      <th>C</th>\n",
              "      <th>Q</th>\n",
              "      <th>S</th>\n",
              "    </tr>\n",
              "    <tr>\n",
              "      <th>FamilySize</th>\n",
              "      <th></th>\n",
              "      <th></th>\n",
              "      <th></th>\n",
              "    </tr>\n",
              "  </thead>\n",
              "  <tbody>\n",
              "    <tr>\n",
              "      <th>1</th>\n",
              "      <td>85</td>\n",
              "      <td>57</td>\n",
              "      <td>393</td>\n",
              "    </tr>\n",
              "    <tr>\n",
              "      <th>2</th>\n",
              "      <td>51</td>\n",
              "      <td>9</td>\n",
              "      <td>101</td>\n",
              "    </tr>\n",
              "    <tr>\n",
              "      <th>3</th>\n",
              "      <td>23</td>\n",
              "      <td>6</td>\n",
              "      <td>73</td>\n",
              "    </tr>\n",
              "    <tr>\n",
              "      <th>4</th>\n",
              "      <td>7</td>\n",
              "      <td>0</td>\n",
              "      <td>22</td>\n",
              "    </tr>\n",
              "    <tr>\n",
              "      <th>5</th>\n",
              "      <td>2</td>\n",
              "      <td>0</td>\n",
              "      <td>13</td>\n",
              "    </tr>\n",
              "    <tr>\n",
              "      <th>6</th>\n",
              "      <td>0</td>\n",
              "      <td>5</td>\n",
              "      <td>17</td>\n",
              "    </tr>\n",
              "    <tr>\n",
              "      <th>7</th>\n",
              "      <td>0</td>\n",
              "      <td>0</td>\n",
              "      <td>12</td>\n",
              "    </tr>\n",
              "    <tr>\n",
              "      <th>8</th>\n",
              "      <td>0</td>\n",
              "      <td>0</td>\n",
              "      <td>13</td>\n",
              "    </tr>\n",
              "  </tbody>\n",
              "</table>\n",
              "</div>"
            ],
            "text/plain": [
              "Embarked     C   Q    S\n",
              "FamilySize             \n",
              "1           85  57  393\n",
              "2           51   9  101\n",
              "3           23   6   73\n",
              "4            7   0   22\n",
              "5            2   0   13\n",
              "6            0   5   17\n",
              "7            0   0   12\n",
              "8            0   0   13"
            ]
          },
          "metadata": {
            "tags": []
          },
          "execution_count": 138
        }
      ]
    },
    {
      "cell_type": "code",
      "metadata": {
        "id": "bMMHIv_CckRJ",
        "outputId": "82736e5e-0378-42b4-cf0c-5b6a94522fcb",
        "colab": {
          "base_uri": "https://localhost:8080/",
          "height": 386
        }
      },
      "source": [
        "# 모르겠다\n",
        "pd.crosstab(train['FamilySize'], train['Cabin'])"
      ],
      "execution_count": null,
      "outputs": [
        {
          "output_type": "execute_result",
          "data": {
            "text/html": [
              "<div>\n",
              "<style scoped>\n",
              "    .dataframe tbody tr th:only-of-type {\n",
              "        vertical-align: middle;\n",
              "    }\n",
              "\n",
              "    .dataframe tbody tr th {\n",
              "        vertical-align: top;\n",
              "    }\n",
              "\n",
              "    .dataframe thead th {\n",
              "        text-align: right;\n",
              "    }\n",
              "</style>\n",
              "<table border=\"1\" class=\"dataframe\">\n",
              "  <thead>\n",
              "    <tr style=\"text-align: right;\">\n",
              "      <th>Cabin</th>\n",
              "      <th>A10</th>\n",
              "      <th>A14</th>\n",
              "      <th>A16</th>\n",
              "      <th>A19</th>\n",
              "      <th>A20</th>\n",
              "      <th>A23</th>\n",
              "      <th>A24</th>\n",
              "      <th>A26</th>\n",
              "      <th>A31</th>\n",
              "      <th>A32</th>\n",
              "      <th>A34</th>\n",
              "      <th>A36</th>\n",
              "      <th>A5</th>\n",
              "      <th>A6</th>\n",
              "      <th>A7</th>\n",
              "      <th>B101</th>\n",
              "      <th>B102</th>\n",
              "      <th>B18</th>\n",
              "      <th>B19</th>\n",
              "      <th>B20</th>\n",
              "      <th>B22</th>\n",
              "      <th>B28</th>\n",
              "      <th>B3</th>\n",
              "      <th>B30</th>\n",
              "      <th>B35</th>\n",
              "      <th>B37</th>\n",
              "      <th>B38</th>\n",
              "      <th>B39</th>\n",
              "      <th>B4</th>\n",
              "      <th>B41</th>\n",
              "      <th>B42</th>\n",
              "      <th>B49</th>\n",
              "      <th>B5</th>\n",
              "      <th>B50</th>\n",
              "      <th>B51 B53 B55</th>\n",
              "      <th>B57 B59 B63 B66</th>\n",
              "      <th>B58 B60</th>\n",
              "      <th>B69</th>\n",
              "      <th>B71</th>\n",
              "      <th>B73</th>\n",
              "      <th>...</th>\n",
              "      <th>D47</th>\n",
              "      <th>D48</th>\n",
              "      <th>D49</th>\n",
              "      <th>D50</th>\n",
              "      <th>D56</th>\n",
              "      <th>D6</th>\n",
              "      <th>D7</th>\n",
              "      <th>D9</th>\n",
              "      <th>E10</th>\n",
              "      <th>E101</th>\n",
              "      <th>E12</th>\n",
              "      <th>E121</th>\n",
              "      <th>E17</th>\n",
              "      <th>E24</th>\n",
              "      <th>E25</th>\n",
              "      <th>E31</th>\n",
              "      <th>E33</th>\n",
              "      <th>E34</th>\n",
              "      <th>E36</th>\n",
              "      <th>E38</th>\n",
              "      <th>E40</th>\n",
              "      <th>E44</th>\n",
              "      <th>E46</th>\n",
              "      <th>E49</th>\n",
              "      <th>E50</th>\n",
              "      <th>E58</th>\n",
              "      <th>E63</th>\n",
              "      <th>E67</th>\n",
              "      <th>E68</th>\n",
              "      <th>E77</th>\n",
              "      <th>E8</th>\n",
              "      <th>F E69</th>\n",
              "      <th>F G63</th>\n",
              "      <th>F G73</th>\n",
              "      <th>F2</th>\n",
              "      <th>F33</th>\n",
              "      <th>F38</th>\n",
              "      <th>F4</th>\n",
              "      <th>G6</th>\n",
              "      <th>T</th>\n",
              "    </tr>\n",
              "    <tr>\n",
              "      <th>FamilySize</th>\n",
              "      <th></th>\n",
              "      <th></th>\n",
              "      <th></th>\n",
              "      <th></th>\n",
              "      <th></th>\n",
              "      <th></th>\n",
              "      <th></th>\n",
              "      <th></th>\n",
              "      <th></th>\n",
              "      <th></th>\n",
              "      <th></th>\n",
              "      <th></th>\n",
              "      <th></th>\n",
              "      <th></th>\n",
              "      <th></th>\n",
              "      <th></th>\n",
              "      <th></th>\n",
              "      <th></th>\n",
              "      <th></th>\n",
              "      <th></th>\n",
              "      <th></th>\n",
              "      <th></th>\n",
              "      <th></th>\n",
              "      <th></th>\n",
              "      <th></th>\n",
              "      <th></th>\n",
              "      <th></th>\n",
              "      <th></th>\n",
              "      <th></th>\n",
              "      <th></th>\n",
              "      <th></th>\n",
              "      <th></th>\n",
              "      <th></th>\n",
              "      <th></th>\n",
              "      <th></th>\n",
              "      <th></th>\n",
              "      <th></th>\n",
              "      <th></th>\n",
              "      <th></th>\n",
              "      <th></th>\n",
              "      <th></th>\n",
              "      <th></th>\n",
              "      <th></th>\n",
              "      <th></th>\n",
              "      <th></th>\n",
              "      <th></th>\n",
              "      <th></th>\n",
              "      <th></th>\n",
              "      <th></th>\n",
              "      <th></th>\n",
              "      <th></th>\n",
              "      <th></th>\n",
              "      <th></th>\n",
              "      <th></th>\n",
              "      <th></th>\n",
              "      <th></th>\n",
              "      <th></th>\n",
              "      <th></th>\n",
              "      <th></th>\n",
              "      <th></th>\n",
              "      <th></th>\n",
              "      <th></th>\n",
              "      <th></th>\n",
              "      <th></th>\n",
              "      <th></th>\n",
              "      <th></th>\n",
              "      <th></th>\n",
              "      <th></th>\n",
              "      <th></th>\n",
              "      <th></th>\n",
              "      <th></th>\n",
              "      <th></th>\n",
              "      <th></th>\n",
              "      <th></th>\n",
              "      <th></th>\n",
              "      <th></th>\n",
              "      <th></th>\n",
              "      <th></th>\n",
              "      <th></th>\n",
              "      <th></th>\n",
              "      <th></th>\n",
              "    </tr>\n",
              "  </thead>\n",
              "  <tbody>\n",
              "    <tr>\n",
              "      <th>1</th>\n",
              "      <td>1</td>\n",
              "      <td>1</td>\n",
              "      <td>0</td>\n",
              "      <td>1</td>\n",
              "      <td>0</td>\n",
              "      <td>1</td>\n",
              "      <td>1</td>\n",
              "      <td>1</td>\n",
              "      <td>1</td>\n",
              "      <td>1</td>\n",
              "      <td>0</td>\n",
              "      <td>1</td>\n",
              "      <td>1</td>\n",
              "      <td>1</td>\n",
              "      <td>1</td>\n",
              "      <td>1</td>\n",
              "      <td>1</td>\n",
              "      <td>0</td>\n",
              "      <td>1</td>\n",
              "      <td>0</td>\n",
              "      <td>0</td>\n",
              "      <td>2</td>\n",
              "      <td>0</td>\n",
              "      <td>0</td>\n",
              "      <td>2</td>\n",
              "      <td>1</td>\n",
              "      <td>1</td>\n",
              "      <td>0</td>\n",
              "      <td>1</td>\n",
              "      <td>0</td>\n",
              "      <td>1</td>\n",
              "      <td>0</td>\n",
              "      <td>1</td>\n",
              "      <td>1</td>\n",
              "      <td>1</td>\n",
              "      <td>0</td>\n",
              "      <td>0</td>\n",
              "      <td>0</td>\n",
              "      <td>0</td>\n",
              "      <td>1</td>\n",
              "      <td>...</td>\n",
              "      <td>0</td>\n",
              "      <td>0</td>\n",
              "      <td>1</td>\n",
              "      <td>1</td>\n",
              "      <td>1</td>\n",
              "      <td>1</td>\n",
              "      <td>0</td>\n",
              "      <td>1</td>\n",
              "      <td>1</td>\n",
              "      <td>3</td>\n",
              "      <td>1</td>\n",
              "      <td>0</td>\n",
              "      <td>1</td>\n",
              "      <td>2</td>\n",
              "      <td>2</td>\n",
              "      <td>0</td>\n",
              "      <td>0</td>\n",
              "      <td>0</td>\n",
              "      <td>1</td>\n",
              "      <td>1</td>\n",
              "      <td>1</td>\n",
              "      <td>0</td>\n",
              "      <td>1</td>\n",
              "      <td>0</td>\n",
              "      <td>0</td>\n",
              "      <td>1</td>\n",
              "      <td>1</td>\n",
              "      <td>0</td>\n",
              "      <td>0</td>\n",
              "      <td>1</td>\n",
              "      <td>0</td>\n",
              "      <td>0</td>\n",
              "      <td>1</td>\n",
              "      <td>2</td>\n",
              "      <td>0</td>\n",
              "      <td>3</td>\n",
              "      <td>1</td>\n",
              "      <td>0</td>\n",
              "      <td>0</td>\n",
              "      <td>1</td>\n",
              "    </tr>\n",
              "    <tr>\n",
              "      <th>2</th>\n",
              "      <td>0</td>\n",
              "      <td>0</td>\n",
              "      <td>1</td>\n",
              "      <td>0</td>\n",
              "      <td>1</td>\n",
              "      <td>0</td>\n",
              "      <td>0</td>\n",
              "      <td>0</td>\n",
              "      <td>0</td>\n",
              "      <td>0</td>\n",
              "      <td>0</td>\n",
              "      <td>0</td>\n",
              "      <td>0</td>\n",
              "      <td>0</td>\n",
              "      <td>0</td>\n",
              "      <td>0</td>\n",
              "      <td>0</td>\n",
              "      <td>2</td>\n",
              "      <td>0</td>\n",
              "      <td>2</td>\n",
              "      <td>0</td>\n",
              "      <td>0</td>\n",
              "      <td>1</td>\n",
              "      <td>1</td>\n",
              "      <td>0</td>\n",
              "      <td>0</td>\n",
              "      <td>0</td>\n",
              "      <td>0</td>\n",
              "      <td>0</td>\n",
              "      <td>0</td>\n",
              "      <td>0</td>\n",
              "      <td>2</td>\n",
              "      <td>1</td>\n",
              "      <td>0</td>\n",
              "      <td>1</td>\n",
              "      <td>0</td>\n",
              "      <td>2</td>\n",
              "      <td>0</td>\n",
              "      <td>1</td>\n",
              "      <td>0</td>\n",
              "      <td>...</td>\n",
              "      <td>0</td>\n",
              "      <td>0</td>\n",
              "      <td>0</td>\n",
              "      <td>0</td>\n",
              "      <td>0</td>\n",
              "      <td>0</td>\n",
              "      <td>1</td>\n",
              "      <td>0</td>\n",
              "      <td>0</td>\n",
              "      <td>0</td>\n",
              "      <td>0</td>\n",
              "      <td>2</td>\n",
              "      <td>0</td>\n",
              "      <td>0</td>\n",
              "      <td>0</td>\n",
              "      <td>1</td>\n",
              "      <td>2</td>\n",
              "      <td>0</td>\n",
              "      <td>0</td>\n",
              "      <td>0</td>\n",
              "      <td>0</td>\n",
              "      <td>2</td>\n",
              "      <td>0</td>\n",
              "      <td>0</td>\n",
              "      <td>1</td>\n",
              "      <td>0</td>\n",
              "      <td>0</td>\n",
              "      <td>0</td>\n",
              "      <td>0</td>\n",
              "      <td>0</td>\n",
              "      <td>2</td>\n",
              "      <td>0</td>\n",
              "      <td>0</td>\n",
              "      <td>0</td>\n",
              "      <td>0</td>\n",
              "      <td>0</td>\n",
              "      <td>0</td>\n",
              "      <td>0</td>\n",
              "      <td>1</td>\n",
              "      <td>0</td>\n",
              "    </tr>\n",
              "    <tr>\n",
              "      <th>3</th>\n",
              "      <td>0</td>\n",
              "      <td>0</td>\n",
              "      <td>0</td>\n",
              "      <td>0</td>\n",
              "      <td>0</td>\n",
              "      <td>0</td>\n",
              "      <td>0</td>\n",
              "      <td>0</td>\n",
              "      <td>0</td>\n",
              "      <td>0</td>\n",
              "      <td>1</td>\n",
              "      <td>0</td>\n",
              "      <td>0</td>\n",
              "      <td>0</td>\n",
              "      <td>0</td>\n",
              "      <td>0</td>\n",
              "      <td>0</td>\n",
              "      <td>0</td>\n",
              "      <td>0</td>\n",
              "      <td>0</td>\n",
              "      <td>2</td>\n",
              "      <td>0</td>\n",
              "      <td>0</td>\n",
              "      <td>0</td>\n",
              "      <td>0</td>\n",
              "      <td>0</td>\n",
              "      <td>0</td>\n",
              "      <td>1</td>\n",
              "      <td>0</td>\n",
              "      <td>1</td>\n",
              "      <td>0</td>\n",
              "      <td>0</td>\n",
              "      <td>0</td>\n",
              "      <td>0</td>\n",
              "      <td>0</td>\n",
              "      <td>0</td>\n",
              "      <td>0</td>\n",
              "      <td>1</td>\n",
              "      <td>0</td>\n",
              "      <td>0</td>\n",
              "      <td>...</td>\n",
              "      <td>1</td>\n",
              "      <td>1</td>\n",
              "      <td>0</td>\n",
              "      <td>0</td>\n",
              "      <td>0</td>\n",
              "      <td>0</td>\n",
              "      <td>0</td>\n",
              "      <td>0</td>\n",
              "      <td>0</td>\n",
              "      <td>0</td>\n",
              "      <td>0</td>\n",
              "      <td>0</td>\n",
              "      <td>0</td>\n",
              "      <td>0</td>\n",
              "      <td>0</td>\n",
              "      <td>0</td>\n",
              "      <td>0</td>\n",
              "      <td>1</td>\n",
              "      <td>0</td>\n",
              "      <td>0</td>\n",
              "      <td>0</td>\n",
              "      <td>0</td>\n",
              "      <td>0</td>\n",
              "      <td>1</td>\n",
              "      <td>0</td>\n",
              "      <td>0</td>\n",
              "      <td>0</td>\n",
              "      <td>2</td>\n",
              "      <td>1</td>\n",
              "      <td>0</td>\n",
              "      <td>0</td>\n",
              "      <td>1</td>\n",
              "      <td>0</td>\n",
              "      <td>0</td>\n",
              "      <td>3</td>\n",
              "      <td>0</td>\n",
              "      <td>0</td>\n",
              "      <td>0</td>\n",
              "      <td>3</td>\n",
              "      <td>0</td>\n",
              "    </tr>\n",
              "    <tr>\n",
              "      <th>4</th>\n",
              "      <td>0</td>\n",
              "      <td>0</td>\n",
              "      <td>0</td>\n",
              "      <td>0</td>\n",
              "      <td>0</td>\n",
              "      <td>0</td>\n",
              "      <td>0</td>\n",
              "      <td>0</td>\n",
              "      <td>0</td>\n",
              "      <td>0</td>\n",
              "      <td>0</td>\n",
              "      <td>0</td>\n",
              "      <td>0</td>\n",
              "      <td>0</td>\n",
              "      <td>0</td>\n",
              "      <td>0</td>\n",
              "      <td>0</td>\n",
              "      <td>0</td>\n",
              "      <td>0</td>\n",
              "      <td>0</td>\n",
              "      <td>0</td>\n",
              "      <td>0</td>\n",
              "      <td>0</td>\n",
              "      <td>0</td>\n",
              "      <td>0</td>\n",
              "      <td>0</td>\n",
              "      <td>0</td>\n",
              "      <td>0</td>\n",
              "      <td>0</td>\n",
              "      <td>0</td>\n",
              "      <td>0</td>\n",
              "      <td>0</td>\n",
              "      <td>0</td>\n",
              "      <td>0</td>\n",
              "      <td>0</td>\n",
              "      <td>0</td>\n",
              "      <td>0</td>\n",
              "      <td>0</td>\n",
              "      <td>0</td>\n",
              "      <td>0</td>\n",
              "      <td>...</td>\n",
              "      <td>0</td>\n",
              "      <td>0</td>\n",
              "      <td>0</td>\n",
              "      <td>0</td>\n",
              "      <td>0</td>\n",
              "      <td>0</td>\n",
              "      <td>0</td>\n",
              "      <td>0</td>\n",
              "      <td>0</td>\n",
              "      <td>0</td>\n",
              "      <td>0</td>\n",
              "      <td>0</td>\n",
              "      <td>0</td>\n",
              "      <td>0</td>\n",
              "      <td>0</td>\n",
              "      <td>0</td>\n",
              "      <td>0</td>\n",
              "      <td>0</td>\n",
              "      <td>0</td>\n",
              "      <td>0</td>\n",
              "      <td>0</td>\n",
              "      <td>0</td>\n",
              "      <td>0</td>\n",
              "      <td>0</td>\n",
              "      <td>0</td>\n",
              "      <td>0</td>\n",
              "      <td>0</td>\n",
              "      <td>0</td>\n",
              "      <td>0</td>\n",
              "      <td>0</td>\n",
              "      <td>0</td>\n",
              "      <td>0</td>\n",
              "      <td>0</td>\n",
              "      <td>0</td>\n",
              "      <td>0</td>\n",
              "      <td>0</td>\n",
              "      <td>0</td>\n",
              "      <td>2</td>\n",
              "      <td>0</td>\n",
              "      <td>0</td>\n",
              "    </tr>\n",
              "    <tr>\n",
              "      <th>5</th>\n",
              "      <td>0</td>\n",
              "      <td>0</td>\n",
              "      <td>0</td>\n",
              "      <td>0</td>\n",
              "      <td>0</td>\n",
              "      <td>0</td>\n",
              "      <td>0</td>\n",
              "      <td>0</td>\n",
              "      <td>0</td>\n",
              "      <td>0</td>\n",
              "      <td>0</td>\n",
              "      <td>0</td>\n",
              "      <td>0</td>\n",
              "      <td>0</td>\n",
              "      <td>0</td>\n",
              "      <td>0</td>\n",
              "      <td>0</td>\n",
              "      <td>0</td>\n",
              "      <td>0</td>\n",
              "      <td>0</td>\n",
              "      <td>0</td>\n",
              "      <td>0</td>\n",
              "      <td>0</td>\n",
              "      <td>0</td>\n",
              "      <td>0</td>\n",
              "      <td>0</td>\n",
              "      <td>0</td>\n",
              "      <td>0</td>\n",
              "      <td>0</td>\n",
              "      <td>0</td>\n",
              "      <td>0</td>\n",
              "      <td>0</td>\n",
              "      <td>0</td>\n",
              "      <td>0</td>\n",
              "      <td>0</td>\n",
              "      <td>2</td>\n",
              "      <td>0</td>\n",
              "      <td>0</td>\n",
              "      <td>0</td>\n",
              "      <td>0</td>\n",
              "      <td>...</td>\n",
              "      <td>0</td>\n",
              "      <td>0</td>\n",
              "      <td>0</td>\n",
              "      <td>0</td>\n",
              "      <td>0</td>\n",
              "      <td>0</td>\n",
              "      <td>0</td>\n",
              "      <td>0</td>\n",
              "      <td>0</td>\n",
              "      <td>0</td>\n",
              "      <td>0</td>\n",
              "      <td>0</td>\n",
              "      <td>0</td>\n",
              "      <td>0</td>\n",
              "      <td>0</td>\n",
              "      <td>0</td>\n",
              "      <td>0</td>\n",
              "      <td>0</td>\n",
              "      <td>0</td>\n",
              "      <td>0</td>\n",
              "      <td>0</td>\n",
              "      <td>0</td>\n",
              "      <td>0</td>\n",
              "      <td>0</td>\n",
              "      <td>0</td>\n",
              "      <td>0</td>\n",
              "      <td>0</td>\n",
              "      <td>0</td>\n",
              "      <td>0</td>\n",
              "      <td>0</td>\n",
              "      <td>0</td>\n",
              "      <td>0</td>\n",
              "      <td>0</td>\n",
              "      <td>0</td>\n",
              "      <td>0</td>\n",
              "      <td>0</td>\n",
              "      <td>0</td>\n",
              "      <td>0</td>\n",
              "      <td>0</td>\n",
              "      <td>0</td>\n",
              "    </tr>\n",
              "    <tr>\n",
              "      <th>6</th>\n",
              "      <td>0</td>\n",
              "      <td>0</td>\n",
              "      <td>0</td>\n",
              "      <td>0</td>\n",
              "      <td>0</td>\n",
              "      <td>0</td>\n",
              "      <td>0</td>\n",
              "      <td>0</td>\n",
              "      <td>0</td>\n",
              "      <td>0</td>\n",
              "      <td>0</td>\n",
              "      <td>0</td>\n",
              "      <td>0</td>\n",
              "      <td>0</td>\n",
              "      <td>0</td>\n",
              "      <td>0</td>\n",
              "      <td>0</td>\n",
              "      <td>0</td>\n",
              "      <td>0</td>\n",
              "      <td>0</td>\n",
              "      <td>0</td>\n",
              "      <td>0</td>\n",
              "      <td>0</td>\n",
              "      <td>0</td>\n",
              "      <td>0</td>\n",
              "      <td>0</td>\n",
              "      <td>0</td>\n",
              "      <td>0</td>\n",
              "      <td>0</td>\n",
              "      <td>0</td>\n",
              "      <td>0</td>\n",
              "      <td>0</td>\n",
              "      <td>0</td>\n",
              "      <td>0</td>\n",
              "      <td>0</td>\n",
              "      <td>0</td>\n",
              "      <td>0</td>\n",
              "      <td>0</td>\n",
              "      <td>0</td>\n",
              "      <td>0</td>\n",
              "      <td>...</td>\n",
              "      <td>0</td>\n",
              "      <td>0</td>\n",
              "      <td>0</td>\n",
              "      <td>0</td>\n",
              "      <td>0</td>\n",
              "      <td>0</td>\n",
              "      <td>0</td>\n",
              "      <td>0</td>\n",
              "      <td>0</td>\n",
              "      <td>0</td>\n",
              "      <td>0</td>\n",
              "      <td>0</td>\n",
              "      <td>0</td>\n",
              "      <td>0</td>\n",
              "      <td>0</td>\n",
              "      <td>0</td>\n",
              "      <td>0</td>\n",
              "      <td>0</td>\n",
              "      <td>0</td>\n",
              "      <td>0</td>\n",
              "      <td>0</td>\n",
              "      <td>0</td>\n",
              "      <td>0</td>\n",
              "      <td>0</td>\n",
              "      <td>0</td>\n",
              "      <td>0</td>\n",
              "      <td>0</td>\n",
              "      <td>0</td>\n",
              "      <td>0</td>\n",
              "      <td>0</td>\n",
              "      <td>0</td>\n",
              "      <td>0</td>\n",
              "      <td>0</td>\n",
              "      <td>0</td>\n",
              "      <td>0</td>\n",
              "      <td>0</td>\n",
              "      <td>0</td>\n",
              "      <td>0</td>\n",
              "      <td>0</td>\n",
              "      <td>0</td>\n",
              "    </tr>\n",
              "  </tbody>\n",
              "</table>\n",
              "<p>6 rows × 147 columns</p>\n",
              "</div>"
            ],
            "text/plain": [
              "Cabin       A10  A14  A16  A19  A20  A23  A24  ...  F G73  F2  F33  F38  F4  G6  T\n",
              "FamilySize                                     ...                                \n",
              "1             1    1    0    1    0    1    1  ...      2   0    3    1   0   0  1\n",
              "2             0    0    1    0    1    0    0  ...      0   0    0    0   0   1  0\n",
              "3             0    0    0    0    0    0    0  ...      0   3    0    0   0   3  0\n",
              "4             0    0    0    0    0    0    0  ...      0   0    0    0   2   0  0\n",
              "5             0    0    0    0    0    0    0  ...      0   0    0    0   0   0  0\n",
              "6             0    0    0    0    0    0    0  ...      0   0    0    0   0   0  0\n",
              "\n",
              "[6 rows x 147 columns]"
            ]
          },
          "metadata": {
            "tags": []
          },
          "execution_count": 139
        }
      ]
    },
    {
      "cell_type": "code",
      "metadata": {
        "id": "bvNM1X7xckRK",
        "outputId": "3fd95673-753e-4d6d-dd25-424ef21dc71f",
        "colab": {
          "base_uri": "https://localhost:8080/",
          "height": 328
        }
      },
      "source": [
        "pd.crosstab(train['FamilySize'], train['Pclass'])"
      ],
      "execution_count": null,
      "outputs": [
        {
          "output_type": "execute_result",
          "data": {
            "text/html": [
              "<div>\n",
              "<style scoped>\n",
              "    .dataframe tbody tr th:only-of-type {\n",
              "        vertical-align: middle;\n",
              "    }\n",
              "\n",
              "    .dataframe tbody tr th {\n",
              "        vertical-align: top;\n",
              "    }\n",
              "\n",
              "    .dataframe thead th {\n",
              "        text-align: right;\n",
              "    }\n",
              "</style>\n",
              "<table border=\"1\" class=\"dataframe\">\n",
              "  <thead>\n",
              "    <tr style=\"text-align: right;\">\n",
              "      <th>Pclass</th>\n",
              "      <th>1</th>\n",
              "      <th>2</th>\n",
              "      <th>3</th>\n",
              "    </tr>\n",
              "    <tr>\n",
              "      <th>FamilySize</th>\n",
              "      <th></th>\n",
              "      <th></th>\n",
              "      <th></th>\n",
              "    </tr>\n",
              "  </thead>\n",
              "  <tbody>\n",
              "    <tr>\n",
              "      <th>1</th>\n",
              "      <td>109</td>\n",
              "      <td>104</td>\n",
              "      <td>324</td>\n",
              "    </tr>\n",
              "    <tr>\n",
              "      <th>2</th>\n",
              "      <td>70</td>\n",
              "      <td>34</td>\n",
              "      <td>57</td>\n",
              "    </tr>\n",
              "    <tr>\n",
              "      <th>3</th>\n",
              "      <td>24</td>\n",
              "      <td>31</td>\n",
              "      <td>47</td>\n",
              "    </tr>\n",
              "    <tr>\n",
              "      <th>4</th>\n",
              "      <td>7</td>\n",
              "      <td>13</td>\n",
              "      <td>9</td>\n",
              "    </tr>\n",
              "    <tr>\n",
              "      <th>5</th>\n",
              "      <td>2</td>\n",
              "      <td>1</td>\n",
              "      <td>12</td>\n",
              "    </tr>\n",
              "    <tr>\n",
              "      <th>6</th>\n",
              "      <td>4</td>\n",
              "      <td>1</td>\n",
              "      <td>17</td>\n",
              "    </tr>\n",
              "    <tr>\n",
              "      <th>7</th>\n",
              "      <td>0</td>\n",
              "      <td>0</td>\n",
              "      <td>12</td>\n",
              "    </tr>\n",
              "    <tr>\n",
              "      <th>8</th>\n",
              "      <td>0</td>\n",
              "      <td>0</td>\n",
              "      <td>13</td>\n",
              "    </tr>\n",
              "  </tbody>\n",
              "</table>\n",
              "</div>"
            ],
            "text/plain": [
              "Pclass        1    2    3\n",
              "FamilySize               \n",
              "1           109  104  324\n",
              "2            70   34   57\n",
              "3            24   31   47\n",
              "4             7   13    9\n",
              "5             2    1   12\n",
              "6             4    1   17\n",
              "7             0    0   12\n",
              "8             0    0   13"
            ]
          },
          "metadata": {
            "tags": []
          },
          "execution_count": 140
        }
      ]
    },
    {
      "cell_type": "markdown",
      "metadata": {
        "id": "nXQR9FMVckRL"
      },
      "source": [
        "# Ticket"
      ]
    },
    {
      "cell_type": "code",
      "metadata": {
        "id": "dns-W89MckRL",
        "outputId": "b5e4ed5d-da3b-464e-db10-5a3a16d49007",
        "colab": {
          "base_uri": "https://localhost:8080/",
          "height": 1071
        }
      },
      "source": [
        "train['Ticket'].value_counts()\n",
        "\n",
        "# 다른 특성들과 비교해서 그룹을 만들어 astype(int)을 해보자."
      ],
      "execution_count": null,
      "outputs": [
        {
          "output_type": "execute_result",
          "data": {
            "text/plain": [
              "CA. 2343            7\n",
              "347082              7\n",
              "1601                7\n",
              "347088              6\n",
              "CA 2144             6\n",
              "3101295             6\n",
              "382652              5\n",
              "S.O.C. 14879        5\n",
              "2666                4\n",
              "347077              4\n",
              "LINE                4\n",
              "PC 17757            4\n",
              "113760              4\n",
              "W./C. 6608          4\n",
              "19950               4\n",
              "17421               4\n",
              "4133                4\n",
              "113781              4\n",
              "349909              4\n",
              "363291              3\n",
              "110413              3\n",
              "C.A. 31921          3\n",
              "345773              3\n",
              "29106               3\n",
              "347742              3\n",
              "PC 17582            3\n",
              "SC/Paris 2123       3\n",
              "371110              3\n",
              "110152              3\n",
              "PC 17755            3\n",
              "                   ..\n",
              "STON/O2. 3101283    1\n",
              "C 4001              1\n",
              "248747              1\n",
              "315153              1\n",
              "345780              1\n",
              "370369              1\n",
              "382649              1\n",
              "335097              1\n",
              "350026              1\n",
              "315151              1\n",
              "27042               1\n",
              "236171              1\n",
              "364500              1\n",
              "343120              1\n",
              "2669                1\n",
              "336439              1\n",
              "29104               1\n",
              "2667                1\n",
              "349215              1\n",
              "348123              1\n",
              "113501              1\n",
              "330932              1\n",
              "113503              1\n",
              "349206              1\n",
              "349912              1\n",
              "110564              1\n",
              "28228               1\n",
              "A/5. 851            1\n",
              "2620                1\n",
              "65303               1\n",
              "Name: Ticket, Length: 681, dtype: int64"
            ]
          },
          "metadata": {
            "tags": []
          },
          "execution_count": 141
        }
      ]
    },
    {
      "cell_type": "markdown",
      "metadata": {
        "id": "5S3t_RFMckRM"
      },
      "source": [
        "# Fare"
      ]
    },
    {
      "cell_type": "code",
      "metadata": {
        "id": "1viKPnKvckRN",
        "outputId": "e059c43f-5db6-4119-e208-fa059b7a5060",
        "colab": {
          "base_uri": "https://localhost:8080/",
          "height": 299
        }
      },
      "source": [
        "sns.kdeplot(train.loc[train['Survived']==0]['Fare'],label='death')\n",
        "sns.kdeplot(train.loc[train['Survived']==1]['Fare'],label='survived')\n",
        "\n",
        "# 요금이 적을 때 사망률이 압도적으로 높음"
      ],
      "execution_count": null,
      "outputs": [
        {
          "output_type": "execute_result",
          "data": {
            "text/plain": [
              "<matplotlib.axes._subplots.AxesSubplot at 0x7f265feb4160>"
            ]
          },
          "metadata": {
            "tags": []
          },
          "execution_count": 142
        },
        {
          "output_type": "display_data",
          "data": {
            "image/png": "[encoded data removed]",
            "text/plain": [
              "<Figure size 432x288 with 1 Axes>"
            ]
          },
          "metadata": {
            "tags": []
          }
        }
      ]
    },
    {
      "cell_type": "code",
      "metadata": {
        "id": "k37XB0bqckRO"
      },
      "source": [
        "test['Fare'] = test['Fare'].fillna(test['Fare'].median())"
      ],
      "execution_count": null,
      "outputs": []
    },
    {
      "cell_type": "code",
      "metadata": {
        "id": "7gumQxmqckRP",
        "outputId": "0a85390d-e63f-4024-93af-e3c3ccd88b36",
        "colab": {
          "base_uri": "https://localhost:8080/",
          "height": 170
        }
      },
      "source": [
        "train['Fare'].describe()"
      ],
      "execution_count": null,
      "outputs": [
        {
          "output_type": "execute_result",
          "data": {
            "text/plain": [
              "count    891.000000\n",
              "mean      32.204208\n",
              "std       49.693429\n",
              "min        0.000000\n",
              "25%        7.910400\n",
              "50%       14.454200\n",
              "75%       31.000000\n",
              "max      512.329200\n",
              "Name: Fare, dtype: float64"
            ]
          },
          "metadata": {
            "tags": []
          },
          "execution_count": 144
        }
      ]
    },
    {
      "cell_type": "code",
      "metadata": {
        "id": "ZwScrnhDckRP",
        "outputId": "4ac6669c-3222-4e4c-a295-09fc1360575c",
        "colab": {
          "base_uri": "https://localhost:8080/",
          "height": 204
        }
      },
      "source": [
        "# 분포가 고르지 않아 cut 대신 qcut.\n",
        "train['FareDivided'] = pd.qcut(train['Fare'], 4, labels = [0, 1, 2, 3]).astype(int)\n",
        "train[['FareDivided', 'Survived']].groupby(['FareDivided']).mean()"
      ],
      "execution_count": null,
      "outputs": [
        {
          "output_type": "execute_result",
          "data": {
            "text/html": [
              "<div>\n",
              "<style scoped>\n",
              "    .dataframe tbody tr th:only-of-type {\n",
              "        vertical-align: middle;\n",
              "    }\n",
              "\n",
              "    .dataframe tbody tr th {\n",
              "        vertical-align: top;\n",
              "    }\n",
              "\n",
              "    .dataframe thead th {\n",
              "        text-align: right;\n",
              "    }\n",
              "</style>\n",
              "<table border=\"1\" class=\"dataframe\">\n",
              "  <thead>\n",
              "    <tr style=\"text-align: right;\">\n",
              "      <th></th>\n",
              "      <th>Survived</th>\n",
              "    </tr>\n",
              "    <tr>\n",
              "      <th>FareDivided</th>\n",
              "      <th></th>\n",
              "    </tr>\n",
              "  </thead>\n",
              "  <tbody>\n",
              "    <tr>\n",
              "      <th>0</th>\n",
              "      <td>0.197309</td>\n",
              "    </tr>\n",
              "    <tr>\n",
              "      <th>1</th>\n",
              "      <td>0.303571</td>\n",
              "    </tr>\n",
              "    <tr>\n",
              "      <th>2</th>\n",
              "      <td>0.454955</td>\n",
              "    </tr>\n",
              "    <tr>\n",
              "      <th>3</th>\n",
              "      <td>0.581081</td>\n",
              "    </tr>\n",
              "  </tbody>\n",
              "</table>\n",
              "</div>"
            ],
            "text/plain": [
              "             Survived\n",
              "FareDivided          \n",
              "0            0.197309\n",
              "1            0.303571\n",
              "2            0.454955\n",
              "3            0.581081"
            ]
          },
          "metadata": {
            "tags": []
          },
          "execution_count": 145
        }
      ]
    },
    {
      "cell_type": "code",
      "metadata": {
        "id": "MIPtCuUBckRQ"
      },
      "source": [
        "test['FareDivided'] = pd.qcut(test['Fare'], 4, labels = [0, 1, 2, 3]).astype(int)"
      ],
      "execution_count": null,
      "outputs": []
    },
    {
      "cell_type": "markdown",
      "metadata": {
        "id": "PHdLwn1AckRR"
      },
      "source": [
        "# FareHigh Feature 생성"
      ]
    },
    {
      "cell_type": "markdown",
      "metadata": {
        "id": "EzK6vtJyckRR"
      },
      "source": [
        "- Fare의 요금이 낮을수록 사망률이 높은 특성을 강조하자."
      ]
    },
    {
      "cell_type": "code",
      "metadata": {
        "id": "5h9LSENvckRR",
        "outputId": "20db9b4f-b2fb-43c4-e3b5-882e9c71181d",
        "colab": {
          "base_uri": "https://localhost:8080/",
          "height": 68
        }
      },
      "source": [
        "train['FareHigh'] = train['FareDivided'].map({0:0, 1:0, 2:0, 3:1})\n",
        "test['FareHigh'] = test['FareDivided'].map({0:0, 1:0, 2:0, 3:1})\n",
        "train['FareHigh'].value_counts()"
      ],
      "execution_count": null,
      "outputs": [
        {
          "output_type": "execute_result",
          "data": {
            "text/plain": [
              "0    669\n",
              "1    222\n",
              "Name: FareHigh, dtype: int64"
            ]
          },
          "metadata": {
            "tags": []
          },
          "execution_count": 147
        }
      ]
    },
    {
      "cell_type": "markdown",
      "metadata": {
        "id": "GLLT4HS3ckRS"
      },
      "source": [
        "# Cabin"
      ]
    },
    {
      "cell_type": "code",
      "metadata": {
        "id": "HUYqeXzjckRT",
        "outputId": "5f025225-1ea9-4804-e5a2-cdbdcee37335",
        "colab": {
          "base_uri": "https://localhost:8080/",
          "height": 321
        }
      },
      "source": [
        "for data in all_data:\n",
        "    data['CabinNull'] = data['Cabin'].isnull().astype(int)\n",
        "\n",
        "train.groupby('CabinNull')['Survived'].mean().plot.bar()"
      ],
      "execution_count": null,
      "outputs": [
        {
          "output_type": "execute_result",
          "data": {
            "text/plain": [
              "<matplotlib.axes._subplots.AxesSubplot at 0x7f265ff04ba8>"
            ]
          },
          "metadata": {
            "tags": []
          },
          "execution_count": 148
        },
        {
          "output_type": "display_data",
          "data": {
            "image/png": "[encoded data removed]",
            "text/plain": [
              "<Figure size 432x288 with 1 Axes>"
            ]
          },
          "metadata": {
            "tags": []
          }
        }
      ]
    },
    {
      "cell_type": "code",
      "metadata": {
        "id": "j42FfgacckRU"
      },
      "source": [
        "for data in all_data:\n",
        "    data['Cabin']=data['Cabin'].str.slice(0,1)\n",
        "    data['Cabin']=data['Cabin'].map({'A':0,'B':1,'C':2,'D':3,'E':4,'F':5,'G':6,'T':7})\n",
        "    data['Cabin']=data['Cabin'].fillna(-1)\n",
        "\n",
        "# null 값이 너무 많아 다른 특성과 비교하지 않고 null값을 채워넣자."
      ],
      "execution_count": null,
      "outputs": []
    },
    {
      "cell_type": "code",
      "metadata": {
        "id": "PW5Qc4pNckRU",
        "outputId": "402552b5-ebcc-4081-d30e-7b1c64de7693",
        "colab": {
          "base_uri": "https://localhost:8080/",
          "height": 334
        }
      },
      "source": [
        "train.groupby('Cabin')['Survived'].mean().plot.bar()"
      ],
      "execution_count": null,
      "outputs": [
        {
          "output_type": "execute_result",
          "data": {
            "text/plain": [
              "<matplotlib.axes._subplots.AxesSubplot at 0x7f266019f2e8>"
            ]
          },
          "metadata": {
            "tags": []
          },
          "execution_count": 150
        },
        {
          "output_type": "display_data",
          "data": {
            "image/png": "[encoded data removed]",
            "text/plain": [
              "<Figure size 432x288 with 1 Axes>"
            ]
          },
          "metadata": {
            "tags": []
          }
        }
      ]
    },
    {
      "cell_type": "markdown",
      "metadata": {
        "id": "iTGclmqWckRV"
      },
      "source": [
        "# Embarked"
      ]
    },
    {
      "cell_type": "code",
      "metadata": {
        "id": "psZKPdS2ckRV",
        "outputId": "77890a9c-8195-4081-fcda-d81c45abea59",
        "colab": {
          "base_uri": "https://localhost:8080/",
          "height": 318
        }
      },
      "source": [
        "train.groupby('Embarked')['Survived'].mean().plot.bar()\n",
        "\n",
        "# C 가 생존률이 가장 높음"
      ],
      "execution_count": null,
      "outputs": [
        {
          "output_type": "execute_result",
          "data": {
            "text/plain": [
              "<matplotlib.axes._subplots.AxesSubplot at 0x7f266019f390>"
            ]
          },
          "metadata": {
            "tags": []
          },
          "execution_count": 151
        },
        {
          "output_type": "display_data",
          "data": {
            "image/png": "[encoded data removed]",
            "text/plain": [
              "<Figure size 432x288 with 1 Axes>"
            ]
          },
          "metadata": {
            "tags": []
          }
        }
      ]
    },
    {
      "cell_type": "markdown",
      "metadata": {
        "id": "B4eSGAnXckRW"
      },
      "source": [
        "## Embarked null 채워넣기"
      ]
    },
    {
      "cell_type": "code",
      "metadata": {
        "id": "Rnz9DyWqckRW",
        "outputId": "a7953056-75c7-4395-b903-3e91033c5b50",
        "colab": {
          "base_uri": "https://localhost:8080/",
          "height": 85
        }
      },
      "source": [
        "train['Embarked'].value_counts()"
      ],
      "execution_count": null,
      "outputs": [
        {
          "output_type": "execute_result",
          "data": {
            "text/plain": [
              "S    644\n",
              "C    168\n",
              "Q     77\n",
              "Name: Embarked, dtype: int64"
            ]
          },
          "metadata": {
            "tags": []
          },
          "execution_count": 152
        }
      ]
    },
    {
      "cell_type": "code",
      "metadata": {
        "id": "HQe12KGuckRX",
        "outputId": "7e9146ae-8ba0-4f71-ad51-f42011a5485c",
        "colab": {
          "base_uri": "https://localhost:8080/",
          "height": 34
        }
      },
      "source": [
        "# 가장 많은 S 채워넣기\n",
        "for data in all_data:\n",
        "    data['Embarked'] = data['Embarked'].fillna('S')\n",
        "\n",
        "train['Embarked'].isnull().sum()"
      ],
      "execution_count": null,
      "outputs": [
        {
          "output_type": "execute_result",
          "data": {
            "text/plain": [
              "0"
            ]
          },
          "metadata": {
            "tags": []
          },
          "execution_count": 153
        }
      ]
    },
    {
      "cell_type": "markdown",
      "metadata": {
        "id": "t-1-o90VckRY"
      },
      "source": [
        "## Embarked astype(int)"
      ]
    },
    {
      "cell_type": "code",
      "metadata": {
        "id": "ZVdyYl3PckRY"
      },
      "source": [
        "for data in all_data:\n",
        "    data['Embarked'] = data['Embarked'].map({ 'S':0, 'C':1, 'Q':2  })"
      ],
      "execution_count": null,
      "outputs": []
    },
    {
      "cell_type": "markdown",
      "metadata": {
        "id": "MzNbg59zckRZ"
      },
      "source": [
        "# Name: feature engineering"
      ]
    },
    {
      "cell_type": "code",
      "metadata": {
        "id": "xuaDLfuPckRZ",
        "outputId": "7b03d1c8-7d48-4d71-8987-540b3826ace8",
        "colab": {
          "base_uri": "https://localhost:8080/",
          "height": 323
        }
      },
      "source": [
        "# Name의  .으로 끝나는 값을 추출하여 Title에 입력\n",
        "for data in all_data:\n",
        "    data['Title'] = data['Name'].str.extract('([A-Za-z]+)\\.', expand = False)\n",
        "\n",
        "train['Title'].value_counts()\n",
        "\n",
        "# Mr, Miss, Mrs, Master, ... : 성별, 직업과 관련된 칭호"
      ],
      "execution_count": null,
      "outputs": [
        {
          "output_type": "execute_result",
          "data": {
            "text/plain": [
              "Mr          517\n",
              "Miss        182\n",
              "Mrs         125\n",
              "Master       40\n",
              "Dr            7\n",
              "Rev           6\n",
              "Col           2\n",
              "Mlle          2\n",
              "Major         2\n",
              "Countess      1\n",
              "Ms            1\n",
              "Mme           1\n",
              "Sir           1\n",
              "Capt          1\n",
              "Don           1\n",
              "Jonkheer      1\n",
              "Lady          1\n",
              "Name: Title, dtype: int64"
            ]
          },
          "metadata": {
            "tags": []
          },
          "execution_count": 155
        }
      ]
    },
    {
      "cell_type": "code",
      "metadata": {
        "id": "jzaND04kckRa",
        "outputId": "a72b9a3f-ad8e-49a7-e3d9-624261f76ea3",
        "colab": {
          "base_uri": "https://localhost:8080/",
          "height": 607
        }
      },
      "source": [
        "pd.crosstab(train['Title'], train['Sex'])"
      ],
      "execution_count": null,
      "outputs": [
        {
          "output_type": "execute_result",
          "data": {
            "text/html": [
              "<div>\n",
              "<style scoped>\n",
              "    .dataframe tbody tr th:only-of-type {\n",
              "        vertical-align: middle;\n",
              "    }\n",
              "\n",
              "    .dataframe tbody tr th {\n",
              "        vertical-align: top;\n",
              "    }\n",
              "\n",
              "    .dataframe thead th {\n",
              "        text-align: right;\n",
              "    }\n",
              "</style>\n",
              "<table border=\"1\" class=\"dataframe\">\n",
              "  <thead>\n",
              "    <tr style=\"text-align: right;\">\n",
              "      <th>Sex</th>\n",
              "      <th>0</th>\n",
              "      <th>1</th>\n",
              "    </tr>\n",
              "    <tr>\n",
              "      <th>Title</th>\n",
              "      <th></th>\n",
              "      <th></th>\n",
              "    </tr>\n",
              "  </thead>\n",
              "  <tbody>\n",
              "    <tr>\n",
              "      <th>Capt</th>\n",
              "      <td>0</td>\n",
              "      <td>1</td>\n",
              "    </tr>\n",
              "    <tr>\n",
              "      <th>Col</th>\n",
              "      <td>0</td>\n",
              "      <td>2</td>\n",
              "    </tr>\n",
              "    <tr>\n",
              "      <th>Countess</th>\n",
              "      <td>1</td>\n",
              "      <td>0</td>\n",
              "    </tr>\n",
              "    <tr>\n",
              "      <th>Don</th>\n",
              "      <td>0</td>\n",
              "      <td>1</td>\n",
              "    </tr>\n",
              "    <tr>\n",
              "      <th>Dr</th>\n",
              "      <td>1</td>\n",
              "      <td>6</td>\n",
              "    </tr>\n",
              "    <tr>\n",
              "      <th>Jonkheer</th>\n",
              "      <td>0</td>\n",
              "      <td>1</td>\n",
              "    </tr>\n",
              "    <tr>\n",
              "      <th>Lady</th>\n",
              "      <td>1</td>\n",
              "      <td>0</td>\n",
              "    </tr>\n",
              "    <tr>\n",
              "      <th>Major</th>\n",
              "      <td>0</td>\n",
              "      <td>2</td>\n",
              "    </tr>\n",
              "    <tr>\n",
              "      <th>Master</th>\n",
              "      <td>0</td>\n",
              "      <td>40</td>\n",
              "    </tr>\n",
              "    <tr>\n",
              "      <th>Miss</th>\n",
              "      <td>182</td>\n",
              "      <td>0</td>\n",
              "    </tr>\n",
              "    <tr>\n",
              "      <th>Mlle</th>\n",
              "      <td>2</td>\n",
              "      <td>0</td>\n",
              "    </tr>\n",
              "    <tr>\n",
              "      <th>Mme</th>\n",
              "      <td>1</td>\n",
              "      <td>0</td>\n",
              "    </tr>\n",
              "    <tr>\n",
              "      <th>Mr</th>\n",
              "      <td>0</td>\n",
              "      <td>517</td>\n",
              "    </tr>\n",
              "    <tr>\n",
              "      <th>Mrs</th>\n",
              "      <td>125</td>\n",
              "      <td>0</td>\n",
              "    </tr>\n",
              "    <tr>\n",
              "      <th>Ms</th>\n",
              "      <td>1</td>\n",
              "      <td>0</td>\n",
              "    </tr>\n",
              "    <tr>\n",
              "      <th>Rev</th>\n",
              "      <td>0</td>\n",
              "      <td>6</td>\n",
              "    </tr>\n",
              "    <tr>\n",
              "      <th>Sir</th>\n",
              "      <td>0</td>\n",
              "      <td>1</td>\n",
              "    </tr>\n",
              "  </tbody>\n",
              "</table>\n",
              "</div>"
            ],
            "text/plain": [
              "Sex         0    1\n",
              "Title             \n",
              "Capt        0    1\n",
              "Col         0    2\n",
              "Countess    1    0\n",
              "Don         0    1\n",
              "Dr          1    6\n",
              "Jonkheer    0    1\n",
              "Lady        1    0\n",
              "Major       0    2\n",
              "Master      0   40\n",
              "Miss      182    0\n",
              "Mlle        2    0\n",
              "Mme         1    0\n",
              "Mr          0  517\n",
              "Mrs       125    0\n",
              "Ms          1    0\n",
              "Rev         0    6\n",
              "Sir         0    1"
            ]
          },
          "metadata": {
            "tags": []
          },
          "execution_count": 156
        }
      ]
    },
    {
      "cell_type": "code",
      "metadata": {
        "id": "bViPmbamckRb",
        "outputId": "b8a65d14-ebe4-4bbb-9ae7-5facb8c0ff27",
        "colab": {
          "base_uri": "https://localhost:8080/",
          "height": 359
        }
      },
      "source": [
        "pd.crosstab(test['Title'], test['Sex'])\n",
        "\n",
        "# train 데이터에는 없는 test 데이터의 Dona."
      ],
      "execution_count": null,
      "outputs": [
        {
          "output_type": "execute_result",
          "data": {
            "text/html": [
              "<div>\n",
              "<style scoped>\n",
              "    .dataframe tbody tr th:only-of-type {\n",
              "        vertical-align: middle;\n",
              "    }\n",
              "\n",
              "    .dataframe tbody tr th {\n",
              "        vertical-align: top;\n",
              "    }\n",
              "\n",
              "    .dataframe thead th {\n",
              "        text-align: right;\n",
              "    }\n",
              "</style>\n",
              "<table border=\"1\" class=\"dataframe\">\n",
              "  <thead>\n",
              "    <tr style=\"text-align: right;\">\n",
              "      <th>Sex</th>\n",
              "      <th>0</th>\n",
              "      <th>1</th>\n",
              "    </tr>\n",
              "    <tr>\n",
              "      <th>Title</th>\n",
              "      <th></th>\n",
              "      <th></th>\n",
              "    </tr>\n",
              "  </thead>\n",
              "  <tbody>\n",
              "    <tr>\n",
              "      <th>Col</th>\n",
              "      <td>0</td>\n",
              "      <td>2</td>\n",
              "    </tr>\n",
              "    <tr>\n",
              "      <th>Dona</th>\n",
              "      <td>1</td>\n",
              "      <td>0</td>\n",
              "    </tr>\n",
              "    <tr>\n",
              "      <th>Dr</th>\n",
              "      <td>0</td>\n",
              "      <td>1</td>\n",
              "    </tr>\n",
              "    <tr>\n",
              "      <th>Master</th>\n",
              "      <td>0</td>\n",
              "      <td>21</td>\n",
              "    </tr>\n",
              "    <tr>\n",
              "      <th>Miss</th>\n",
              "      <td>78</td>\n",
              "      <td>0</td>\n",
              "    </tr>\n",
              "    <tr>\n",
              "      <th>Mr</th>\n",
              "      <td>0</td>\n",
              "      <td>240</td>\n",
              "    </tr>\n",
              "    <tr>\n",
              "      <th>Mrs</th>\n",
              "      <td>72</td>\n",
              "      <td>0</td>\n",
              "    </tr>\n",
              "    <tr>\n",
              "      <th>Ms</th>\n",
              "      <td>1</td>\n",
              "      <td>0</td>\n",
              "    </tr>\n",
              "    <tr>\n",
              "      <th>Rev</th>\n",
              "      <td>0</td>\n",
              "      <td>2</td>\n",
              "    </tr>\n",
              "  </tbody>\n",
              "</table>\n",
              "</div>"
            ],
            "text/plain": [
              "Sex      0    1\n",
              "Title          \n",
              "Col      0    2\n",
              "Dona     1    0\n",
              "Dr       0    1\n",
              "Master   0   21\n",
              "Miss    78    0\n",
              "Mr       0  240\n",
              "Mrs     72    0\n",
              "Ms       1    0\n",
              "Rev      0    2"
            ]
          },
          "metadata": {
            "tags": []
          },
          "execution_count": 157
        }
      ]
    },
    {
      "cell_type": "code",
      "metadata": {
        "id": "pqwg9ZRXckRc",
        "outputId": "9a3d109a-3665-4a48-dd06-ffce480f624d",
        "colab": {
          "base_uri": "https://localhost:8080/",
          "height": 372
        }
      },
      "source": [
        "train.groupby('Title')['Survived'].mean().plot.bar()\n",
        "\n",
        "# Mr, Miss, Mrs, Master, Etc으로 카테고리 줄이기\n",
        "# Master 는 나이가 어린 아이들.\n",
        "# Mme 프랑스어로 부인을 뜻하는 말.\n",
        "# Lady 나이든 여자를 높여 부르는 말.\n",
        "# Ms 나이미상 여자.\n",
        "# countess 백작부인.\n",
        "# countess, Mme, Lady, Ms : Mrs\n",
        "# Rev : Mr"
      ],
      "execution_count": null,
      "outputs": [
        {
          "output_type": "execute_result",
          "data": {
            "text/plain": [
              "<matplotlib.axes._subplots.AxesSubplot at 0x7f265fd25080>"
            ]
          },
          "metadata": {
            "tags": []
          },
          "execution_count": 158
        },
        {
          "output_type": "display_data",
          "data": {
            "image/png": "[encoded data removed]",
            "text/plain": [
              "<Figure size 432x288 with 1 Axes>"
            ]
          },
          "metadata": {
            "tags": []
          }
        }
      ]
    },
    {
      "cell_type": "code",
      "metadata": {
        "id": "WmzxtudtckRd",
        "outputId": "1a75351a-4ffb-44a0-f4eb-c3800650b86a",
        "colab": {
          "base_uri": "https://localhost:8080/",
          "height": 170
        }
      },
      "source": [
        "train['Age'][train['Title'] == 'Master'].describe()\n",
        "# 나이가 어림"
      ],
      "execution_count": null,
      "outputs": [
        {
          "output_type": "execute_result",
          "data": {
            "text/plain": [
              "count    36.000000\n",
              "mean      4.574167\n",
              "std       3.619872\n",
              "min       0.420000\n",
              "25%       1.000000\n",
              "50%       3.500000\n",
              "75%       8.000000\n",
              "max      12.000000\n",
              "Name: Age, dtype: float64"
            ]
          },
          "metadata": {
            "tags": []
          },
          "execution_count": 159
        }
      ]
    },
    {
      "cell_type": "code",
      "metadata": {
        "id": "5d8uhkczckRd",
        "outputId": "6733f75b-de35-4af4-86cd-75873b0e14dd",
        "colab": {
          "base_uri": "https://localhost:8080/",
          "height": 170
        }
      },
      "source": [
        "train['Age'][train['Title'] == 'Dr'].describe()"
      ],
      "execution_count": null,
      "outputs": [
        {
          "output_type": "execute_result",
          "data": {
            "text/plain": [
              "count     6.000000\n",
              "mean     42.000000\n",
              "std      12.016655\n",
              "min      23.000000\n",
              "25%      35.000000\n",
              "50%      46.500000\n",
              "75%      49.750000\n",
              "max      54.000000\n",
              "Name: Age, dtype: float64"
            ]
          },
          "metadata": {
            "tags": []
          },
          "execution_count": 160
        }
      ]
    },
    {
      "cell_type": "code",
      "metadata": {
        "id": "M5nYmq1jckRe",
        "outputId": "ad25a671-bd78-4309-dca8-598950767b14",
        "colab": {
          "base_uri": "https://localhost:8080/",
          "height": 170
        }
      },
      "source": [
        "train['Age'][train['Title'] == 'Lady'].describe()"
      ],
      "execution_count": null,
      "outputs": [
        {
          "output_type": "execute_result",
          "data": {
            "text/plain": [
              "count     1.0\n",
              "mean     48.0\n",
              "std       NaN\n",
              "min      48.0\n",
              "25%      48.0\n",
              "50%      48.0\n",
              "75%      48.0\n",
              "max      48.0\n",
              "Name: Age, dtype: float64"
            ]
          },
          "metadata": {
            "tags": []
          },
          "execution_count": 161
        }
      ]
    },
    {
      "cell_type": "code",
      "metadata": {
        "id": "ZA3ES3T2ckRf",
        "outputId": "c6741b52-afc4-4822-9e6c-813096f587aa",
        "colab": {
          "base_uri": "https://localhost:8080/",
          "height": 170
        }
      },
      "source": [
        "train['Age'][train['Title'] == 'Rev'].describe()"
      ],
      "execution_count": null,
      "outputs": [
        {
          "output_type": "execute_result",
          "data": {
            "text/plain": [
              "count     6.000000\n",
              "mean     43.166667\n",
              "std      13.136463\n",
              "min      27.000000\n",
              "25%      31.500000\n",
              "50%      46.500000\n",
              "75%      53.250000\n",
              "max      57.000000\n",
              "Name: Age, dtype: float64"
            ]
          },
          "metadata": {
            "tags": []
          },
          "execution_count": 162
        }
      ]
    },
    {
      "cell_type": "code",
      "metadata": {
        "id": "6J0rPFVOckRg",
        "outputId": "44e14acc-4eaf-45af-e4e6-d32492601501",
        "colab": {
          "base_uri": "https://localhost:8080/",
          "height": 170
        }
      },
      "source": [
        "train['Age'][train['Title'] == 'Don'].describe()"
      ],
      "execution_count": null,
      "outputs": [
        {
          "output_type": "execute_result",
          "data": {
            "text/plain": [
              "count     1.0\n",
              "mean     40.0\n",
              "std       NaN\n",
              "min      40.0\n",
              "25%      40.0\n",
              "50%      40.0\n",
              "75%      40.0\n",
              "max      40.0\n",
              "Name: Age, dtype: float64"
            ]
          },
          "metadata": {
            "tags": []
          },
          "execution_count": 163
        }
      ]
    },
    {
      "cell_type": "code",
      "metadata": {
        "id": "23Ra312zckRh",
        "outputId": "c7b4e9c5-d16b-4e4d-8ab7-9c767c36f786",
        "colab": {
          "base_uri": "https://localhost:8080/",
          "height": 170
        }
      },
      "source": [
        "train['Age'][train['Title'] == 'Capt'].describe()"
      ],
      "execution_count": null,
      "outputs": [
        {
          "output_type": "execute_result",
          "data": {
            "text/plain": [
              "count     1.0\n",
              "mean     70.0\n",
              "std       NaN\n",
              "min      70.0\n",
              "25%      70.0\n",
              "50%      70.0\n",
              "75%      70.0\n",
              "max      70.0\n",
              "Name: Age, dtype: float64"
            ]
          },
          "metadata": {
            "tags": []
          },
          "execution_count": 164
        }
      ]
    },
    {
      "cell_type": "code",
      "metadata": {
        "id": "voT1pWxLckRi",
        "outputId": "4b33fb9c-b2d1-4742-a14f-a658d7102c99",
        "colab": {
          "base_uri": "https://localhost:8080/",
          "height": 170
        }
      },
      "source": [
        "train['Age'][train['Title'] == 'Jonkheer'].describe()"
      ],
      "execution_count": null,
      "outputs": [
        {
          "output_type": "execute_result",
          "data": {
            "text/plain": [
              "count     1.0\n",
              "mean     38.0\n",
              "std       NaN\n",
              "min      38.0\n",
              "25%      38.0\n",
              "50%      38.0\n",
              "75%      38.0\n",
              "max      38.0\n",
              "Name: Age, dtype: float64"
            ]
          },
          "metadata": {
            "tags": []
          },
          "execution_count": 165
        }
      ]
    },
    {
      "cell_type": "code",
      "metadata": {
        "id": "wjAmUqO3ckRi",
        "outputId": "a8c779a9-cfad-4e47-9f01-f4903d0be4be",
        "colab": {
          "base_uri": "https://localhost:8080/",
          "height": 170
        }
      },
      "source": [
        "train['Age'][train['Title'] == 'Mlle'].describe()"
      ],
      "execution_count": null,
      "outputs": [
        {
          "output_type": "execute_result",
          "data": {
            "text/plain": [
              "count     2.0\n",
              "mean     24.0\n",
              "std       0.0\n",
              "min      24.0\n",
              "25%      24.0\n",
              "50%      24.0\n",
              "75%      24.0\n",
              "max      24.0\n",
              "Name: Age, dtype: float64"
            ]
          },
          "metadata": {
            "tags": []
          },
          "execution_count": 166
        }
      ]
    },
    {
      "cell_type": "code",
      "metadata": {
        "id": "fqlxOyyAckRj",
        "outputId": "a6d37b6e-7514-4f6d-f6fa-f0ea85541b38",
        "colab": {
          "base_uri": "https://localhost:8080/",
          "height": 170
        }
      },
      "source": [
        "train['Age'][train['Title'] == 'Col'].describe()"
      ],
      "execution_count": null,
      "outputs": [
        {
          "output_type": "execute_result",
          "data": {
            "text/plain": [
              "count     2.000000\n",
              "mean     58.000000\n",
              "std       2.828427\n",
              "min      56.000000\n",
              "25%      57.000000\n",
              "50%      58.000000\n",
              "75%      59.000000\n",
              "max      60.000000\n",
              "Name: Age, dtype: float64"
            ]
          },
          "metadata": {
            "tags": []
          },
          "execution_count": 167
        }
      ]
    },
    {
      "cell_type": "code",
      "metadata": {
        "id": "_VFBI9nLckRk",
        "outputId": "30056abc-7390-428f-8310-b760f73f6002",
        "colab": {
          "base_uri": "https://localhost:8080/",
          "height": 170
        }
      },
      "source": [
        "test['Age'][test['Title'] == 'Dona'].describe()"
      ],
      "execution_count": null,
      "outputs": [
        {
          "output_type": "execute_result",
          "data": {
            "text/plain": [
              "count     1.0\n",
              "mean     39.0\n",
              "std       NaN\n",
              "min      39.0\n",
              "25%      39.0\n",
              "50%      39.0\n",
              "75%      39.0\n",
              "max      39.0\n",
              "Name: Age, dtype: float64"
            ]
          },
          "metadata": {
            "tags": []
          },
          "execution_count": 168
        }
      ]
    },
    {
      "cell_type": "code",
      "metadata": {
        "id": "uZoxtoZCckRl"
      },
      "source": [
        "for data in all_data:\n",
        "    data['Title'] = data['Title'].replace('Mlle', 'Miss')\n",
        "    data['Title'] = data['Title'].replace('Lady', 'Mrs')\n",
        "    data['Title'] = data['Title'].replace('Countess', 'Mrs')\n",
        "    data['Title'] = data['Title'].replace('Mme', 'Mrs')\n",
        "    data['Title'] = data['Title'].replace('Ms', 'Mrs')\n",
        "    data['Title'] = data['Title'].replace('Rev', 'Mr')\n",
        "    data['Title'] = data['Title'].replace('Don', 'Mr')\n",
        "    data['Title'] = data['Title'].replace('Capt', 'Mr')\n",
        "    data['Title'] = data['Title'].replace('Jonkheer', 'Mr')\n",
        "    data['Title'] = data['Title'].replace('Sir', 'Mr')\n",
        "    data['Title'] = data['Title'].replace('Major', 'Mr')\n",
        "    data['Title'] = data['Title'].replace('Col', 'Mr')\n",
        "test['Title'] = test['Title'].replace('Dona', 'Miss')"
      ],
      "execution_count": null,
      "outputs": []
    },
    {
      "cell_type": "code",
      "metadata": {
        "id": "XOLQoXTtckRl",
        "outputId": "afefacd9-2160-42c1-86e9-99c1d1d7b221",
        "colab": {
          "base_uri": "https://localhost:8080/",
          "height": 119
        }
      },
      "source": [
        "train['Title'].value_counts()"
      ],
      "execution_count": null,
      "outputs": [
        {
          "output_type": "execute_result",
          "data": {
            "text/plain": [
              "Mr        531\n",
              "Miss      184\n",
              "Mrs       129\n",
              "Master     40\n",
              "Dr          7\n",
              "Name: Title, dtype: int64"
            ]
          },
          "metadata": {
            "tags": []
          },
          "execution_count": 170
        }
      ]
    },
    {
      "cell_type": "code",
      "metadata": {
        "id": "Yjf66aSOckRm",
        "outputId": "c22da7ab-62ec-4ca3-9e1a-77bb08c7b942",
        "colab": {
          "base_uri": "https://localhost:8080/",
          "height": 119
        }
      },
      "source": [
        "test['Title'].value_counts()"
      ],
      "execution_count": null,
      "outputs": [
        {
          "output_type": "execute_result",
          "data": {
            "text/plain": [
              "Mr        244\n",
              "Miss       79\n",
              "Mrs        73\n",
              "Master     21\n",
              "Dr          1\n",
              "Name: Title, dtype: int64"
            ]
          },
          "metadata": {
            "tags": []
          },
          "execution_count": 171
        }
      ]
    },
    {
      "cell_type": "code",
      "metadata": {
        "id": "bGPpyLUeckRn",
        "outputId": "c4086ff8-e748-4248-87ee-f9363e58f99d",
        "colab": {
          "base_uri": "https://localhost:8080/",
          "height": 34
        }
      },
      "source": [
        "train['Title'].value_counts().shape"
      ],
      "execution_count": null,
      "outputs": [
        {
          "output_type": "execute_result",
          "data": {
            "text/plain": [
              "(5,)"
            ]
          },
          "metadata": {
            "tags": []
          },
          "execution_count": 172
        }
      ]
    },
    {
      "cell_type": "code",
      "metadata": {
        "id": "7TClL8mjckRo",
        "outputId": "184f90ce-ab1a-439a-a0e2-dd3dd3dd397d",
        "colab": {
          "base_uri": "https://localhost:8080/",
          "height": 533
        }
      },
      "source": [
        "# Title의 값들을 순서대로 정렬해보자.\n",
        "title_map = {}\n",
        "l1 = [0, 1, 2, 3, 4]\n",
        "for i, j in enumerate(list(train['Title'].value_counts().index)):\n",
        "    val = l1[i]\n",
        "    title_map[j] = val\n",
        "\n",
        "print(title_map)\n",
        "\n",
        "for data in all_data:\n",
        "    data['Title'] = data['Title'].map(title_map)\n",
        "\n",
        "\n",
        "train.head()"
      ],
      "execution_count": null,
      "outputs": [
        {
          "output_type": "stream",
          "text": [
            "{'Mr': 0, 'Miss': 1, 'Mrs': 2, 'Master': 3, 'Dr': 4}\n"
          ],
          "name": "stdout"
        },
        {
          "output_type": "execute_result",
          "data": {
            "text/html": [
              "<div>\n",
              "<style scoped>\n",
              "    .dataframe tbody tr th:only-of-type {\n",
              "        vertical-align: middle;\n",
              "    }\n",
              "\n",
              "    .dataframe tbody tr th {\n",
              "        vertical-align: top;\n",
              "    }\n",
              "\n",
              "    .dataframe thead th {\n",
              "        text-align: right;\n",
              "    }\n",
              "</style>\n",
              "<table border=\"1\" class=\"dataframe\">\n",
              "  <thead>\n",
              "    <tr style=\"text-align: right;\">\n",
              "      <th></th>\n",
              "      <th>PassengerId</th>\n",
              "      <th>Survived</th>\n",
              "      <th>Pclass</th>\n",
              "      <th>Name</th>\n",
              "      <th>Sex</th>\n",
              "      <th>Age</th>\n",
              "      <th>SibSp</th>\n",
              "      <th>Parch</th>\n",
              "      <th>Ticket</th>\n",
              "      <th>Fare</th>\n",
              "      <th>Cabin</th>\n",
              "      <th>Embarked</th>\n",
              "      <th>FamilySize</th>\n",
              "      <th>Alone</th>\n",
              "      <th>FirstName</th>\n",
              "      <th>FareDivided</th>\n",
              "      <th>FareHigh</th>\n",
              "      <th>CabinNull</th>\n",
              "      <th>Title</th>\n",
              "    </tr>\n",
              "  </thead>\n",
              "  <tbody>\n",
              "    <tr>\n",
              "      <th>0</th>\n",
              "      <td>1</td>\n",
              "      <td>0</td>\n",
              "      <td>3</td>\n",
              "      <td>Braund, Mr. Owen Harris</td>\n",
              "      <td>1</td>\n",
              "      <td>22.0</td>\n",
              "      <td>1</td>\n",
              "      <td>0</td>\n",
              "      <td>A/5 21171</td>\n",
              "      <td>7.2500</td>\n",
              "      <td>-1.0</td>\n",
              "      <td>0</td>\n",
              "      <td>2</td>\n",
              "      <td>0</td>\n",
              "      <td>38</td>\n",
              "      <td>0</td>\n",
              "      <td>0</td>\n",
              "      <td>1</td>\n",
              "      <td>0</td>\n",
              "    </tr>\n",
              "    <tr>\n",
              "      <th>1</th>\n",
              "      <td>2</td>\n",
              "      <td>1</td>\n",
              "      <td>1</td>\n",
              "      <td>Cumings, Mrs. John Bradley (Florence Briggs Th...</td>\n",
              "      <td>0</td>\n",
              "      <td>38.0</td>\n",
              "      <td>1</td>\n",
              "      <td>0</td>\n",
              "      <td>PC 17599</td>\n",
              "      <td>71.2833</td>\n",
              "      <td>2.0</td>\n",
              "      <td>1</td>\n",
              "      <td>2</td>\n",
              "      <td>0</td>\n",
              "      <td>-1</td>\n",
              "      <td>3</td>\n",
              "      <td>1</td>\n",
              "      <td>0</td>\n",
              "      <td>2</td>\n",
              "    </tr>\n",
              "    <tr>\n",
              "      <th>2</th>\n",
              "      <td>3</td>\n",
              "      <td>1</td>\n",
              "      <td>3</td>\n",
              "      <td>Heikkinen, Miss. Laina</td>\n",
              "      <td>0</td>\n",
              "      <td>26.0</td>\n",
              "      <td>0</td>\n",
              "      <td>0</td>\n",
              "      <td>STON/O2. 3101282</td>\n",
              "      <td>7.9250</td>\n",
              "      <td>-1.0</td>\n",
              "      <td>0</td>\n",
              "      <td>1</td>\n",
              "      <td>1</td>\n",
              "      <td>-1</td>\n",
              "      <td>1</td>\n",
              "      <td>0</td>\n",
              "      <td>1</td>\n",
              "      <td>1</td>\n",
              "    </tr>\n",
              "    <tr>\n",
              "      <th>3</th>\n",
              "      <td>4</td>\n",
              "      <td>1</td>\n",
              "      <td>1</td>\n",
              "      <td>Futrelle, Mrs. Jacques Heath (Lily May Peel)</td>\n",
              "      <td>0</td>\n",
              "      <td>35.0</td>\n",
              "      <td>1</td>\n",
              "      <td>0</td>\n",
              "      <td>113803</td>\n",
              "      <td>53.1000</td>\n",
              "      <td>2.0</td>\n",
              "      <td>0</td>\n",
              "      <td>2</td>\n",
              "      <td>0</td>\n",
              "      <td>8</td>\n",
              "      <td>3</td>\n",
              "      <td>1</td>\n",
              "      <td>0</td>\n",
              "      <td>2</td>\n",
              "    </tr>\n",
              "    <tr>\n",
              "      <th>4</th>\n",
              "      <td>5</td>\n",
              "      <td>0</td>\n",
              "      <td>3</td>\n",
              "      <td>Allen, Mr. William Henry</td>\n",
              "      <td>1</td>\n",
              "      <td>35.0</td>\n",
              "      <td>0</td>\n",
              "      <td>0</td>\n",
              "      <td>373450</td>\n",
              "      <td>8.0500</td>\n",
              "      <td>-1.0</td>\n",
              "      <td>0</td>\n",
              "      <td>1</td>\n",
              "      <td>1</td>\n",
              "      <td>125</td>\n",
              "      <td>1</td>\n",
              "      <td>0</td>\n",
              "      <td>1</td>\n",
              "      <td>0</td>\n",
              "    </tr>\n",
              "  </tbody>\n",
              "</table>\n",
              "</div>"
            ],
            "text/plain": [
              "   PassengerId  Survived  Pclass  ... FareHigh  CabinNull  Title\n",
              "0            1         0       3  ...        0          1      0\n",
              "1            2         1       1  ...        1          0      2\n",
              "2            3         1       3  ...        0          1      1\n",
              "3            4         1       1  ...        1          0      2\n",
              "4            5         0       3  ...        0          1      0\n",
              "\n",
              "[5 rows x 19 columns]"
            ]
          },
          "metadata": {
            "tags": []
          },
          "execution_count": 173
        }
      ]
    },
    {
      "cell_type": "markdown",
      "metadata": {
        "id": "g2vA6P11ckRp"
      },
      "source": [
        "# Age: feature engineering"
      ]
    },
    {
      "cell_type": "markdown",
      "metadata": {
        "id": "doQSMlpfckRp"
      },
      "source": [
        "null 값이 전체의 4분의 1이나 되므로 평균이 아니라 중앙값 사용.\n",
        "\n",
        "나이에 따라 호칭을 다르게 하므로 호칭에 따라 중앙값을 null에 입력하자.\n",
        "\n",
        "{'Mr': 0, 'Miss': 1, 'Mrs': 2, 'Master': 3, 'Dr': 4, 'Rev': 4, 'Mlle': 4, 'Major': 4, 'Col': 4, 'Don': 4, 'Capt': 4, 'Sir': 4, 'Jonkheer': 4}\n",
        "\n",
        "- 남자인 경우 Mr의 중앙값.\n",
        "- 여자인 경우\n",
        "    1. Miss인 경우 Miss 의 중앙값.\n",
        "    2. Mrs인 경우 Mrss의 중앙값.\n",
        "- 나머지는 나머지의 중앙값."
      ]
    },
    {
      "cell_type": "code",
      "metadata": {
        "id": "-jvAhtMnckRp",
        "outputId": "506991d8-b516-4e42-bc06-6b21b438c0af",
        "colab": {
          "base_uri": "https://localhost:8080/",
          "height": 190
        }
      },
      "source": [
        "# Title이 0 일때 나이의 분포를 알고 싶다...\n",
        "train['Age'][train['Title'] == 0].describe()"
      ],
      "execution_count": null,
      "outputs": [
        {
          "output_type": "execute_result",
          "data": {
            "text/plain": [
              "count    412.00000\n",
              "mean      32.89199\n",
              "std       12.97761\n",
              "min       11.00000\n",
              "25%       23.00000\n",
              "50%       30.00000\n",
              "75%       40.00000\n",
              "max       80.00000\n",
              "Name: Age, dtype: float64"
            ]
          },
          "metadata": {
            "tags": []
          },
          "execution_count": 174
        }
      ]
    },
    {
      "cell_type": "code",
      "metadata": {
        "id": "mp7oV3AzckRq",
        "outputId": "c0d46665-c4c5-48e1-f39c-eac7cba741a3",
        "colab": {
          "base_uri": "https://localhost:8080/",
          "height": 190
        }
      },
      "source": [
        "train['Age'][train['Title'] == 1].describe()"
      ],
      "execution_count": null,
      "outputs": [
        {
          "output_type": "execute_result",
          "data": {
            "text/plain": [
              "count    148.000000\n",
              "mean      21.804054\n",
              "std       12.904198\n",
              "min        0.750000\n",
              "25%       14.375000\n",
              "50%       21.000000\n",
              "75%       30.000000\n",
              "max       63.000000\n",
              "Name: Age, dtype: float64"
            ]
          },
          "metadata": {
            "tags": []
          },
          "execution_count": 175
        }
      ]
    },
    {
      "cell_type": "code",
      "metadata": {
        "id": "_UlBllHTckRr",
        "outputId": "5189ba5e-9d54-4d7a-d9d8-23103512c4c1",
        "colab": {
          "base_uri": "https://localhost:8080/",
          "height": 190
        }
      },
      "source": [
        "train['Age'][train['Title'] == 2].describe()"
      ],
      "execution_count": null,
      "outputs": [
        {
          "output_type": "execute_result",
          "data": {
            "text/plain": [
              "count    112.000000\n",
              "mean      35.803571\n",
              "std       11.368392\n",
              "min       14.000000\n",
              "25%       27.750000\n",
              "50%       35.000000\n",
              "75%       44.000000\n",
              "max       63.000000\n",
              "Name: Age, dtype: float64"
            ]
          },
          "metadata": {
            "tags": []
          },
          "execution_count": 176
        }
      ]
    },
    {
      "cell_type": "code",
      "metadata": {
        "id": "Zmn_d2FLckRs",
        "outputId": "d5f13081-a01d-424d-b567-fc61c8930f48",
        "colab": {
          "base_uri": "https://localhost:8080/",
          "height": 190
        }
      },
      "source": [
        "train['Age'][train['Title'] == 3].describe()"
      ],
      "execution_count": null,
      "outputs": [
        {
          "output_type": "execute_result",
          "data": {
            "text/plain": [
              "count    36.000000\n",
              "mean      4.574167\n",
              "std       3.619872\n",
              "min       0.420000\n",
              "25%       1.000000\n",
              "50%       3.500000\n",
              "75%       8.000000\n",
              "max      12.000000\n",
              "Name: Age, dtype: float64"
            ]
          },
          "metadata": {
            "tags": []
          },
          "execution_count": 177
        }
      ]
    },
    {
      "cell_type": "code",
      "metadata": {
        "id": "mDN9FYIsckRs",
        "outputId": "87f22f4c-abc3-4082-de65-39059ab59e09",
        "colab": {
          "base_uri": "https://localhost:8080/",
          "height": 190
        }
      },
      "source": [
        "train['Age'][train['Title'] == 4].describe()"
      ],
      "execution_count": null,
      "outputs": [
        {
          "output_type": "execute_result",
          "data": {
            "text/plain": [
              "count     6.000000\n",
              "mean     42.000000\n",
              "std      12.016655\n",
              "min      23.000000\n",
              "25%      35.000000\n",
              "50%      46.500000\n",
              "75%      49.750000\n",
              "max      54.000000\n",
              "Name: Age, dtype: float64"
            ]
          },
          "metadata": {
            "tags": []
          },
          "execution_count": 178
        }
      ]
    },
    {
      "cell_type": "code",
      "metadata": {
        "id": "lfgConKcckRt"
      },
      "source": [
        "all_data = [train, test]"
      ],
      "execution_count": null,
      "outputs": []
    },
    {
      "cell_type": "code",
      "metadata": {
        "id": "xj4DXcvIckRu",
        "outputId": "405f3b9f-1618-4132-b6ef-79c874af1e08",
        "colab": {
          "base_uri": "https://localhost:8080/",
          "height": 54
        }
      },
      "source": [
        "for data in all_data:\n",
        "    # 남자\n",
        "    guess_male_age = int(data[data['Title'] == 0]['Age'].dropna().median())\n",
        "    data.loc[(data['Age'].isnull()) & (data['Title'] == 0), 'Age'] = guess_male_age\n",
        "    # 여자 Miss\n",
        "    guess_Miss = data[data['Title'] == 1]['Age'].dropna()\n",
        "    guess_Miss_age = int(guess_Miss.median())\n",
        "    data.loc[(data['Age'].isnull()) & (data['Title'] == 1), 'Age'] = guess_Miss_age\n",
        "    # 여자 Mrs\n",
        "    guess_Mrs = data[data['Title'] == 2]['Age'].dropna()\n",
        "    guess_Mrs_age = int(guess_Mrs.median())\n",
        "    data.loc[(data['Age'].isnull()) & (data['Title'] == 2), 'Age'] = guess_Mrs_age\n",
        "    # 아이들 Master\n",
        "    guess_Master = data[data['Title'] == 3]['Age'].dropna()\n",
        "    guess_Master_age = int(guess_Master.median())\n",
        "    data.loc[(data['Age'].isnull()) & (data['Title'] == 3), 'Age'] = guess_Master_age\n",
        "    # Etc\n",
        "    guess_Etc = data[data['Title'] == 4]['Age'].dropna()\n",
        "    guess_Etc_age = int(guess_Etc.median())\n",
        "    data.loc[(data['Age'].isnull()) & (data['Title'] == 4), 'Age'] = guess_Etc_age\n",
        "\n",
        "train['Age'].isnull().sum()"
      ],
      "execution_count": null,
      "outputs": [
        {
          "output_type": "execute_result",
          "data": {
            "text/plain": [
              "0"
            ]
          },
          "metadata": {
            "tags": []
          },
          "execution_count": 180
        }
      ]
    },
    {
      "cell_type": "code",
      "metadata": {
        "id": "B5l_q7jxckRv"
      },
      "source": [
        "all_data = [train, test]"
      ],
      "execution_count": null,
      "outputs": []
    },
    {
      "cell_type": "code",
      "metadata": {
        "id": "OMkfMMnnckRv",
        "outputId": "97e65ae5-5d2d-47e2-d744-1c5c2e342717",
        "colab": {
          "base_uri": "https://localhost:8080/",
          "height": 319
        }
      },
      "source": [
        "sns.kdeplot(train.loc[train['Survived']==0]['Age'],label='death')\n",
        "sns.kdeplot(train.loc[train['Survived']==1]['Age'],label='survived')"
      ],
      "execution_count": null,
      "outputs": [
        {
          "output_type": "execute_result",
          "data": {
            "text/plain": [
              "<matplotlib.axes._subplots.AxesSubplot at 0x7f265fc62e80>"
            ]
          },
          "metadata": {
            "tags": []
          },
          "execution_count": 182
        },
        {
          "output_type": "display_data",
          "data": {
            "image/png": "[encoded data removed]",
            "text/plain": [
              "<Figure size 432x288 with 1 Axes>"
            ]
          },
          "metadata": {
            "tags": []
          }
        }
      ]
    },
    {
      "cell_type": "code",
      "metadata": {
        "id": "VElmitEcckRw",
        "outputId": "5a613d4e-627e-4631-9e78-2e51e4bf2e6b",
        "colab": {
          "base_uri": "https://localhost:8080/",
          "height": 190
        }
      },
      "source": [
        "train['Age'].describe()"
      ],
      "execution_count": null,
      "outputs": [
        {
          "output_type": "execute_result",
          "data": {
            "text/plain": [
              "count    891.000000\n",
              "mean      29.387396\n",
              "std       13.269035\n",
              "min        0.420000\n",
              "25%       21.000000\n",
              "50%       30.000000\n",
              "75%       35.000000\n",
              "max       80.000000\n",
              "Name: Age, dtype: float64"
            ]
          },
          "metadata": {
            "tags": []
          },
          "execution_count": 183
        }
      ]
    },
    {
      "cell_type": "code",
      "metadata": {
        "id": "Z9csAaQZckRx",
        "outputId": "a2e6c98c-0584-43e1-ebfe-f758411bbb3e",
        "colab": {
          "base_uri": "https://localhost:8080/",
          "height": 255
        }
      },
      "source": [
        "train['AgeDivided'] = pd.cut(train['Age'], 5, labels = [0, 1, 2, 3, 4]).astype(int)\n",
        "train[['AgeDivided', 'Survived']].groupby(['AgeDivided']).mean().sort_values(['Survived'], ascending = False)"
      ],
      "execution_count": null,
      "outputs": [
        {
          "output_type": "execute_result",
          "data": {
            "text/html": [
              "<div>\n",
              "<style scoped>\n",
              "    .dataframe tbody tr th:only-of-type {\n",
              "        vertical-align: middle;\n",
              "    }\n",
              "\n",
              "    .dataframe tbody tr th {\n",
              "        vertical-align: top;\n",
              "    }\n",
              "\n",
              "    .dataframe thead th {\n",
              "        text-align: right;\n",
              "    }\n",
              "</style>\n",
              "<table border=\"1\" class=\"dataframe\">\n",
              "  <thead>\n",
              "    <tr style=\"text-align: right;\">\n",
              "      <th></th>\n",
              "      <th>Survived</th>\n",
              "    </tr>\n",
              "    <tr>\n",
              "      <th>AgeDivided</th>\n",
              "      <th></th>\n",
              "    </tr>\n",
              "  </thead>\n",
              "  <tbody>\n",
              "    <tr>\n",
              "      <th>0</th>\n",
              "      <td>0.548077</td>\n",
              "    </tr>\n",
              "    <tr>\n",
              "      <th>2</th>\n",
              "      <td>0.436893</td>\n",
              "    </tr>\n",
              "    <tr>\n",
              "      <th>3</th>\n",
              "      <td>0.434783</td>\n",
              "    </tr>\n",
              "    <tr>\n",
              "      <th>1</th>\n",
              "      <td>0.327345</td>\n",
              "    </tr>\n",
              "    <tr>\n",
              "      <th>4</th>\n",
              "      <td>0.090909</td>\n",
              "    </tr>\n",
              "  </tbody>\n",
              "</table>\n",
              "</div>"
            ],
            "text/plain": [
              "            Survived\n",
              "AgeDivided          \n",
              "0           0.548077\n",
              "2           0.436893\n",
              "3           0.434783\n",
              "1           0.327345\n",
              "4           0.090909"
            ]
          },
          "metadata": {
            "tags": []
          },
          "execution_count": 184
        }
      ]
    },
    {
      "cell_type": "code",
      "metadata": {
        "id": "1WCxG85rckRy"
      },
      "source": [
        "test['AgeDivided'] = pd.cut(test['Age'], 5, labels = [0, 1, 2, 3, 4]).astype(int)"
      ],
      "execution_count": null,
      "outputs": []
    },
    {
      "cell_type": "markdown",
      "metadata": {
        "id": "lk_JvtSSckRz"
      },
      "source": [
        "# Ticket: feature engineering"
      ]
    },
    {
      "cell_type": "markdown",
      "metadata": {
        "id": "jdRaiqqyckRz"
      },
      "source": [
        "- Ticket은 Pclass와 Embarked에 따라 이름을 다르게 설정할 것!"
      ]
    },
    {
      "cell_type": "markdown",
      "metadata": {
        "id": "5NQsCI2BckRz"
      },
      "source": [
        "## Ticket - Pclass"
      ]
    },
    {
      "cell_type": "code",
      "metadata": {
        "id": "NRgBYwd4ckRz",
        "outputId": "62d67b57-c5bf-4652-90d1-3f93809869d2",
        "colab": {
          "base_uri": "https://localhost:8080/",
          "height": 2496
        }
      },
      "source": [
        "# 특징이 많이 보임.\n",
        "pd.crosstab(train['Ticket'], train['Pclass'])"
      ],
      "execution_count": null,
      "outputs": [
        {
          "output_type": "execute_result",
          "data": {
            "text/html": [
              "<div>\n",
              "<style scoped>\n",
              "    .dataframe tbody tr th:only-of-type {\n",
              "        vertical-align: middle;\n",
              "    }\n",
              "\n",
              "    .dataframe tbody tr th {\n",
              "        vertical-align: top;\n",
              "    }\n",
              "\n",
              "    .dataframe thead th {\n",
              "        text-align: right;\n",
              "    }\n",
              "</style>\n",
              "<table border=\"1\" class=\"dataframe\">\n",
              "  <thead>\n",
              "    <tr style=\"text-align: right;\">\n",
              "      <th>Pclass</th>\n",
              "      <th>1</th>\n",
              "      <th>2</th>\n",
              "      <th>3</th>\n",
              "    </tr>\n",
              "    <tr>\n",
              "      <th>Ticket</th>\n",
              "      <th></th>\n",
              "      <th></th>\n",
              "      <th></th>\n",
              "    </tr>\n",
              "  </thead>\n",
              "  <tbody>\n",
              "    <tr>\n",
              "      <th>110152</th>\n",
              "      <td>3</td>\n",
              "      <td>0</td>\n",
              "      <td>0</td>\n",
              "    </tr>\n",
              "    <tr>\n",
              "      <th>110413</th>\n",
              "      <td>3</td>\n",
              "      <td>0</td>\n",
              "      <td>0</td>\n",
              "    </tr>\n",
              "    <tr>\n",
              "      <th>110465</th>\n",
              "      <td>2</td>\n",
              "      <td>0</td>\n",
              "      <td>0</td>\n",
              "    </tr>\n",
              "    <tr>\n",
              "      <th>110564</th>\n",
              "      <td>1</td>\n",
              "      <td>0</td>\n",
              "      <td>0</td>\n",
              "    </tr>\n",
              "    <tr>\n",
              "      <th>110813</th>\n",
              "      <td>1</td>\n",
              "      <td>0</td>\n",
              "      <td>0</td>\n",
              "    </tr>\n",
              "    <tr>\n",
              "      <th>111240</th>\n",
              "      <td>1</td>\n",
              "      <td>0</td>\n",
              "      <td>0</td>\n",
              "    </tr>\n",
              "    <tr>\n",
              "      <th>111320</th>\n",
              "      <td>1</td>\n",
              "      <td>0</td>\n",
              "      <td>0</td>\n",
              "    </tr>\n",
              "    <tr>\n",
              "      <th>111361</th>\n",
              "      <td>2</td>\n",
              "      <td>0</td>\n",
              "      <td>0</td>\n",
              "    </tr>\n",
              "    <tr>\n",
              "      <th>111369</th>\n",
              "      <td>1</td>\n",
              "      <td>0</td>\n",
              "      <td>0</td>\n",
              "    </tr>\n",
              "    <tr>\n",
              "      <th>111426</th>\n",
              "      <td>1</td>\n",
              "      <td>0</td>\n",
              "      <td>0</td>\n",
              "    </tr>\n",
              "    <tr>\n",
              "      <th>111427</th>\n",
              "      <td>1</td>\n",
              "      <td>0</td>\n",
              "      <td>0</td>\n",
              "    </tr>\n",
              "    <tr>\n",
              "      <th>111428</th>\n",
              "      <td>1</td>\n",
              "      <td>0</td>\n",
              "      <td>0</td>\n",
              "    </tr>\n",
              "    <tr>\n",
              "      <th>112050</th>\n",
              "      <td>1</td>\n",
              "      <td>0</td>\n",
              "      <td>0</td>\n",
              "    </tr>\n",
              "    <tr>\n",
              "      <th>112052</th>\n",
              "      <td>1</td>\n",
              "      <td>0</td>\n",
              "      <td>0</td>\n",
              "    </tr>\n",
              "    <tr>\n",
              "      <th>112053</th>\n",
              "      <td>1</td>\n",
              "      <td>0</td>\n",
              "      <td>0</td>\n",
              "    </tr>\n",
              "    <tr>\n",
              "      <th>112058</th>\n",
              "      <td>1</td>\n",
              "      <td>0</td>\n",
              "      <td>0</td>\n",
              "    </tr>\n",
              "    <tr>\n",
              "      <th>112059</th>\n",
              "      <td>1</td>\n",
              "      <td>0</td>\n",
              "      <td>0</td>\n",
              "    </tr>\n",
              "    <tr>\n",
              "      <th>112277</th>\n",
              "      <td>1</td>\n",
              "      <td>0</td>\n",
              "      <td>0</td>\n",
              "    </tr>\n",
              "    <tr>\n",
              "      <th>112379</th>\n",
              "      <td>1</td>\n",
              "      <td>0</td>\n",
              "      <td>0</td>\n",
              "    </tr>\n",
              "    <tr>\n",
              "      <th>113028</th>\n",
              "      <td>1</td>\n",
              "      <td>0</td>\n",
              "      <td>0</td>\n",
              "    </tr>\n",
              "    <tr>\n",
              "      <th>113043</th>\n",
              "      <td>1</td>\n",
              "      <td>0</td>\n",
              "      <td>0</td>\n",
              "    </tr>\n",
              "    <tr>\n",
              "      <th>113050</th>\n",
              "      <td>1</td>\n",
              "      <td>0</td>\n",
              "      <td>0</td>\n",
              "    </tr>\n",
              "    <tr>\n",
              "      <th>113051</th>\n",
              "      <td>1</td>\n",
              "      <td>0</td>\n",
              "      <td>0</td>\n",
              "    </tr>\n",
              "    <tr>\n",
              "      <th>113055</th>\n",
              "      <td>1</td>\n",
              "      <td>0</td>\n",
              "      <td>0</td>\n",
              "    </tr>\n",
              "    <tr>\n",
              "      <th>113056</th>\n",
              "      <td>1</td>\n",
              "      <td>0</td>\n",
              "      <td>0</td>\n",
              "    </tr>\n",
              "    <tr>\n",
              "      <th>113059</th>\n",
              "      <td>1</td>\n",
              "      <td>0</td>\n",
              "      <td>0</td>\n",
              "    </tr>\n",
              "    <tr>\n",
              "      <th>113501</th>\n",
              "      <td>1</td>\n",
              "      <td>0</td>\n",
              "      <td>0</td>\n",
              "    </tr>\n",
              "    <tr>\n",
              "      <th>113503</th>\n",
              "      <td>1</td>\n",
              "      <td>0</td>\n",
              "      <td>0</td>\n",
              "    </tr>\n",
              "    <tr>\n",
              "      <th>113505</th>\n",
              "      <td>2</td>\n",
              "      <td>0</td>\n",
              "      <td>0</td>\n",
              "    </tr>\n",
              "    <tr>\n",
              "      <th>113509</th>\n",
              "      <td>1</td>\n",
              "      <td>0</td>\n",
              "      <td>0</td>\n",
              "    </tr>\n",
              "    <tr>\n",
              "      <th>...</th>\n",
              "      <td>...</td>\n",
              "      <td>...</td>\n",
              "      <td>...</td>\n",
              "    </tr>\n",
              "    <tr>\n",
              "      <th>SOTON/OQ 392082</th>\n",
              "      <td>0</td>\n",
              "      <td>0</td>\n",
              "      <td>1</td>\n",
              "    </tr>\n",
              "    <tr>\n",
              "      <th>SOTON/OQ 392086</th>\n",
              "      <td>0</td>\n",
              "      <td>0</td>\n",
              "      <td>1</td>\n",
              "    </tr>\n",
              "    <tr>\n",
              "      <th>SOTON/OQ 392089</th>\n",
              "      <td>0</td>\n",
              "      <td>0</td>\n",
              "      <td>1</td>\n",
              "    </tr>\n",
              "    <tr>\n",
              "      <th>SOTON/OQ 392090</th>\n",
              "      <td>0</td>\n",
              "      <td>0</td>\n",
              "      <td>1</td>\n",
              "    </tr>\n",
              "    <tr>\n",
              "      <th>STON/O 2. 3101269</th>\n",
              "      <td>0</td>\n",
              "      <td>0</td>\n",
              "      <td>1</td>\n",
              "    </tr>\n",
              "    <tr>\n",
              "      <th>STON/O 2. 3101273</th>\n",
              "      <td>0</td>\n",
              "      <td>0</td>\n",
              "      <td>1</td>\n",
              "    </tr>\n",
              "    <tr>\n",
              "      <th>STON/O 2. 3101274</th>\n",
              "      <td>0</td>\n",
              "      <td>0</td>\n",
              "      <td>1</td>\n",
              "    </tr>\n",
              "    <tr>\n",
              "      <th>STON/O 2. 3101275</th>\n",
              "      <td>0</td>\n",
              "      <td>0</td>\n",
              "      <td>1</td>\n",
              "    </tr>\n",
              "    <tr>\n",
              "      <th>STON/O 2. 3101280</th>\n",
              "      <td>0</td>\n",
              "      <td>0</td>\n",
              "      <td>1</td>\n",
              "    </tr>\n",
              "    <tr>\n",
              "      <th>STON/O 2. 3101285</th>\n",
              "      <td>0</td>\n",
              "      <td>0</td>\n",
              "      <td>1</td>\n",
              "    </tr>\n",
              "    <tr>\n",
              "      <th>STON/O 2. 3101286</th>\n",
              "      <td>0</td>\n",
              "      <td>0</td>\n",
              "      <td>1</td>\n",
              "    </tr>\n",
              "    <tr>\n",
              "      <th>STON/O 2. 3101288</th>\n",
              "      <td>0</td>\n",
              "      <td>0</td>\n",
              "      <td>1</td>\n",
              "    </tr>\n",
              "    <tr>\n",
              "      <th>STON/O 2. 3101289</th>\n",
              "      <td>0</td>\n",
              "      <td>0</td>\n",
              "      <td>1</td>\n",
              "    </tr>\n",
              "    <tr>\n",
              "      <th>STON/O 2. 3101292</th>\n",
              "      <td>0</td>\n",
              "      <td>0</td>\n",
              "      <td>1</td>\n",
              "    </tr>\n",
              "    <tr>\n",
              "      <th>STON/O 2. 3101293</th>\n",
              "      <td>0</td>\n",
              "      <td>0</td>\n",
              "      <td>1</td>\n",
              "    </tr>\n",
              "    <tr>\n",
              "      <th>STON/O 2. 3101294</th>\n",
              "      <td>0</td>\n",
              "      <td>0</td>\n",
              "      <td>1</td>\n",
              "    </tr>\n",
              "    <tr>\n",
              "      <th>STON/O2. 3101271</th>\n",
              "      <td>0</td>\n",
              "      <td>0</td>\n",
              "      <td>1</td>\n",
              "    </tr>\n",
              "    <tr>\n",
              "      <th>STON/O2. 3101279</th>\n",
              "      <td>0</td>\n",
              "      <td>0</td>\n",
              "      <td>2</td>\n",
              "    </tr>\n",
              "    <tr>\n",
              "      <th>STON/O2. 3101282</th>\n",
              "      <td>0</td>\n",
              "      <td>0</td>\n",
              "      <td>1</td>\n",
              "    </tr>\n",
              "    <tr>\n",
              "      <th>STON/O2. 3101283</th>\n",
              "      <td>0</td>\n",
              "      <td>0</td>\n",
              "      <td>1</td>\n",
              "    </tr>\n",
              "    <tr>\n",
              "      <th>STON/O2. 3101290</th>\n",
              "      <td>0</td>\n",
              "      <td>0</td>\n",
              "      <td>1</td>\n",
              "    </tr>\n",
              "    <tr>\n",
              "      <th>SW/PP 751</th>\n",
              "      <td>0</td>\n",
              "      <td>1</td>\n",
              "      <td>0</td>\n",
              "    </tr>\n",
              "    <tr>\n",
              "      <th>W./C. 14258</th>\n",
              "      <td>0</td>\n",
              "      <td>1</td>\n",
              "      <td>0</td>\n",
              "    </tr>\n",
              "    <tr>\n",
              "      <th>W./C. 14263</th>\n",
              "      <td>0</td>\n",
              "      <td>1</td>\n",
              "      <td>0</td>\n",
              "    </tr>\n",
              "    <tr>\n",
              "      <th>W./C. 6607</th>\n",
              "      <td>0</td>\n",
              "      <td>0</td>\n",
              "      <td>2</td>\n",
              "    </tr>\n",
              "    <tr>\n",
              "      <th>W./C. 6608</th>\n",
              "      <td>0</td>\n",
              "      <td>0</td>\n",
              "      <td>4</td>\n",
              "    </tr>\n",
              "    <tr>\n",
              "      <th>W./C. 6609</th>\n",
              "      <td>0</td>\n",
              "      <td>0</td>\n",
              "      <td>1</td>\n",
              "    </tr>\n",
              "    <tr>\n",
              "      <th>W.E.P. 5734</th>\n",
              "      <td>1</td>\n",
              "      <td>0</td>\n",
              "      <td>0</td>\n",
              "    </tr>\n",
              "    <tr>\n",
              "      <th>W/C 14208</th>\n",
              "      <td>0</td>\n",
              "      <td>1</td>\n",
              "      <td>0</td>\n",
              "    </tr>\n",
              "    <tr>\n",
              "      <th>WE/P 5735</th>\n",
              "      <td>2</td>\n",
              "      <td>0</td>\n",
              "      <td>0</td>\n",
              "    </tr>\n",
              "  </tbody>\n",
              "</table>\n",
              "<p>681 rows × 3 columns</p>\n",
              "</div>"
            ],
            "text/plain": [
              "Pclass             1  2  3\n",
              "Ticket                    \n",
              "110152             3  0  0\n",
              "110413             3  0  0\n",
              "110465             2  0  0\n",
              "110564             1  0  0\n",
              "110813             1  0  0\n",
              "111240             1  0  0\n",
              "111320             1  0  0\n",
              "111361             2  0  0\n",
              "111369             1  0  0\n",
              "111426             1  0  0\n",
              "111427             1  0  0\n",
              "111428             1  0  0\n",
              "112050             1  0  0\n",
              "112052             1  0  0\n",
              "112053             1  0  0\n",
              "112058             1  0  0\n",
              "112059             1  0  0\n",
              "112277             1  0  0\n",
              "112379             1  0  0\n",
              "113028             1  0  0\n",
              "113043             1  0  0\n",
              "113050             1  0  0\n",
              "113051             1  0  0\n",
              "113055             1  0  0\n",
              "113056             1  0  0\n",
              "113059             1  0  0\n",
              "113501             1  0  0\n",
              "113503             1  0  0\n",
              "113505             2  0  0\n",
              "113509             1  0  0\n",
              "...               .. .. ..\n",
              "SOTON/OQ 392082    0  0  1\n",
              "SOTON/OQ 392086    0  0  1\n",
              "SOTON/OQ 392089    0  0  1\n",
              "SOTON/OQ 392090    0  0  1\n",
              "STON/O 2. 3101269  0  0  1\n",
              "STON/O 2. 3101273  0  0  1\n",
              "STON/O 2. 3101274  0  0  1\n",
              "STON/O 2. 3101275  0  0  1\n",
              "STON/O 2. 3101280  0  0  1\n",
              "STON/O 2. 3101285  0  0  1\n",
              "STON/O 2. 3101286  0  0  1\n",
              "STON/O 2. 3101288  0  0  1\n",
              "STON/O 2. 3101289  0  0  1\n",
              "STON/O 2. 3101292  0  0  1\n",
              "STON/O 2. 3101293  0  0  1\n",
              "STON/O 2. 3101294  0  0  1\n",
              "STON/O2. 3101271   0  0  1\n",
              "STON/O2. 3101279   0  0  2\n",
              "STON/O2. 3101282   0  0  1\n",
              "STON/O2. 3101283   0  0  1\n",
              "STON/O2. 3101290   0  0  1\n",
              "SW/PP 751          0  1  0\n",
              "W./C. 14258        0  1  0\n",
              "W./C. 14263        0  1  0\n",
              "W./C. 6607         0  0  2\n",
              "W./C. 6608         0  0  4\n",
              "W./C. 6609         0  0  1\n",
              "W.E.P. 5734        1  0  0\n",
              "W/C 14208          0  1  0\n",
              "WE/P 5735          2  0  0\n",
              "\n",
              "[681 rows x 3 columns]"
            ]
          },
          "metadata": {
            "tags": []
          },
          "execution_count": 186
        }
      ]
    },
    {
      "cell_type": "code",
      "metadata": {
        "id": "BcOwz4r-ckR0",
        "outputId": "683bcfd3-610d-4837-b19d-b4f0a6548af2",
        "colab": {
          "base_uri": "https://localhost:8080/",
          "height": 1108
        }
      },
      "source": [
        "Ticket_Pclass = pd.crosstab(train['Ticket'], train['Pclass'])\n",
        "Ticket_Pclass[Ticket_Pclass[1] > 0][1]"
      ],
      "execution_count": null,
      "outputs": [
        {
          "output_type": "execute_result",
          "data": {
            "text/plain": [
              "Ticket\n",
              "110152         3\n",
              "110413         3\n",
              "110465         2\n",
              "110564         1\n",
              "110813         1\n",
              "111240         1\n",
              "111320         1\n",
              "111361         2\n",
              "111369         1\n",
              "111426         1\n",
              "111427         1\n",
              "111428         1\n",
              "112050         1\n",
              "112052         1\n",
              "112053         1\n",
              "112058         1\n",
              "112059         1\n",
              "112277         1\n",
              "112379         1\n",
              "113028         1\n",
              "113043         1\n",
              "113050         1\n",
              "113051         1\n",
              "113055         1\n",
              "113056         1\n",
              "113059         1\n",
              "113501         1\n",
              "113503         1\n",
              "113505         2\n",
              "113509         1\n",
              "              ..\n",
              "PC 17572       3\n",
              "PC 17582       3\n",
              "PC 17585       1\n",
              "PC 17590       1\n",
              "PC 17592       1\n",
              "PC 17593       2\n",
              "PC 17595       1\n",
              "PC 17596       1\n",
              "PC 17597       1\n",
              "PC 17599       1\n",
              "PC 17600       1\n",
              "PC 17601       1\n",
              "PC 17603       1\n",
              "PC 17604       2\n",
              "PC 17605       1\n",
              "PC 17608       2\n",
              "PC 17609       1\n",
              "PC 17610       1\n",
              "PC 17611       2\n",
              "PC 17612       1\n",
              "PC 17754       1\n",
              "PC 17755       3\n",
              "PC 17756       1\n",
              "PC 17757       4\n",
              "PC 17758       2\n",
              "PC 17759       1\n",
              "PC 17760       3\n",
              "PC 17761       2\n",
              "W.E.P. 5734    1\n",
              "WE/P 5735      2\n",
              "Name: 1, Length: 147, dtype: int64"
            ]
          },
          "metadata": {
            "tags": []
          },
          "execution_count": 187
        }
      ]
    },
    {
      "cell_type": "code",
      "metadata": {
        "id": "DLrHRQtvckR1",
        "outputId": "3c62b4ed-e30e-4a6f-84fb-b23b52c59457",
        "colab": {
          "base_uri": "https://localhost:8080/",
          "height": 1108
        }
      },
      "source": [
        "Ticket_Pclass[Ticket_Pclass[2] > 0][2]"
      ],
      "execution_count": null,
      "outputs": [
        {
          "output_type": "execute_result",
          "data": {
            "text/plain": [
              "Ticket\n",
              "11668               2\n",
              "12233               1\n",
              "2003                1\n",
              "211536              1\n",
              "218629              1\n",
              "219533              1\n",
              "220367              1\n",
              "220845              2\n",
              "223596              1\n",
              "226593              1\n",
              "226875              1\n",
              "228414              1\n",
              "229236              1\n",
              "230080              3\n",
              "230136              2\n",
              "230433              2\n",
              "230434              1\n",
              "231919              2\n",
              "231945              1\n",
              "233639              1\n",
              "233866              1\n",
              "234360              1\n",
              "234604              1\n",
              "234686              1\n",
              "234818              1\n",
              "236171              1\n",
              "236852              1\n",
              "236853              1\n",
              "237442              1\n",
              "237565              1\n",
              "                   ..\n",
              "C.A. 33595          1\n",
              "C.A. 34260          1\n",
              "C.A. 34651          3\n",
              "C.A./SOTON 34068    1\n",
              "F.C.C. 13528        1\n",
              "F.C.C. 13529        3\n",
              "F.C.C. 13531        1\n",
              "P/PP 3381           2\n",
              "S.C./PARIS 2079     2\n",
              "S.O./P.P. 3         2\n",
              "S.O.C. 14879        5\n",
              "S.O.P. 1166         1\n",
              "S.W./PP 752         1\n",
              "SC 1748             1\n",
              "SC/AH 29037         1\n",
              "SC/AH 3085          1\n",
              "SC/AH Basle 541     1\n",
              "SC/PARIS 2131       1\n",
              "SC/PARIS 2133       1\n",
              "SC/PARIS 2146       1\n",
              "SC/PARIS 2149       1\n",
              "SC/PARIS 2167       1\n",
              "SC/Paris 2123       3\n",
              "SC/Paris 2163       1\n",
              "SCO/W 1585          1\n",
              "SO/C 14885          1\n",
              "SW/PP 751           1\n",
              "W./C. 14258         1\n",
              "W./C. 14263         1\n",
              "W/C 14208           1\n",
              "Name: 2, Length: 140, dtype: int64"
            ]
          },
          "metadata": {
            "tags": []
          },
          "execution_count": 188
        }
      ]
    },
    {
      "cell_type": "code",
      "metadata": {
        "id": "kuZPHXJvckR2",
        "outputId": "ac41ce3b-320b-454f-deb2-e97935af0d13",
        "colab": {
          "base_uri": "https://localhost:8080/",
          "height": 1108
        }
      },
      "source": [
        "Ticket_Pclass[Ticket_Pclass[3] > 0][3]"
      ],
      "execution_count": null,
      "outputs": [
        {
          "output_type": "execute_result",
          "data": {
            "text/plain": [
              "Ticket\n",
              "12460                1\n",
              "14311                1\n",
              "14312                1\n",
              "14313                1\n",
              "14973                1\n",
              "1601                 7\n",
              "21440                1\n",
              "2223                 1\n",
              "2620                 1\n",
              "2623                 1\n",
              "2624                 1\n",
              "2625                 1\n",
              "2626                 1\n",
              "2627                 2\n",
              "2628                 1\n",
              "2629                 1\n",
              "2631                 1\n",
              "2641                 1\n",
              "2647                 1\n",
              "2648                 1\n",
              "2649                 1\n",
              "2650                 1\n",
              "2651                 2\n",
              "2653                 2\n",
              "2659                 2\n",
              "2661                 2\n",
              "2662                 1\n",
              "2663                 1\n",
              "2664                 1\n",
              "2665                 2\n",
              "                    ..\n",
              "SOTON/O.Q. 392087    1\n",
              "SOTON/O2 3101272     1\n",
              "SOTON/O2 3101287     1\n",
              "SOTON/OQ 3101316     1\n",
              "SOTON/OQ 3101317     1\n",
              "SOTON/OQ 392076      1\n",
              "SOTON/OQ 392082      1\n",
              "SOTON/OQ 392086      1\n",
              "SOTON/OQ 392089      1\n",
              "SOTON/OQ 392090      1\n",
              "STON/O 2. 3101269    1\n",
              "STON/O 2. 3101273    1\n",
              "STON/O 2. 3101274    1\n",
              "STON/O 2. 3101275    1\n",
              "STON/O 2. 3101280    1\n",
              "STON/O 2. 3101285    1\n",
              "STON/O 2. 3101286    1\n",
              "STON/O 2. 3101288    1\n",
              "STON/O 2. 3101289    1\n",
              "STON/O 2. 3101292    1\n",
              "STON/O 2. 3101293    1\n",
              "STON/O 2. 3101294    1\n",
              "STON/O2. 3101271     1\n",
              "STON/O2. 3101279     2\n",
              "STON/O2. 3101282     1\n",
              "STON/O2. 3101283     1\n",
              "STON/O2. 3101290     1\n",
              "W./C. 6607           2\n",
              "W./C. 6608           4\n",
              "W./C. 6609           1\n",
              "Name: 3, Length: 394, dtype: int64"
            ]
          },
          "metadata": {
            "tags": []
          },
          "execution_count": 189
        }
      ]
    },
    {
      "cell_type": "code",
      "metadata": {
        "id": "0TlPWBl-ckR2",
        "outputId": "1acb868c-155f-42fd-e2c2-099eca04ab4c",
        "colab": {
          "base_uri": "https://localhost:8080/",
          "height": 547
        }
      },
      "source": [
        "train['Ticket3'] = train['Ticket'].str.slice(0, 3)\n",
        "Tickets3 = pd.crosstab(train['Ticket3'], train['Pclass'])\n",
        "Tickets3[Tickets3[1] > 0][1]"
      ],
      "execution_count": null,
      "outputs": [
        {
          "output_type": "execute_result",
          "data": {
            "text/plain": [
              "Ticket3\n",
              "110    10\n",
              "111     8\n",
              "112     7\n",
              "113    47\n",
              "117    11\n",
              "118     1\n",
              "119     2\n",
              "127     2\n",
              "130     1\n",
              "132     2\n",
              "135     8\n",
              "169     3\n",
              "174    12\n",
              "177     1\n",
              "198     2\n",
              "199    14\n",
              "241     3\n",
              "270     1\n",
              "336     1\n",
              "352     5\n",
              "369     8\n",
              "572     1\n",
              "693     1\n",
              "695     1\n",
              "F.C     1\n",
              "PC     60\n",
              "W.E     1\n",
              "WE/     2\n",
              "Name: 1, dtype: int64"
            ]
          },
          "metadata": {
            "tags": []
          },
          "execution_count": 190
        }
      ]
    },
    {
      "cell_type": "code",
      "metadata": {
        "id": "Ox-hcZVeckR3",
        "outputId": "b3cda446-39f8-4096-de0a-f535f1bf0c5c",
        "colab": {
          "base_uri": "https://localhost:8080/",
          "height": 955
        }
      },
      "source": [
        "Tickets3[Tickets3[2] > 0][2]"
      ],
      "execution_count": null,
      "outputs": [
        {
          "output_type": "execute_result",
          "data": {
            "text/plain": [
              "Ticket3\n",
              "116     2\n",
              "122     1\n",
              "200     1\n",
              "211     1\n",
              "218     1\n",
              "219     1\n",
              "220     3\n",
              "223     1\n",
              "226     2\n",
              "228     1\n",
              "229     1\n",
              "230     8\n",
              "231     3\n",
              "233     2\n",
              "234     4\n",
              "236     3\n",
              "237     8\n",
              "239     8\n",
              "240     1\n",
              "243     3\n",
              "244    10\n",
              "248    12\n",
              "250    14\n",
              "263     2\n",
              "267     1\n",
              "272     1\n",
              "278     1\n",
              "281     1\n",
              "282     4\n",
              "284     4\n",
              "285     1\n",
              "286     2\n",
              "290     3\n",
              "291     7\n",
              "292     1\n",
              "297     3\n",
              "310     3\n",
              "314     1\n",
              "342     1\n",
              "C.A    20\n",
              "F.C     5\n",
              "P/P     2\n",
              "S.C     2\n",
              "S.O     8\n",
              "S.W     1\n",
              "SC      1\n",
              "SC/    12\n",
              "SCO     1\n",
              "SO/     1\n",
              "SW/     1\n",
              "W./     2\n",
              "W/C     1\n",
              "Name: 2, dtype: int64"
            ]
          },
          "metadata": {
            "tags": []
          },
          "execution_count": 191
        }
      ]
    },
    {
      "cell_type": "code",
      "metadata": {
        "id": "vBdk4ltickR4",
        "outputId": "58282830-cb92-43b8-d02f-6d2106307a88",
        "colab": {
          "base_uri": "https://localhost:8080/",
          "height": 1108
        }
      },
      "source": [
        "Tickets3[Tickets3[3] > 0][3]\n",
        "# C.A, W./ ,"
      ],
      "execution_count": null,
      "outputs": [
        {
          "output_type": "execute_result",
          "data": {
            "text/plain": [
              "Ticket3\n",
              "124     1\n",
              "143     3\n",
              "149     1\n",
              "160     7\n",
              "214     1\n",
              "222     1\n",
              "262     9\n",
              "263     1\n",
              "264     4\n",
              "265     7\n",
              "266    15\n",
              "267     6\n",
              "268     6\n",
              "269     9\n",
              "270     1\n",
              "310    16\n",
              "312     3\n",
              "315    14\n",
              "323     2\n",
              "324     1\n",
              "330    11\n",
              "334     1\n",
              "335     2\n",
              "336     1\n",
              "341     2\n",
              "342     1\n",
              "343     4\n",
              "345    19\n",
              "346     1\n",
              "347    48\n",
              "       ..\n",
              "653     3\n",
              "656     1\n",
              "726     1\n",
              "753     2\n",
              "754     3\n",
              "755     2\n",
              "759     1\n",
              "847     2\n",
              "923     1\n",
              "A./     2\n",
              "A.5     2\n",
              "A/4     6\n",
              "A/5    17\n",
              "A/S     1\n",
              "A4.     1\n",
              "C 1     1\n",
              "C 4     1\n",
              "C 7     3\n",
              "C.A     8\n",
              "CA      6\n",
              "CA.     8\n",
              "Fa      1\n",
              "LIN     4\n",
              "PP      3\n",
              "S.C     1\n",
              "S.O     1\n",
              "S.P     1\n",
              "SOT    17\n",
              "STO    18\n",
              "W./     7\n",
              "Name: 3, Length: 85, dtype: int64"
            ]
          },
          "metadata": {
            "tags": []
          },
          "execution_count": 192
        }
      ]
    },
    {
      "cell_type": "markdown",
      "metadata": {
        "id": "enHNrSVxckR5"
      },
      "source": [
        "## Ticket - Embarked"
      ]
    },
    {
      "cell_type": "code",
      "metadata": {
        "id": "Zdc49J6FckR5",
        "outputId": "20fcde06-c724-4285-cbb3-300f03a0d337",
        "colab": {
          "base_uri": "https://localhost:8080/",
          "height": 2088
        }
      },
      "source": [
        "Ticket_Embarked = pd.crosstab(train['Ticket3'], train['Embarked'])\n",
        "Ticket_Embarked"
      ],
      "execution_count": null,
      "outputs": [
        {
          "output_type": "execute_result",
          "data": {
            "text/html": [
              "<div>\n",
              "<style scoped>\n",
              "    .dataframe tbody tr th:only-of-type {\n",
              "        vertical-align: middle;\n",
              "    }\n",
              "\n",
              "    .dataframe tbody tr th {\n",
              "        vertical-align: top;\n",
              "    }\n",
              "\n",
              "    .dataframe thead th {\n",
              "        text-align: right;\n",
              "    }\n",
              "</style>\n",
              "<table border=\"1\" class=\"dataframe\">\n",
              "  <thead>\n",
              "    <tr style=\"text-align: right;\">\n",
              "      <th>Embarked</th>\n",
              "      <th>0</th>\n",
              "      <th>1</th>\n",
              "      <th>2</th>\n",
              "    </tr>\n",
              "    <tr>\n",
              "      <th>Ticket3</th>\n",
              "      <th></th>\n",
              "      <th></th>\n",
              "      <th></th>\n",
              "    </tr>\n",
              "  </thead>\n",
              "  <tbody>\n",
              "    <tr>\n",
              "      <th>110</th>\n",
              "      <td>9</td>\n",
              "      <td>1</td>\n",
              "      <td>0</td>\n",
              "    </tr>\n",
              "    <tr>\n",
              "      <th>111</th>\n",
              "      <td>4</td>\n",
              "      <td>4</td>\n",
              "      <td>0</td>\n",
              "    </tr>\n",
              "    <tr>\n",
              "      <th>112</th>\n",
              "      <td>5</td>\n",
              "      <td>2</td>\n",
              "      <td>0</td>\n",
              "    </tr>\n",
              "    <tr>\n",
              "      <th>113</th>\n",
              "      <td>43</td>\n",
              "      <td>4</td>\n",
              "      <td>0</td>\n",
              "    </tr>\n",
              "    <tr>\n",
              "      <th>116</th>\n",
              "      <td>2</td>\n",
              "      <td>0</td>\n",
              "      <td>0</td>\n",
              "    </tr>\n",
              "    <tr>\n",
              "      <th>117</th>\n",
              "      <td>5</td>\n",
              "      <td>6</td>\n",
              "      <td>0</td>\n",
              "    </tr>\n",
              "    <tr>\n",
              "      <th>118</th>\n",
              "      <td>0</td>\n",
              "      <td>1</td>\n",
              "      <td>0</td>\n",
              "    </tr>\n",
              "    <tr>\n",
              "      <th>119</th>\n",
              "      <td>0</td>\n",
              "      <td>2</td>\n",
              "      <td>0</td>\n",
              "    </tr>\n",
              "    <tr>\n",
              "      <th>122</th>\n",
              "      <td>1</td>\n",
              "      <td>0</td>\n",
              "      <td>0</td>\n",
              "    </tr>\n",
              "    <tr>\n",
              "      <th>124</th>\n",
              "      <td>0</td>\n",
              "      <td>0</td>\n",
              "      <td>1</td>\n",
              "    </tr>\n",
              "    <tr>\n",
              "      <th>127</th>\n",
              "      <td>2</td>\n",
              "      <td>0</td>\n",
              "      <td>0</td>\n",
              "    </tr>\n",
              "    <tr>\n",
              "      <th>130</th>\n",
              "      <td>0</td>\n",
              "      <td>1</td>\n",
              "      <td>0</td>\n",
              "    </tr>\n",
              "    <tr>\n",
              "      <th>132</th>\n",
              "      <td>0</td>\n",
              "      <td>2</td>\n",
              "      <td>0</td>\n",
              "    </tr>\n",
              "    <tr>\n",
              "      <th>135</th>\n",
              "      <td>6</td>\n",
              "      <td>2</td>\n",
              "      <td>0</td>\n",
              "    </tr>\n",
              "    <tr>\n",
              "      <th>143</th>\n",
              "      <td>0</td>\n",
              "      <td>0</td>\n",
              "      <td>3</td>\n",
              "    </tr>\n",
              "    <tr>\n",
              "      <th>149</th>\n",
              "      <td>1</td>\n",
              "      <td>0</td>\n",
              "      <td>0</td>\n",
              "    </tr>\n",
              "    <tr>\n",
              "      <th>160</th>\n",
              "      <td>7</td>\n",
              "      <td>0</td>\n",
              "      <td>0</td>\n",
              "    </tr>\n",
              "    <tr>\n",
              "      <th>169</th>\n",
              "      <td>1</td>\n",
              "      <td>2</td>\n",
              "      <td>0</td>\n",
              "    </tr>\n",
              "    <tr>\n",
              "      <th>174</th>\n",
              "      <td>6</td>\n",
              "      <td>6</td>\n",
              "      <td>0</td>\n",
              "    </tr>\n",
              "    <tr>\n",
              "      <th>177</th>\n",
              "      <td>0</td>\n",
              "      <td>1</td>\n",
              "      <td>0</td>\n",
              "    </tr>\n",
              "    <tr>\n",
              "      <th>198</th>\n",
              "      <td>2</td>\n",
              "      <td>0</td>\n",
              "      <td>0</td>\n",
              "    </tr>\n",
              "    <tr>\n",
              "      <th>199</th>\n",
              "      <td>12</td>\n",
              "      <td>0</td>\n",
              "      <td>2</td>\n",
              "    </tr>\n",
              "    <tr>\n",
              "      <th>200</th>\n",
              "      <td>1</td>\n",
              "      <td>0</td>\n",
              "      <td>0</td>\n",
              "    </tr>\n",
              "    <tr>\n",
              "      <th>211</th>\n",
              "      <td>1</td>\n",
              "      <td>0</td>\n",
              "      <td>0</td>\n",
              "    </tr>\n",
              "    <tr>\n",
              "      <th>214</th>\n",
              "      <td>1</td>\n",
              "      <td>0</td>\n",
              "      <td>0</td>\n",
              "    </tr>\n",
              "    <tr>\n",
              "      <th>218</th>\n",
              "      <td>1</td>\n",
              "      <td>0</td>\n",
              "      <td>0</td>\n",
              "    </tr>\n",
              "    <tr>\n",
              "      <th>219</th>\n",
              "      <td>0</td>\n",
              "      <td>0</td>\n",
              "      <td>1</td>\n",
              "    </tr>\n",
              "    <tr>\n",
              "      <th>220</th>\n",
              "      <td>3</td>\n",
              "      <td>0</td>\n",
              "      <td>0</td>\n",
              "    </tr>\n",
              "    <tr>\n",
              "      <th>222</th>\n",
              "      <td>1</td>\n",
              "      <td>0</td>\n",
              "      <td>0</td>\n",
              "    </tr>\n",
              "    <tr>\n",
              "      <th>223</th>\n",
              "      <td>1</td>\n",
              "      <td>0</td>\n",
              "      <td>0</td>\n",
              "    </tr>\n",
              "    <tr>\n",
              "      <th>...</th>\n",
              "      <td>...</td>\n",
              "      <td>...</td>\n",
              "      <td>...</td>\n",
              "    </tr>\n",
              "    <tr>\n",
              "      <th>A/5</th>\n",
              "      <td>16</td>\n",
              "      <td>0</td>\n",
              "      <td>1</td>\n",
              "    </tr>\n",
              "    <tr>\n",
              "      <th>A/S</th>\n",
              "      <td>1</td>\n",
              "      <td>0</td>\n",
              "      <td>0</td>\n",
              "    </tr>\n",
              "    <tr>\n",
              "      <th>A4.</th>\n",
              "      <td>1</td>\n",
              "      <td>0</td>\n",
              "      <td>0</td>\n",
              "    </tr>\n",
              "    <tr>\n",
              "      <th>C 1</th>\n",
              "      <td>1</td>\n",
              "      <td>0</td>\n",
              "      <td>0</td>\n",
              "    </tr>\n",
              "    <tr>\n",
              "      <th>C 4</th>\n",
              "      <td>1</td>\n",
              "      <td>0</td>\n",
              "      <td>0</td>\n",
              "    </tr>\n",
              "    <tr>\n",
              "      <th>C 7</th>\n",
              "      <td>3</td>\n",
              "      <td>0</td>\n",
              "      <td>0</td>\n",
              "    </tr>\n",
              "    <tr>\n",
              "      <th>C.A</th>\n",
              "      <td>28</td>\n",
              "      <td>0</td>\n",
              "      <td>0</td>\n",
              "    </tr>\n",
              "    <tr>\n",
              "      <th>CA</th>\n",
              "      <td>6</td>\n",
              "      <td>0</td>\n",
              "      <td>0</td>\n",
              "    </tr>\n",
              "    <tr>\n",
              "      <th>CA.</th>\n",
              "      <td>8</td>\n",
              "      <td>0</td>\n",
              "      <td>0</td>\n",
              "    </tr>\n",
              "    <tr>\n",
              "      <th>F.C</th>\n",
              "      <td>6</td>\n",
              "      <td>0</td>\n",
              "      <td>0</td>\n",
              "    </tr>\n",
              "    <tr>\n",
              "      <th>Fa</th>\n",
              "      <td>1</td>\n",
              "      <td>0</td>\n",
              "      <td>0</td>\n",
              "    </tr>\n",
              "    <tr>\n",
              "      <th>LIN</th>\n",
              "      <td>4</td>\n",
              "      <td>0</td>\n",
              "      <td>0</td>\n",
              "    </tr>\n",
              "    <tr>\n",
              "      <th>P/P</th>\n",
              "      <td>0</td>\n",
              "      <td>2</td>\n",
              "      <td>0</td>\n",
              "    </tr>\n",
              "    <tr>\n",
              "      <th>PC</th>\n",
              "      <td>14</td>\n",
              "      <td>46</td>\n",
              "      <td>0</td>\n",
              "    </tr>\n",
              "    <tr>\n",
              "      <th>PP</th>\n",
              "      <td>3</td>\n",
              "      <td>0</td>\n",
              "      <td>0</td>\n",
              "    </tr>\n",
              "    <tr>\n",
              "      <th>S.C</th>\n",
              "      <td>1</td>\n",
              "      <td>2</td>\n",
              "      <td>0</td>\n",
              "    </tr>\n",
              "    <tr>\n",
              "      <th>S.O</th>\n",
              "      <td>9</td>\n",
              "      <td>0</td>\n",
              "      <td>0</td>\n",
              "    </tr>\n",
              "    <tr>\n",
              "      <th>S.P</th>\n",
              "      <td>1</td>\n",
              "      <td>0</td>\n",
              "      <td>0</td>\n",
              "    </tr>\n",
              "    <tr>\n",
              "      <th>S.W</th>\n",
              "      <td>1</td>\n",
              "      <td>0</td>\n",
              "      <td>0</td>\n",
              "    </tr>\n",
              "    <tr>\n",
              "      <th>SC</th>\n",
              "      <td>0</td>\n",
              "      <td>1</td>\n",
              "      <td>0</td>\n",
              "    </tr>\n",
              "    <tr>\n",
              "      <th>SC/</th>\n",
              "      <td>2</td>\n",
              "      <td>10</td>\n",
              "      <td>0</td>\n",
              "    </tr>\n",
              "    <tr>\n",
              "      <th>SCO</th>\n",
              "      <td>1</td>\n",
              "      <td>0</td>\n",
              "      <td>0</td>\n",
              "    </tr>\n",
              "    <tr>\n",
              "      <th>SO/</th>\n",
              "      <td>1</td>\n",
              "      <td>0</td>\n",
              "      <td>0</td>\n",
              "    </tr>\n",
              "    <tr>\n",
              "      <th>SOT</th>\n",
              "      <td>17</td>\n",
              "      <td>0</td>\n",
              "      <td>0</td>\n",
              "    </tr>\n",
              "    <tr>\n",
              "      <th>STO</th>\n",
              "      <td>18</td>\n",
              "      <td>0</td>\n",
              "      <td>0</td>\n",
              "    </tr>\n",
              "    <tr>\n",
              "      <th>SW/</th>\n",
              "      <td>1</td>\n",
              "      <td>0</td>\n",
              "      <td>0</td>\n",
              "    </tr>\n",
              "    <tr>\n",
              "      <th>W./</th>\n",
              "      <td>9</td>\n",
              "      <td>0</td>\n",
              "      <td>0</td>\n",
              "    </tr>\n",
              "    <tr>\n",
              "      <th>W.E</th>\n",
              "      <td>1</td>\n",
              "      <td>0</td>\n",
              "      <td>0</td>\n",
              "    </tr>\n",
              "    <tr>\n",
              "      <th>W/C</th>\n",
              "      <td>1</td>\n",
              "      <td>0</td>\n",
              "      <td>0</td>\n",
              "    </tr>\n",
              "    <tr>\n",
              "      <th>WE/</th>\n",
              "      <td>2</td>\n",
              "      <td>0</td>\n",
              "      <td>0</td>\n",
              "    </tr>\n",
              "  </tbody>\n",
              "</table>\n",
              "<p>154 rows × 3 columns</p>\n",
              "</div>"
            ],
            "text/plain": [
              "Embarked   0   1  2\n",
              "Ticket3            \n",
              "110        9   1  0\n",
              "111        4   4  0\n",
              "112        5   2  0\n",
              "113       43   4  0\n",
              "116        2   0  0\n",
              "117        5   6  0\n",
              "118        0   1  0\n",
              "119        0   2  0\n",
              "122        1   0  0\n",
              "124        0   0  1\n",
              "127        2   0  0\n",
              "130        0   1  0\n",
              "132        0   2  0\n",
              "135        6   2  0\n",
              "143        0   0  3\n",
              "149        1   0  0\n",
              "160        7   0  0\n",
              "169        1   2  0\n",
              "174        6   6  0\n",
              "177        0   1  0\n",
              "198        2   0  0\n",
              "199       12   0  2\n",
              "200        1   0  0\n",
              "211        1   0  0\n",
              "214        1   0  0\n",
              "218        1   0  0\n",
              "219        0   0  1\n",
              "220        3   0  0\n",
              "222        1   0  0\n",
              "223        1   0  0\n",
              "...       ..  .. ..\n",
              "A/5       16   0  1\n",
              "A/S        1   0  0\n",
              "A4.        1   0  0\n",
              "C 1        1   0  0\n",
              "C 4        1   0  0\n",
              "C 7        3   0  0\n",
              "C.A       28   0  0\n",
              "CA         6   0  0\n",
              "CA.        8   0  0\n",
              "F.C        6   0  0\n",
              "Fa         1   0  0\n",
              "LIN        4   0  0\n",
              "P/P        0   2  0\n",
              "PC        14  46  0\n",
              "PP         3   0  0\n",
              "S.C        1   2  0\n",
              "S.O        9   0  0\n",
              "S.P        1   0  0\n",
              "S.W        1   0  0\n",
              "SC         0   1  0\n",
              "SC/        2  10  0\n",
              "SCO        1   0  0\n",
              "SO/        1   0  0\n",
              "SOT       17   0  0\n",
              "STO       18   0  0\n",
              "SW/        1   0  0\n",
              "W./        9   0  0\n",
              "W.E        1   0  0\n",
              "W/C        1   0  0\n",
              "WE/        2   0  0\n",
              "\n",
              "[154 rows x 3 columns]"
            ]
          },
          "metadata": {
            "tags": []
          },
          "execution_count": 193
        }
      ]
    },
    {
      "cell_type": "code",
      "metadata": {
        "id": "5nZZ2QwTckR6",
        "outputId": "a6c1d40c-948a-412b-fd83-bff1993ce29f",
        "colab": {
          "base_uri": "https://localhost:8080/",
          "height": 615
        }
      },
      "source": [
        "# 문자가 들어간 티켓이 많음\n",
        "Ticket_Embarked[Ticket_Embarked[1] > 0][1]"
      ],
      "execution_count": null,
      "outputs": [
        {
          "output_type": "execute_result",
          "data": {
            "text/plain": [
              "Ticket3\n",
              "110     1\n",
              "111     4\n",
              "112     2\n",
              "113     4\n",
              "117     6\n",
              "118     1\n",
              "119     2\n",
              "130     1\n",
              "132     2\n",
              "135     2\n",
              "169     2\n",
              "174     6\n",
              "177     1\n",
              "237     2\n",
              "262     9\n",
              "263     1\n",
              "264     4\n",
              "265     7\n",
              "266    15\n",
              "267     6\n",
              "268     6\n",
              "269     9\n",
              "270     1\n",
              "341     1\n",
              "349     7\n",
              "352     3\n",
              "369     2\n",
              "P/P     2\n",
              "PC     46\n",
              "S.C     2\n",
              "SC      1\n",
              "SC/    10\n",
              "Name: 1, dtype: int64"
            ]
          },
          "metadata": {
            "tags": []
          },
          "execution_count": 194
        }
      ]
    },
    {
      "cell_type": "code",
      "metadata": {
        "id": "cx86xmlfckR8",
        "outputId": "8bdc5228-6224-42db-bc83-34fa7603a8d5",
        "colab": {
          "base_uri": "https://localhost:8080/",
          "height": 496
        }
      },
      "source": [
        "Ticket_Embarked[Ticket_Embarked[2] > 0][2]"
      ],
      "execution_count": null,
      "outputs": [
        {
          "output_type": "execute_result",
          "data": {
            "text/plain": [
              "Ticket3\n",
              "124     1\n",
              "143     3\n",
              "199     2\n",
              "219     1\n",
              "226     1\n",
              "234     1\n",
              "330    11\n",
              "334     1\n",
              "335     2\n",
              "336     1\n",
              "358     2\n",
              "362     1\n",
              "364     6\n",
              "365     3\n",
              "367     9\n",
              "368     5\n",
              "370    10\n",
              "371     4\n",
              "372     1\n",
              "382     7\n",
              "383     1\n",
              "384     1\n",
              "394     1\n",
              "923     1\n",
              "A/5     1\n",
              "Name: 2, dtype: int64"
            ]
          },
          "metadata": {
            "tags": []
          },
          "execution_count": 195
        }
      ]
    },
    {
      "cell_type": "code",
      "metadata": {
        "scrolled": true,
        "id": "5W-LwH9ickR9",
        "outputId": "18c6d3f3-067b-447a-86e3-d9aeb7e9f43d",
        "colab": {
          "base_uri": "https://localhost:8080/",
          "height": 1108
        }
      },
      "source": [
        "Ticket_Embarked[Ticket_Embarked[0] > 0][0]"
      ],
      "execution_count": null,
      "outputs": [
        {
          "output_type": "execute_result",
          "data": {
            "text/plain": [
              "Ticket3\n",
              "110     9\n",
              "111     4\n",
              "112     5\n",
              "113    43\n",
              "116     2\n",
              "117     5\n",
              "122     1\n",
              "127     2\n",
              "135     6\n",
              "149     1\n",
              "160     7\n",
              "169     1\n",
              "174     6\n",
              "198     2\n",
              "199    12\n",
              "200     1\n",
              "211     1\n",
              "214     1\n",
              "218     1\n",
              "220     3\n",
              "222     1\n",
              "223     1\n",
              "226     1\n",
              "228     1\n",
              "229     1\n",
              "230     8\n",
              "231     3\n",
              "233     2\n",
              "234     3\n",
              "236     3\n",
              "       ..\n",
              "A.5     2\n",
              "A/4     6\n",
              "A/5    16\n",
              "A/S     1\n",
              "A4.     1\n",
              "C 1     1\n",
              "C 4     1\n",
              "C 7     3\n",
              "C.A    28\n",
              "CA      6\n",
              "CA.     8\n",
              "F.C     6\n",
              "Fa      1\n",
              "LIN     4\n",
              "PC     14\n",
              "PP      3\n",
              "S.C     1\n",
              "S.O     9\n",
              "S.P     1\n",
              "S.W     1\n",
              "SC/     2\n",
              "SCO     1\n",
              "SO/     1\n",
              "SOT    17\n",
              "STO    18\n",
              "SW/     1\n",
              "W./     9\n",
              "W.E     1\n",
              "W/C     1\n",
              "WE/     2\n",
              "Name: 0, Length: 126, dtype: int64"
            ]
          },
          "metadata": {
            "tags": []
          },
          "execution_count": 196
        }
      ]
    },
    {
      "cell_type": "markdown",
      "metadata": {
        "id": "JEbHsmipckR-"
      },
      "source": [
        "# TicketDivided feature 생성"
      ]
    },
    {
      "cell_type": "code",
      "metadata": {
        "scrolled": false,
        "id": "55WSGfwickR-",
        "outputId": "2be923a0-9aea-4c28-f3fe-160171194062",
        "colab": {
          "base_uri": "https://localhost:8080/",
          "height": 496
        }
      },
      "source": [
        "for data in all_data:\n",
        "    data['TicketDivided'] = data.loc[(data['Pclass'] == 1) & (data['Embarked'] == 0), 'Ticket'] = 0\n",
        "    data['TicketDivided'] = data.loc[(data['Pclass'] == 2) & (data['Embarked'] == 0), 'Ticket'] = 1\n",
        "    data['TicketDivided'] = data.loc[(data['Pclass'] == 3) & (data['Embarked'] == 0), 'Ticket'] = 2\n",
        "    data['TicketDivided'] = data.loc[(data['Pclass'] == 1) & (data['Embarked'] == 1), 'Ticket'] = 3\n",
        "    data['TicketDivided'] = data.loc[(data['Pclass'] == 2) & (data['Embarked'] == 1), 'Ticket'] = 4\n",
        "    data['TicketDivided'] = data.loc[(data['Pclass'] == 3) & (data['Embarked'] == 1), 'Ticket'] = 5\n",
        "    data['TicketDivided'] = data.loc[(data['Pclass'] == 1) & (data['Embarked'] == 2), 'Ticket'] = 6\n",
        "    data['TicketDivided'] = data.loc[(data['Pclass'] == 2) & (data['Embarked'] == 2), 'Ticket'] = 7\n",
        "    data['TicketDivided'] = data.loc[(data['Pclass'] == 3) & (data['Embarked'] == 2), 'Ticket'] = 8\n",
        "\n",
        "all_data = [train, test]\n",
        "train.head()"
      ],
      "execution_count": null,
      "outputs": [
        {
          "output_type": "execute_result",
          "data": {
            "text/html": [
              "<div>\n",
              "<style scoped>\n",
              "    .dataframe tbody tr th:only-of-type {\n",
              "        vertical-align: middle;\n",
              "    }\n",
              "\n",
              "    .dataframe tbody tr th {\n",
              "        vertical-align: top;\n",
              "    }\n",
              "\n",
              "    .dataframe thead th {\n",
              "        text-align: right;\n",
              "    }\n",
              "</style>\n",
              "<table border=\"1\" class=\"dataframe\">\n",
              "  <thead>\n",
              "    <tr style=\"text-align: right;\">\n",
              "      <th></th>\n",
              "      <th>PassengerId</th>\n",
              "      <th>Survived</th>\n",
              "      <th>Pclass</th>\n",
              "      <th>Name</th>\n",
              "      <th>Sex</th>\n",
              "      <th>Age</th>\n",
              "      <th>SibSp</th>\n",
              "      <th>Parch</th>\n",
              "      <th>Ticket</th>\n",
              "      <th>Fare</th>\n",
              "      <th>Cabin</th>\n",
              "      <th>Embarked</th>\n",
              "      <th>FamilySize</th>\n",
              "      <th>Alone</th>\n",
              "      <th>FirstName</th>\n",
              "      <th>FareDivided</th>\n",
              "      <th>FareHigh</th>\n",
              "      <th>CabinNull</th>\n",
              "      <th>Title</th>\n",
              "      <th>AgeDivided</th>\n",
              "      <th>Ticket3</th>\n",
              "      <th>TicketDivided</th>\n",
              "    </tr>\n",
              "  </thead>\n",
              "  <tbody>\n",
              "    <tr>\n",
              "      <th>0</th>\n",
              "      <td>1</td>\n",
              "      <td>0</td>\n",
              "      <td>3</td>\n",
              "      <td>Braund, Mr. Owen Harris</td>\n",
              "      <td>1</td>\n",
              "      <td>22.0</td>\n",
              "      <td>1</td>\n",
              "      <td>0</td>\n",
              "      <td>2</td>\n",
              "      <td>7.2500</td>\n",
              "      <td>-1.0</td>\n",
              "      <td>0</td>\n",
              "      <td>2</td>\n",
              "      <td>0</td>\n",
              "      <td>38</td>\n",
              "      <td>0</td>\n",
              "      <td>0</td>\n",
              "      <td>1</td>\n",
              "      <td>0</td>\n",
              "      <td>1</td>\n",
              "      <td>A/5</td>\n",
              "      <td>8</td>\n",
              "    </tr>\n",
              "    <tr>\n",
              "      <th>1</th>\n",
              "      <td>2</td>\n",
              "      <td>1</td>\n",
              "      <td>1</td>\n",
              "      <td>Cumings, Mrs. John Bradley (Florence Briggs Th...</td>\n",
              "      <td>0</td>\n",
              "      <td>38.0</td>\n",
              "      <td>1</td>\n",
              "      <td>0</td>\n",
              "      <td>3</td>\n",
              "      <td>71.2833</td>\n",
              "      <td>2.0</td>\n",
              "      <td>1</td>\n",
              "      <td>2</td>\n",
              "      <td>0</td>\n",
              "      <td>-1</td>\n",
              "      <td>3</td>\n",
              "      <td>1</td>\n",
              "      <td>0</td>\n",
              "      <td>2</td>\n",
              "      <td>2</td>\n",
              "      <td>PC</td>\n",
              "      <td>8</td>\n",
              "    </tr>\n",
              "    <tr>\n",
              "      <th>2</th>\n",
              "      <td>3</td>\n",
              "      <td>1</td>\n",
              "      <td>3</td>\n",
              "      <td>Heikkinen, Miss. Laina</td>\n",
              "      <td>0</td>\n",
              "      <td>26.0</td>\n",
              "      <td>0</td>\n",
              "      <td>0</td>\n",
              "      <td>2</td>\n",
              "      <td>7.9250</td>\n",
              "      <td>-1.0</td>\n",
              "      <td>0</td>\n",
              "      <td>1</td>\n",
              "      <td>1</td>\n",
              "      <td>-1</td>\n",
              "      <td>1</td>\n",
              "      <td>0</td>\n",
              "      <td>1</td>\n",
              "      <td>1</td>\n",
              "      <td>1</td>\n",
              "      <td>STO</td>\n",
              "      <td>8</td>\n",
              "    </tr>\n",
              "    <tr>\n",
              "      <th>3</th>\n",
              "      <td>4</td>\n",
              "      <td>1</td>\n",
              "      <td>1</td>\n",
              "      <td>Futrelle, Mrs. Jacques Heath (Lily May Peel)</td>\n",
              "      <td>0</td>\n",
              "      <td>35.0</td>\n",
              "      <td>1</td>\n",
              "      <td>0</td>\n",
              "      <td>0</td>\n",
              "      <td>53.1000</td>\n",
              "      <td>2.0</td>\n",
              "      <td>0</td>\n",
              "      <td>2</td>\n",
              "      <td>0</td>\n",
              "      <td>8</td>\n",
              "      <td>3</td>\n",
              "      <td>1</td>\n",
              "      <td>0</td>\n",
              "      <td>2</td>\n",
              "      <td>2</td>\n",
              "      <td>113</td>\n",
              "      <td>8</td>\n",
              "    </tr>\n",
              "    <tr>\n",
              "      <th>4</th>\n",
              "      <td>5</td>\n",
              "      <td>0</td>\n",
              "      <td>3</td>\n",
              "      <td>Allen, Mr. William Henry</td>\n",
              "      <td>1</td>\n",
              "      <td>35.0</td>\n",
              "      <td>0</td>\n",
              "      <td>0</td>\n",
              "      <td>2</td>\n",
              "      <td>8.0500</td>\n",
              "      <td>-1.0</td>\n",
              "      <td>0</td>\n",
              "      <td>1</td>\n",
              "      <td>1</td>\n",
              "      <td>125</td>\n",
              "      <td>1</td>\n",
              "      <td>0</td>\n",
              "      <td>1</td>\n",
              "      <td>0</td>\n",
              "      <td>2</td>\n",
              "      <td>373</td>\n",
              "      <td>8</td>\n",
              "    </tr>\n",
              "  </tbody>\n",
              "</table>\n",
              "</div>"
            ],
            "text/plain": [
              "   PassengerId  Survived  Pclass  ... AgeDivided  Ticket3  TicketDivided\n",
              "0            1         0       3  ...          1      A/5              8\n",
              "1            2         1       1  ...          2      PC               8\n",
              "2            3         1       3  ...          1      STO              8\n",
              "3            4         1       1  ...          2      113              8\n",
              "4            5         0       3  ...          2      373              8\n",
              "\n",
              "[5 rows x 22 columns]"
            ]
          },
          "metadata": {
            "tags": []
          },
          "execution_count": 197
        }
      ]
    },
    {
      "cell_type": "markdown",
      "metadata": {
        "id": "fFkVIKB1ckR_"
      },
      "source": [
        "# Is_young 속성 추가하기"
      ]
    },
    {
      "cell_type": "code",
      "metadata": {
        "id": "eyV82u1hckR_"
      },
      "source": [
        "# 12세로 설정한 이유는 Master의 max가 12세였음.\n",
        "train['Is_young']=((train['Age']<=12)&(train['Age']>=0)).astype(int)\n",
        "test['Is_young']=((test['Age']<=12)&(test['Age']>=0)).astype(int)"
      ],
      "execution_count": null,
      "outputs": []
    },
    {
      "cell_type": "code",
      "metadata": {
        "id": "x8TaWjMrckSA",
        "outputId": "87436ffa-c9e6-463a-d6df-dde0e2cb1e10",
        "colab": {
          "base_uri": "https://localhost:8080/",
          "height": 496
        }
      },
      "source": [
        "train.head()"
      ],
      "execution_count": null,
      "outputs": [
        {
          "output_type": "execute_result",
          "data": {
            "text/html": [
              "<div>\n",
              "<style scoped>\n",
              "    .dataframe tbody tr th:only-of-type {\n",
              "        vertical-align: middle;\n",
              "    }\n",
              "\n",
              "    .dataframe tbody tr th {\n",
              "        vertical-align: top;\n",
              "    }\n",
              "\n",
              "    .dataframe thead th {\n",
              "        text-align: right;\n",
              "    }\n",
              "</style>\n",
              "<table border=\"1\" class=\"dataframe\">\n",
              "  <thead>\n",
              "    <tr style=\"text-align: right;\">\n",
              "      <th></th>\n",
              "      <th>PassengerId</th>\n",
              "      <th>Survived</th>\n",
              "      <th>Pclass</th>\n",
              "      <th>Name</th>\n",
              "      <th>Sex</th>\n",
              "      <th>Age</th>\n",
              "      <th>SibSp</th>\n",
              "      <th>Parch</th>\n",
              "      <th>Ticket</th>\n",
              "      <th>Fare</th>\n",
              "      <th>Cabin</th>\n",
              "      <th>Embarked</th>\n",
              "      <th>FamilySize</th>\n",
              "      <th>Alone</th>\n",
              "      <th>FirstName</th>\n",
              "      <th>FareDivided</th>\n",
              "      <th>FareHigh</th>\n",
              "      <th>CabinNull</th>\n",
              "      <th>Title</th>\n",
              "      <th>AgeDivided</th>\n",
              "      <th>Ticket3</th>\n",
              "      <th>TicketDivided</th>\n",
              "      <th>Is_young</th>\n",
              "    </tr>\n",
              "  </thead>\n",
              "  <tbody>\n",
              "    <tr>\n",
              "      <th>0</th>\n",
              "      <td>1</td>\n",
              "      <td>0</td>\n",
              "      <td>3</td>\n",
              "      <td>Braund, Mr. Owen Harris</td>\n",
              "      <td>1</td>\n",
              "      <td>22.0</td>\n",
              "      <td>1</td>\n",
              "      <td>0</td>\n",
              "      <td>2</td>\n",
              "      <td>7.2500</td>\n",
              "      <td>-1.0</td>\n",
              "      <td>0</td>\n",
              "      <td>2</td>\n",
              "      <td>0</td>\n",
              "      <td>38</td>\n",
              "      <td>0</td>\n",
              "      <td>0</td>\n",
              "      <td>1</td>\n",
              "      <td>0</td>\n",
              "      <td>1</td>\n",
              "      <td>A/5</td>\n",
              "      <td>8</td>\n",
              "      <td>0</td>\n",
              "    </tr>\n",
              "    <tr>\n",
              "      <th>1</th>\n",
              "      <td>2</td>\n",
              "      <td>1</td>\n",
              "      <td>1</td>\n",
              "      <td>Cumings, Mrs. John Bradley (Florence Briggs Th...</td>\n",
              "      <td>0</td>\n",
              "      <td>38.0</td>\n",
              "      <td>1</td>\n",
              "      <td>0</td>\n",
              "      <td>3</td>\n",
              "      <td>71.2833</td>\n",
              "      <td>2.0</td>\n",
              "      <td>1</td>\n",
              "      <td>2</td>\n",
              "      <td>0</td>\n",
              "      <td>-1</td>\n",
              "      <td>3</td>\n",
              "      <td>1</td>\n",
              "      <td>0</td>\n",
              "      <td>2</td>\n",
              "      <td>2</td>\n",
              "      <td>PC</td>\n",
              "      <td>8</td>\n",
              "      <td>0</td>\n",
              "    </tr>\n",
              "    <tr>\n",
              "      <th>2</th>\n",
              "      <td>3</td>\n",
              "      <td>1</td>\n",
              "      <td>3</td>\n",
              "      <td>Heikkinen, Miss. Laina</td>\n",
              "      <td>0</td>\n",
              "      <td>26.0</td>\n",
              "      <td>0</td>\n",
              "      <td>0</td>\n",
              "      <td>2</td>\n",
              "      <td>7.9250</td>\n",
              "      <td>-1.0</td>\n",
              "      <td>0</td>\n",
              "      <td>1</td>\n",
              "      <td>1</td>\n",
              "      <td>-1</td>\n",
              "      <td>1</td>\n",
              "      <td>0</td>\n",
              "      <td>1</td>\n",
              "      <td>1</td>\n",
              "      <td>1</td>\n",
              "      <td>STO</td>\n",
              "      <td>8</td>\n",
              "      <td>0</td>\n",
              "    </tr>\n",
              "    <tr>\n",
              "      <th>3</th>\n",
              "      <td>4</td>\n",
              "      <td>1</td>\n",
              "      <td>1</td>\n",
              "      <td>Futrelle, Mrs. Jacques Heath (Lily May Peel)</td>\n",
              "      <td>0</td>\n",
              "      <td>35.0</td>\n",
              "      <td>1</td>\n",
              "      <td>0</td>\n",
              "      <td>0</td>\n",
              "      <td>53.1000</td>\n",
              "      <td>2.0</td>\n",
              "      <td>0</td>\n",
              "      <td>2</td>\n",
              "      <td>0</td>\n",
              "      <td>8</td>\n",
              "      <td>3</td>\n",
              "      <td>1</td>\n",
              "      <td>0</td>\n",
              "      <td>2</td>\n",
              "      <td>2</td>\n",
              "      <td>113</td>\n",
              "      <td>8</td>\n",
              "      <td>0</td>\n",
              "    </tr>\n",
              "    <tr>\n",
              "      <th>4</th>\n",
              "      <td>5</td>\n",
              "      <td>0</td>\n",
              "      <td>3</td>\n",
              "      <td>Allen, Mr. William Henry</td>\n",
              "      <td>1</td>\n",
              "      <td>35.0</td>\n",
              "      <td>0</td>\n",
              "      <td>0</td>\n",
              "      <td>2</td>\n",
              "      <td>8.0500</td>\n",
              "      <td>-1.0</td>\n",
              "      <td>0</td>\n",
              "      <td>1</td>\n",
              "      <td>1</td>\n",
              "      <td>125</td>\n",
              "      <td>1</td>\n",
              "      <td>0</td>\n",
              "      <td>1</td>\n",
              "      <td>0</td>\n",
              "      <td>2</td>\n",
              "      <td>373</td>\n",
              "      <td>8</td>\n",
              "      <td>0</td>\n",
              "    </tr>\n",
              "  </tbody>\n",
              "</table>\n",
              "</div>"
            ],
            "text/plain": [
              "   PassengerId  Survived  Pclass  ... Ticket3  TicketDivided  Is_young\n",
              "0            1         0       3  ...     A/5              8         0\n",
              "1            2         1       1  ...     PC               8         0\n",
              "2            3         1       3  ...     STO              8         0\n",
              "3            4         1       1  ...     113              8         0\n",
              "4            5         0       3  ...     373              8         0\n",
              "\n",
              "[5 rows x 23 columns]"
            ]
          },
          "metadata": {
            "tags": []
          },
          "execution_count": 199
        }
      ]
    },
    {
      "cell_type": "markdown",
      "metadata": {
        "id": "O8MPBb0-ckSA"
      },
      "source": [
        "# 예측하기"
      ]
    },
    {
      "cell_type": "code",
      "metadata": {
        "id": "04IznK6uckSB",
        "outputId": "14f1cfb6-1aa5-45ce-aa08-f94e63169e1f",
        "colab": {
          "base_uri": "https://localhost:8080/",
          "height": 122
        }
      },
      "source": [
        "train.columns"
      ],
      "execution_count": null,
      "outputs": [
        {
          "output_type": "execute_result",
          "data": {
            "text/plain": [
              "Index(['PassengerId', 'Survived', 'Pclass', 'Name', 'Sex', 'Age', 'SibSp',\n",
              "       'Parch', 'Ticket', 'Fare', 'Cabin', 'Embarked', 'FamilySize', 'Alone',\n",
              "       'FirstName', 'FareDivided', 'FareHigh', 'CabinNull', 'Title',\n",
              "       'AgeDivided', 'Ticket3', 'TicketDivided', 'Is_young'],\n",
              "      dtype='object')"
            ]
          },
          "metadata": {
            "tags": []
          },
          "execution_count": 200
        }
      ]
    },
    {
      "cell_type": "code",
      "metadata": {
        "id": "g4HUjzmbckSB"
      },
      "source": [
        "X_train = train[['Pclass', 'Sex', 'Age', 'SibSp',\n",
        "       'Parch', 'Fare', 'Cabin', 'Embarked', 'FamilySize', 'Alone',\n",
        "       'FirstName', 'FareDivided', 'FareHigh', 'CabinNull', 'Title',\n",
        "       'AgeDivided', 'TicketDivided', 'Is_young']]\n",
        "y_train = train['Survived']\n",
        "\n",
        "\n",
        "X_test = test[['Pclass', 'Sex', 'Age', 'SibSp',\n",
        "       'Parch', 'Fare', 'Cabin', 'Embarked', 'FamilySize', 'Alone',\n",
        "       'FirstName', 'FareDivided', 'FareHigh', 'CabinNull', 'Title',\n",
        "       'AgeDivided', 'TicketDivided', 'Is_young']]\n",
        "\n",
        "\n",
        "random_forest = RandomForestClassifier( max_depth=7 , max_features=4 , n_estimators=1400 )\n",
        "random_forest.fit(X_train,y_train)\n",
        "\n",
        "test['Survived']=random_forest.predict_proba(X_test)[:,1]\n",
        "\n",
        "test[['PassengerId','Survived']].to_csv(\"dacon_baseline.csv\",index=False)\n",
        "\n"
      ],
      "execution_count": null,
      "outputs": []
    },
    {
      "cell_type": "markdown",
      "metadata": {
        "id": "2pQPw9ZGlVsk"
      },
      "source": [
        "# 피드백\n",
        "\n",
        "최인영님의 점수는 상위 25.6% 입니다.\n",
        "\n",
        "최인영님의 제출 수는 상위 16.3% 입니다.\n",
        "\n",
        "대부분의 학생들보다 많은 실험과 검증 그리고 데이터에 대한 깊은 생각을 하신 것 같습니다. 또한 영상에서 보여 준 시각화 외에도 다양한 시각화를 하셨고 데이터에 대한 깊은 생각도 해본 것이 인상 깊습니다.\n",
        "\n",
        "다만, 굳이 부족한 부분을 한가지 뽑자면 필요없는 셀들이 남아있는 것이 보입니다.  최종적으로 쓸모있는 변수들을 더 쉽고 정확하게 골라내기 위하여 정리만 살짝 추가해주시면 더욱 완벽한 데이터 사이언티스트가 되실 수 있으실 것 같습니다\n",
        "\n",
        "고생하셨습니다 :)\n",
        "\n",
        "\n",
        "## 1.Data Cleansing\n",
        "100%\n",
        "## 2.Visualization\n",
        "100%\n",
        "## 3.Feature Engineering\n",
        "100%\n",
        "## 4.Model Building\n",
        "100%\n"
      ]
    },
    {
      "cell_type": "code",
      "metadata": {
        "id": "-G4bcpB6oQD8"
      },
      "source": [],
      "execution_count": null,
      "outputs": []
    }
  ]
}